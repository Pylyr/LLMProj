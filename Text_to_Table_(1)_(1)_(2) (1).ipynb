{
  "nbformat": 4,
  "nbformat_minor": 0,
  "metadata": {
    "colab": {
      "provenance": [],
      "gpuType": "T4"
    },
    "kernelspec": {
      "name": "python3",
      "display_name": "Python 3"
    },
    "language_info": {
      "name": "python"
    },
    "accelerator": "GPU"
  },
  "cells": [
    {
      "cell_type": "code",
      "execution_count": 1,
      "metadata": {
        "id": "dvzCsA56XdGC",
        "colab": {
          "base_uri": "https://localhost:8080/"
        },
        "outputId": "8d50cf90-6c78-4c78-f648-59de61345f1f"
      },
      "outputs": [
        {
          "output_type": "stream",
          "name": "stdout",
          "text": [
            "Cloning into 'text_to_table'...\n",
            "remote: Enumerating objects: 126, done.\u001b[K\n",
            "remote: Counting objects: 100% (126/126), done.\u001b[K\n",
            "remote: Compressing objects: 100% (88/88), done.\u001b[K\n",
            "remote: Total 126 (delta 53), reused 92 (delta 33), pack-reused 0 (from 0)\u001b[K\n",
            "Receiving objects: 100% (126/126), 58.59 KiB | 3.91 MiB/s, done.\n",
            "Resolving deltas: 100% (53/53), done.\n"
          ]
        }
      ],
      "source": [
        "!git clone https://github.com/shirley-wu/text_to_table.git\n",
        "# % cd text_to_table"
      ]
    },
    {
      "cell_type": "code",
      "source": [
        "%cd /content/\n",
        "!gdown \"https://drive.google.com/uc?id=1zTfDFCl1nf_giX7IniY5WbXi9tAuEHDn\""
      ],
      "metadata": {
        "colab": {
          "base_uri": "https://localhost:8080/"
        },
        "id": "TBNvLgyBjM6q",
        "outputId": "8c15db89-6f47-49b4-fa51-9d5c95f093be"
      },
      "execution_count": 2,
      "outputs": [
        {
          "output_type": "stream",
          "name": "stdout",
          "text": [
            "/content\n",
            "Downloading...\n",
            "From (original): https://drive.google.com/uc?id=1zTfDFCl1nf_giX7IniY5WbXi9tAuEHDn\n",
            "From (redirected): https://drive.google.com/uc?id=1zTfDFCl1nf_giX7IniY5WbXi9tAuEHDn&confirm=t&uuid=478c0bee-4441-4238-a42b-90e50ba6afd3\n",
            "To: /content/data_release.zip\n",
            "100% 173M/173M [00:04<00:00, 38.9MB/s]\n"
          ]
        }
      ]
    },
    {
      "cell_type": "code",
      "source": [
        "from google.colab import drive\n",
        "drive.mount('/content/drive', force_remount=True)\n",
        "\n"
      ],
      "metadata": {
        "colab": {
          "base_uri": "https://localhost:8080/"
        },
        "id": "4zKwYSs2YBiK",
        "outputId": "e37b55c1-95d5-48b4-9ba3-d1ade4f4be7d"
      },
      "execution_count": 3,
      "outputs": [
        {
          "output_type": "stream",
          "name": "stdout",
          "text": [
            "Mounted at /content/drive\n"
          ]
        }
      ]
    },
    {
      "cell_type": "code",
      "source": [
        "!tar -xzvf /content/drive/MyDrive/bart.base.tar.gz -C /content/\n"
      ],
      "metadata": {
        "colab": {
          "base_uri": "https://localhost:8080/"
        },
        "id": "ONBrP1FgYxXe",
        "outputId": "cce45804-d6b2-4e1d-a01e-8e5c0ca87615"
      },
      "execution_count": 4,
      "outputs": [
        {
          "output_type": "stream",
          "name": "stdout",
          "text": [
            "bart.base/\n",
            "bart.base/dict.txt\n",
            "bart.base/NOTE\n",
            "bart.base/model.pt\n"
          ]
        }
      ]
    },
    {
      "cell_type": "code",
      "source": [
        "!unzip /content/data_release.zip -d /content/text_to_table/"
      ],
      "metadata": {
        "colab": {
          "base_uri": "https://localhost:8080/"
        },
        "id": "kuzJPhqPjfYV",
        "outputId": "9b0fac66-2ae7-4809-9bc5-622ab9c4b086"
      },
      "execution_count": 5,
      "outputs": [
        {
          "output_type": "stream",
          "name": "stdout",
          "text": [
            "Archive:  /content/data_release.zip\n",
            "   creating: /content/text_to_table/data/\n",
            "   creating: /content/text_to_table/data/e2e/\n",
            "  inflating: /content/text_to_table/data/e2e/test.data  \n",
            "  inflating: /content/text_to_table/data/e2e/test.text  \n",
            "  inflating: /content/text_to_table/data/e2e/train.data  \n",
            "  inflating: /content/text_to_table/data/e2e/train.text  \n",
            "  inflating: /content/text_to_table/data/e2e/valid.data  \n",
            "  inflating: /content/text_to_table/data/e2e/valid.text  \n",
            "   creating: /content/text_to_table/data/rotowire/\n",
            "  inflating: /content/text_to_table/data/rotowire/test.data  \n",
            "  inflating: /content/text_to_table/data/rotowire/test.text  \n",
            "  inflating: /content/text_to_table/data/rotowire/train.data  \n",
            "  inflating: /content/text_to_table/data/rotowire/train.text  \n",
            "  inflating: /content/text_to_table/data/rotowire/valid.data  \n",
            "  inflating: /content/text_to_table/data/rotowire/valid.text  \n",
            "   creating: /content/text_to_table/data/wikibio/\n",
            "  inflating: /content/text_to_table/data/wikibio/test.data  \n",
            "  inflating: /content/text_to_table/data/wikibio/test.text  \n",
            "  inflating: /content/text_to_table/data/wikibio/train.data  \n",
            "  inflating: /content/text_to_table/data/wikibio/train.text  \n",
            "  inflating: /content/text_to_table/data/wikibio/valid.data  \n",
            "  inflating: /content/text_to_table/data/wikibio/valid.text  \n",
            "   creating: /content/text_to_table/data/wikitabletext/\n",
            "  inflating: /content/text_to_table/data/wikitabletext/test.data  \n",
            "  inflating: /content/text_to_table/data/wikitabletext/test.text  \n",
            "  inflating: /content/text_to_table/data/wikitabletext/train.data  \n",
            "  inflating: /content/text_to_table/data/wikitabletext/train.text  \n",
            "  inflating: /content/text_to_table/data/wikitabletext/valid.data  \n",
            "  inflating: /content/text_to_table/data/wikitabletext/valid.text  \n"
          ]
        }
      ]
    },
    {
      "cell_type": "code",
      "source": [
        "!sudo apt-get update -y\n",
        "!sudo apt-get install -y python3.8 python3.8-distutils python3.8-dev\n",
        "!update-alternatives --install /usr/bin/python3 python3 /usr/bin/python3.8 1\n",
        "!update-alternatives --config python3\n",
        "!sudo apt-get install python3-pip\n",
        "!python3 -m pip install --upgrade pip --user"
      ],
      "metadata": {
        "colab": {
          "base_uri": "https://localhost:8080/"
        },
        "id": "i9htzM7m-fga",
        "outputId": "7b0935c1-d47b-4b95-f284-6f37b7e9778a"
      },
      "execution_count": 6,
      "outputs": [
        {
          "output_type": "stream",
          "name": "stdout",
          "text": [
            "\r0% [Working]\r            \rGet:1 https://cloud.r-project.org/bin/linux/ubuntu jammy-cran40/ InRelease [3,626 B]\n",
            "Get:2 https://developer.download.nvidia.com/compute/cuda/repos/ubuntu2204/x86_64  InRelease [1,581 B]\n",
            "Get:3 https://developer.download.nvidia.com/compute/cuda/repos/ubuntu2204/x86_64  Packages [1,197 kB]\n",
            "Get:4 http://security.ubuntu.com/ubuntu jammy-security InRelease [129 kB]\n",
            "Hit:5 http://archive.ubuntu.com/ubuntu jammy InRelease\n",
            "Get:6 http://archive.ubuntu.com/ubuntu jammy-updates InRelease [128 kB]\n",
            "Hit:7 https://ppa.launchpadcontent.net/deadsnakes/ppa/ubuntu jammy InRelease\n",
            "Hit:8 https://ppa.launchpadcontent.net/graphics-drivers/ppa/ubuntu jammy InRelease\n",
            "Get:9 https://r2u.stat.illinois.edu/ubuntu jammy InRelease [6,555 B]\n",
            "Hit:10 https://ppa.launchpadcontent.net/ubuntugis/ppa/ubuntu jammy InRelease\n",
            "Get:11 http://archive.ubuntu.com/ubuntu jammy-backports InRelease [127 kB]\n",
            "Get:12 https://r2u.stat.illinois.edu/ubuntu jammy/main amd64 Packages [2,632 kB]\n",
            "Fetched 4,225 kB in 3s (1,313 kB/s)\n",
            "Reading package lists... Done\n",
            "W: Skipping acquire of configured file 'main/source/Sources' as repository 'https://r2u.stat.illinois.edu/ubuntu jammy InRelease' does not seem to provide it (sources.list entry misspelt?)\n",
            "Reading package lists... Done\n",
            "Building dependency tree... Done\n",
            "Reading state information... Done\n",
            "The following additional packages will be installed:\n",
            "  libpython3.8 libpython3.8-dev libpython3.8-minimal libpython3.8-stdlib\n",
            "  mailcap mime-support python3.8-lib2to3 python3.8-minimal\n",
            "Suggested packages:\n",
            "  python3.8-venv binfmt-support\n",
            "The following NEW packages will be installed:\n",
            "  libpython3.8 libpython3.8-dev libpython3.8-minimal libpython3.8-stdlib\n",
            "  mailcap mime-support python3.8 python3.8-dev python3.8-distutils\n",
            "  python3.8-lib2to3 python3.8-minimal\n",
            "0 upgraded, 11 newly installed, 0 to remove and 54 not upgraded.\n",
            "Need to get 12.1 MB of archives.\n",
            "After this operation, 45.2 MB of additional disk space will be used.\n",
            "Get:1 http://archive.ubuntu.com/ubuntu jammy/main amd64 mailcap all 3.70+nmu1ubuntu1 [23.8 kB]\n",
            "Get:2 https://ppa.launchpadcontent.net/deadsnakes/ppa/ubuntu jammy/main amd64 libpython3.8-minimal amd64 3.8.20-1+jammy1 [796 kB]\n",
            "Get:3 http://archive.ubuntu.com/ubuntu jammy/main amd64 mime-support all 3.66 [3,696 B]\n",
            "Get:4 https://ppa.launchpadcontent.net/deadsnakes/ppa/ubuntu jammy/main amd64 python3.8-minimal amd64 3.8.20-1+jammy1 [2,023 kB]\n",
            "Get:5 https://ppa.launchpadcontent.net/deadsnakes/ppa/ubuntu jammy/main amd64 libpython3.8-stdlib amd64 3.8.20-1+jammy1 [1,817 kB]\n",
            "Get:6 https://ppa.launchpadcontent.net/deadsnakes/ppa/ubuntu jammy/main amd64 libpython3.8 amd64 3.8.20-1+jammy1 [1,798 kB]\n",
            "Get:7 https://ppa.launchpadcontent.net/deadsnakes/ppa/ubuntu jammy/main amd64 libpython3.8-dev amd64 3.8.20-1+jammy1 [4,389 kB]\n",
            "Get:8 https://ppa.launchpadcontent.net/deadsnakes/ppa/ubuntu jammy/main amd64 python3.8 amd64 3.8.20-1+jammy1 [440 kB]\n",
            "Get:9 https://ppa.launchpadcontent.net/deadsnakes/ppa/ubuntu jammy/main amd64 python3.8-dev amd64 3.8.20-1+jammy1 [500 kB]\n",
            "Get:10 https://ppa.launchpadcontent.net/deadsnakes/ppa/ubuntu jammy/main amd64 python3.8-lib2to3 all 3.8.20-1+jammy1 [126 kB]\n",
            "Get:11 https://ppa.launchpadcontent.net/deadsnakes/ppa/ubuntu jammy/main amd64 python3.8-distutils all 3.8.20-1+jammy1 [193 kB]\n",
            "Fetched 12.1 MB in 4s (2,945 kB/s)\n",
            "debconf: unable to initialize frontend: Dialog\n",
            "debconf: (No usable dialog-like program is installed, so the dialog based frontend cannot be used. at /usr/share/perl5/Debconf/FrontEnd/Dialog.pm line 78, <> line 11.)\n",
            "debconf: falling back to frontend: Readline\n",
            "debconf: unable to initialize frontend: Readline\n",
            "debconf: (This frontend requires a controlling tty.)\n",
            "debconf: falling back to frontend: Teletype\n",
            "dpkg-preconfigure: unable to re-open stdin: \n",
            "Selecting previously unselected package libpython3.8-minimal:amd64.\n",
            "(Reading database ... 123634 files and directories currently installed.)\n",
            "Preparing to unpack .../00-libpython3.8-minimal_3.8.20-1+jammy1_amd64.deb ...\n",
            "Unpacking libpython3.8-minimal:amd64 (3.8.20-1+jammy1) ...\n",
            "Selecting previously unselected package python3.8-minimal.\n",
            "Preparing to unpack .../01-python3.8-minimal_3.8.20-1+jammy1_amd64.deb ...\n",
            "Unpacking python3.8-minimal (3.8.20-1+jammy1) ...\n",
            "Selecting previously unselected package mailcap.\n",
            "Preparing to unpack .../02-mailcap_3.70+nmu1ubuntu1_all.deb ...\n",
            "Unpacking mailcap (3.70+nmu1ubuntu1) ...\n",
            "Selecting previously unselected package mime-support.\n",
            "Preparing to unpack .../03-mime-support_3.66_all.deb ...\n",
            "Unpacking mime-support (3.66) ...\n",
            "Selecting previously unselected package libpython3.8-stdlib:amd64.\n",
            "Preparing to unpack .../04-libpython3.8-stdlib_3.8.20-1+jammy1_amd64.deb ...\n",
            "Unpacking libpython3.8-stdlib:amd64 (3.8.20-1+jammy1) ...\n",
            "Selecting previously unselected package libpython3.8:amd64.\n",
            "Preparing to unpack .../05-libpython3.8_3.8.20-1+jammy1_amd64.deb ...\n",
            "Unpacking libpython3.8:amd64 (3.8.20-1+jammy1) ...\n",
            "Selecting previously unselected package libpython3.8-dev:amd64.\n",
            "Preparing to unpack .../06-libpython3.8-dev_3.8.20-1+jammy1_amd64.deb ...\n",
            "Unpacking libpython3.8-dev:amd64 (3.8.20-1+jammy1) ...\n",
            "Selecting previously unselected package python3.8.\n",
            "Preparing to unpack .../07-python3.8_3.8.20-1+jammy1_amd64.deb ...\n",
            "Unpacking python3.8 (3.8.20-1+jammy1) ...\n",
            "Selecting previously unselected package python3.8-dev.\n",
            "Preparing to unpack .../08-python3.8-dev_3.8.20-1+jammy1_amd64.deb ...\n",
            "Unpacking python3.8-dev (3.8.20-1+jammy1) ...\n",
            "Selecting previously unselected package python3.8-lib2to3.\n",
            "Preparing to unpack .../09-python3.8-lib2to3_3.8.20-1+jammy1_all.deb ...\n",
            "Unpacking python3.8-lib2to3 (3.8.20-1+jammy1) ...\n",
            "Selecting previously unselected package python3.8-distutils.\n",
            "Preparing to unpack .../10-python3.8-distutils_3.8.20-1+jammy1_all.deb ...\n",
            "Unpacking python3.8-distutils (3.8.20-1+jammy1) ...\n",
            "Setting up libpython3.8-minimal:amd64 (3.8.20-1+jammy1) ...\n",
            "Setting up python3.8-lib2to3 (3.8.20-1+jammy1) ...\n",
            "Setting up python3.8-minimal (3.8.20-1+jammy1) ...\n",
            "Setting up python3.8-distutils (3.8.20-1+jammy1) ...\n",
            "Setting up mailcap (3.70+nmu1ubuntu1) ...\n",
            "Setting up mime-support (3.66) ...\n",
            "Setting up libpython3.8-stdlib:amd64 (3.8.20-1+jammy1) ...\n",
            "Setting up python3.8 (3.8.20-1+jammy1) ...\n",
            "Setting up libpython3.8:amd64 (3.8.20-1+jammy1) ...\n",
            "Setting up libpython3.8-dev:amd64 (3.8.20-1+jammy1) ...\n",
            "Setting up python3.8-dev (3.8.20-1+jammy1) ...\n",
            "Processing triggers for man-db (2.10.2-1) ...\n",
            "update-alternatives: using /usr/bin/python3.8 to provide /usr/bin/python3 (python3) in auto mode\n",
            "There is only one alternative in link group python3 (providing /usr/bin/python3): /usr/bin/python3.8\n",
            "Nothing to configure.\n",
            "Reading package lists... Done\n",
            "Building dependency tree... Done\n",
            "Reading state information... Done\n",
            "The following additional packages will be installed:\n",
            "  python3-setuptools python3-wheel\n",
            "Suggested packages:\n",
            "  python-setuptools-doc\n",
            "The following NEW packages will be installed:\n",
            "  python3-pip python3-setuptools python3-wheel\n",
            "0 upgraded, 3 newly installed, 0 to remove and 54 not upgraded.\n",
            "Need to get 1,677 kB of archives.\n",
            "After this operation, 8,968 kB of additional disk space will be used.\n",
            "Get:1 http://archive.ubuntu.com/ubuntu jammy-updates/main amd64 python3-setuptools all 59.6.0-1.2ubuntu0.22.04.2 [340 kB]\n",
            "Get:2 http://archive.ubuntu.com/ubuntu jammy-updates/universe amd64 python3-wheel all 0.37.1-2ubuntu0.22.04.1 [32.0 kB]\n",
            "Get:3 http://archive.ubuntu.com/ubuntu jammy-updates/universe amd64 python3-pip all 22.0.2+dfsg-1ubuntu0.5 [1,306 kB]\n",
            "Fetched 1,677 kB in 2s (966 kB/s)\n",
            "debconf: unable to initialize frontend: Dialog\n",
            "debconf: (No usable dialog-like program is installed, so the dialog based frontend cannot be used. at /usr/share/perl5/Debconf/FrontEnd/Dialog.pm line 78, <> line 3.)\n",
            "debconf: falling back to frontend: Readline\n",
            "debconf: unable to initialize frontend: Readline\n",
            "debconf: (This frontend requires a controlling tty.)\n",
            "debconf: falling back to frontend: Teletype\n",
            "dpkg-preconfigure: unable to re-open stdin: \n",
            "Selecting previously unselected package python3-setuptools.\n",
            "(Reading database ... 124598 files and directories currently installed.)\n",
            "Preparing to unpack .../python3-setuptools_59.6.0-1.2ubuntu0.22.04.2_all.deb ...\n",
            "Unpacking python3-setuptools (59.6.0-1.2ubuntu0.22.04.2) ...\n",
            "Selecting previously unselected package python3-wheel.\n",
            "Preparing to unpack .../python3-wheel_0.37.1-2ubuntu0.22.04.1_all.deb ...\n",
            "Unpacking python3-wheel (0.37.1-2ubuntu0.22.04.1) ...\n",
            "Selecting previously unselected package python3-pip.\n",
            "Preparing to unpack .../python3-pip_22.0.2+dfsg-1ubuntu0.5_all.deb ...\n",
            "Unpacking python3-pip (22.0.2+dfsg-1ubuntu0.5) ...\n",
            "Setting up python3-setuptools (59.6.0-1.2ubuntu0.22.04.2) ...\n",
            "Setting up python3-wheel (0.37.1-2ubuntu0.22.04.1) ...\n",
            "Setting up python3-pip (22.0.2+dfsg-1ubuntu0.5) ...\n",
            "Processing triggers for man-db (2.10.2-1) ...\n",
            "Requirement already satisfied: pip in /usr/lib/python3/dist-packages (22.0.2)\n",
            "Collecting pip\n",
            "  Downloading pip-24.3.1-py3-none-any.whl (1.8 MB)\n",
            "\u001b[2K     \u001b[90m━━━━━━━━━━━━━━━━━━━━━━━━━━━━━━━━━━━━━━━━\u001b[0m \u001b[32m1.8/1.8 MB\u001b[0m \u001b[31m25.4 MB/s\u001b[0m eta \u001b[36m0:00:00\u001b[0m\n",
            "\u001b[?25hInstalling collected packages: pip\n",
            "\u001b[33m  WARNING: The scripts pip, pip3 and pip3.8 are installed in '/root/.local/bin' which is not on PATH.\n",
            "  Consider adding this directory to PATH or, if you prefer to suppress this warning, use --no-warn-script-location.\u001b[0m\u001b[33m\n",
            "\u001b[0mSuccessfully installed pip-24.3.1\n",
            "\u001b[33mWARNING: Running pip as the 'root' user can result in broken permissions and conflicting behaviour with the system package manager. It is recommended to use a virtual environment instead: https://pip.pypa.io/warnings/venv\u001b[0m\u001b[33m\n",
            "\u001b[0m"
          ]
        }
      ]
    },
    {
      "cell_type": "code",
      "source": [
        "!pip install virtualenv\n",
        "\n",
        "!virtualenv -p python3.8 py38_env\n"
      ],
      "metadata": {
        "colab": {
          "base_uri": "https://localhost:8080/"
        },
        "id": "ejF-8keK3k7O",
        "outputId": "0ff298f3-55fc-4867-806a-d8832a5f30ae"
      },
      "execution_count": 7,
      "outputs": [
        {
          "output_type": "stream",
          "name": "stdout",
          "text": [
            "Collecting virtualenv\n",
            "  Downloading virtualenv-20.28.1-py3-none-any.whl.metadata (4.5 kB)\n",
            "Collecting distlib<1,>=0.3.7 (from virtualenv)\n",
            "  Downloading distlib-0.3.9-py2.py3-none-any.whl.metadata (5.2 kB)\n",
            "Collecting filelock<4,>=3.12.2 (from virtualenv)\n",
            "  Downloading filelock-3.16.1-py3-none-any.whl.metadata (2.9 kB)\n",
            "Collecting platformdirs<5,>=3.9.1 (from virtualenv)\n",
            "  Downloading platformdirs-4.3.6-py3-none-any.whl.metadata (11 kB)\n",
            "Downloading virtualenv-20.28.1-py3-none-any.whl (4.3 MB)\n",
            "\u001b[2K   \u001b[90m━━━━━━━━━━━━━━━━━━━━━━━━━━━━━━━━━━━━━━━━\u001b[0m \u001b[32m4.3/4.3 MB\u001b[0m \u001b[31m99.2 MB/s\u001b[0m eta \u001b[36m0:00:00\u001b[0m\n",
            "\u001b[?25hDownloading distlib-0.3.9-py2.py3-none-any.whl (468 kB)\n",
            "Downloading filelock-3.16.1-py3-none-any.whl (16 kB)\n",
            "Downloading platformdirs-4.3.6-py3-none-any.whl (18 kB)\n",
            "Installing collected packages: distlib, platformdirs, filelock, virtualenv\n",
            "Successfully installed distlib-0.3.9 filelock-3.16.1 platformdirs-4.3.6 virtualenv-20.28.1\n",
            "created virtual environment CPython3.8.20.final.0-64 in 1273ms\n",
            "  creator CPython3Posix(dest=/content/py38_env, clear=False, no_vcs_ignore=False, global=False)\n",
            "  seeder FromAppData(download=False, pip=bundle, setuptools=bundle, wheel=bundle, via=copy, app_data_dir=/root/.local/share/virtualenv)\n",
            "    added seed packages: pip==24.3.1, setuptools==75.3.0, wheel==0.45.1\n",
            "  activators BashActivator,CShellActivator,FishActivator,NushellActivator,PowerShellActivator,PythonActivator\n"
          ]
        }
      ]
    },
    {
      "cell_type": "code",
      "source": [
        "!pip install pip==23.2.1\n"
      ],
      "metadata": {
        "colab": {
          "base_uri": "https://localhost:8080/"
        },
        "id": "otGU9-z43oKE",
        "outputId": "f4741783-6fb3-454c-e20b-a20560b1d040"
      },
      "execution_count": 8,
      "outputs": [
        {
          "output_type": "stream",
          "name": "stdout",
          "text": [
            "Collecting pip==23.2.1\n",
            "  Downloading pip-23.2.1-py3-none-any.whl.metadata (4.2 kB)\n",
            "Downloading pip-23.2.1-py3-none-any.whl (2.1 MB)\n",
            "\u001b[?25l   \u001b[90m━━━━━━━━━━━━━━━━━━━━━━━━━━━━━━━━━━━━━━━━\u001b[0m \u001b[32m0.0/2.1 MB\u001b[0m \u001b[31m?\u001b[0m eta \u001b[36m-:--:--\u001b[0m\r\u001b[2K   \u001b[90m━━━━━━━━━━━━━━━━━━━━━━━━━━━━━━━━━━━━━━━━\u001b[0m \u001b[32m2.1/2.1 MB\u001b[0m \u001b[31m80.9 MB/s\u001b[0m eta \u001b[36m0:00:00\u001b[0m\n",
            "\u001b[?25hInstalling collected packages: pip\n",
            "  Attempting uninstall: pip\n",
            "    Found existing installation: pip 24.3.1\n",
            "    Uninstalling pip-24.3.1:\n",
            "      Successfully uninstalled pip-24.3.1\n",
            "Successfully installed pip-23.2.1\n"
          ]
        }
      ]
    },
    {
      "cell_type": "code",
      "source": [
        "!pip install -r /content/text_to_table/requirements.txt\n"
      ],
      "metadata": {
        "colab": {
          "base_uri": "https://localhost:8080/",
          "height": 1000
        },
        "id": "WTMHBz7O3wT5",
        "outputId": "16a7b987-31bd-4440-b60f-b57a18282330"
      },
      "execution_count": 9,
      "outputs": [
        {
          "output_type": "stream",
          "name": "stdout",
          "text": [
            "Collecting fairseq==v0.10.2 (from -r /content/text_to_table/requirements.txt (line 1))\n",
            "  Obtaining dependency information for fairseq==v0.10.2 from https://files.pythonhosted.org/packages/88/15/1b09022f20f971eae992497bdde69dc11b3e8d586c95e93e43a6842979c5/fairseq-0.10.2-cp38-cp38-manylinux1_x86_64.whl.metadata\n",
            "  Downloading fairseq-0.10.2-cp38-cp38-manylinux1_x86_64.whl.metadata (13 kB)\n",
            "Collecting sacrebleu==v2.0.0 (from -r /content/text_to_table/requirements.txt (line 2))\n",
            "  Obtaining dependency information for sacrebleu==v2.0.0 from https://files.pythonhosted.org/packages/fa/63/b3c11f951eafa2dc296862431f29fb12dbe191cb72217cf88ed04c32086b/sacrebleu-2.0.0-py3-none-any.whl.metadata\n",
            "  Downloading sacrebleu-2.0.0-py3-none-any.whl.metadata (52 kB)\n",
            "\u001b[?25l     \u001b[90m━━━━━━━━━━━━━━━━━━━━━━━━━━━━━━━━━━━━━━━━\u001b[0m \u001b[32m0.0/52.6 kB\u001b[0m \u001b[31m?\u001b[0m eta \u001b[36m-:--:--\u001b[0m\r\u001b[2K     \u001b[90m━━━━━━━━━━━━━━━━━━━━━━━━━━━━━━━━━━━━━━━━\u001b[0m \u001b[32m52.6/52.6 kB\u001b[0m \u001b[31m2.5 MB/s\u001b[0m eta \u001b[36m0:00:00\u001b[0m\n",
            "\u001b[?25hCollecting bert_score==v0.3.11 (from -r /content/text_to_table/requirements.txt (line 3))\n",
            "  Obtaining dependency information for bert_score==v0.3.11 from https://files.pythonhosted.org/packages/0e/f0/834e4b74482ad63e5855c272327b87afe841517be584b63c006484bf9908/bert_score-0.3.11-py3-none-any.whl.metadata\n",
            "  Downloading bert_score-0.3.11-py3-none-any.whl.metadata (14 kB)\n",
            "Collecting transformers==v3.1.0 (from -r /content/text_to_table/requirements.txt (line 4))\n",
            "  Obtaining dependency information for transformers==v3.1.0 from https://files.pythonhosted.org/packages/ae/05/c8c55b600308dc04e95100dc8ad8a244dd800fe75dfafcf1d6348c6f6209/transformers-3.1.0-py3-none-any.whl.metadata\n",
            "  Downloading transformers-3.1.0-py3-none-any.whl.metadata (49 kB)\n",
            "\u001b[2K     \u001b[90m━━━━━━━━━━━━━━━━━━━━━━━━━━━━━━━━━━━━━━━━\u001b[0m \u001b[32m49.2/49.2 kB\u001b[0m \u001b[31m6.5 MB/s\u001b[0m eta \u001b[36m0:00:00\u001b[0m\n",
            "\u001b[?25hCollecting cffi (from fairseq==v0.10.2->-r /content/text_to_table/requirements.txt (line 1))\n",
            "  Obtaining dependency information for cffi from https://files.pythonhosted.org/packages/bb/19/b51af9f4a4faa4a8ac5a0e5d5c2522dcd9703d07fac69da34a36c4d960d3/cffi-1.17.1-cp38-cp38-manylinux_2_17_x86_64.manylinux2014_x86_64.whl.metadata\n",
            "  Downloading cffi-1.17.1-cp38-cp38-manylinux_2_17_x86_64.manylinux2014_x86_64.whl.metadata (1.5 kB)\n",
            "Collecting cython (from fairseq==v0.10.2->-r /content/text_to_table/requirements.txt (line 1))\n",
            "  Obtaining dependency information for cython from https://files.pythonhosted.org/packages/b2/52/eda119f98071ccde04a9a1c9c9a18fd6def025651c9d0cd01ad51d0dba36/Cython-3.0.11-cp38-cp38-manylinux_2_17_x86_64.manylinux2014_x86_64.whl.metadata\n",
            "  Downloading Cython-3.0.11-cp38-cp38-manylinux_2_17_x86_64.manylinux2014_x86_64.whl.metadata (3.2 kB)\n",
            "Collecting dataclasses (from fairseq==v0.10.2->-r /content/text_to_table/requirements.txt (line 1))\n",
            "  Obtaining dependency information for dataclasses from https://files.pythonhosted.org/packages/26/2f/1095cdc2868052dd1e64520f7c0d5c8c550ad297e944e641dbf1ffbb9a5d/dataclasses-0.6-py3-none-any.whl.metadata\n",
            "  Downloading dataclasses-0.6-py3-none-any.whl.metadata (3.0 kB)\n",
            "Collecting hydra-core (from fairseq==v0.10.2->-r /content/text_to_table/requirements.txt (line 1))\n",
            "  Obtaining dependency information for hydra-core from https://files.pythonhosted.org/packages/c6/50/e0edd38dcd63fb26a8547f13d28f7a008bc4a3fd4eb4ff030673f22ad41a/hydra_core-1.3.2-py3-none-any.whl.metadata\n",
            "  Downloading hydra_core-1.3.2-py3-none-any.whl.metadata (5.5 kB)\n",
            "Collecting numpy (from fairseq==v0.10.2->-r /content/text_to_table/requirements.txt (line 1))\n",
            "  Obtaining dependency information for numpy from https://files.pythonhosted.org/packages/98/5d/5738903efe0ecb73e51eb44feafba32bdba2081263d40c5043568ff60faf/numpy-1.24.4-cp38-cp38-manylinux_2_17_x86_64.manylinux2014_x86_64.whl.metadata\n",
            "  Downloading numpy-1.24.4-cp38-cp38-manylinux_2_17_x86_64.manylinux2014_x86_64.whl.metadata (5.6 kB)\n",
            "Collecting regex (from fairseq==v0.10.2->-r /content/text_to_table/requirements.txt (line 1))\n",
            "  Obtaining dependency information for regex from https://files.pythonhosted.org/packages/5a/c8/dc7153ceb5bcc344f5c4f0291ea45925a5f00009afa3849e91561ac2e847/regex-2024.11.6-cp38-cp38-manylinux_2_17_x86_64.manylinux2014_x86_64.whl.metadata\n",
            "  Downloading regex-2024.11.6-cp38-cp38-manylinux_2_17_x86_64.manylinux2014_x86_64.whl.metadata (40 kB)\n",
            "\u001b[2K     \u001b[90m━━━━━━━━━━━━━━━━━━━━━━━━━━━━━━━━━━━━━━━━\u001b[0m \u001b[32m40.5/40.5 kB\u001b[0m \u001b[31m1.5 MB/s\u001b[0m eta \u001b[36m0:00:00\u001b[0m\n",
            "\u001b[?25hCollecting torch (from fairseq==v0.10.2->-r /content/text_to_table/requirements.txt (line 1))\n",
            "  Obtaining dependency information for torch from https://files.pythonhosted.org/packages/a9/71/45aac46b75742e08d2d6f9fc2b612223b5e36115b8b2ed673b23c21b5387/torch-2.4.1-cp38-cp38-manylinux1_x86_64.whl.metadata\n",
            "  Downloading torch-2.4.1-cp38-cp38-manylinux1_x86_64.whl.metadata (26 kB)\n",
            "Collecting tqdm (from fairseq==v0.10.2->-r /content/text_to_table/requirements.txt (line 1))\n",
            "  Obtaining dependency information for tqdm from https://files.pythonhosted.org/packages/d0/30/dc54f88dd4a2b5dc8a0279bdd7270e735851848b762aeb1c1184ed1f6b14/tqdm-4.67.1-py3-none-any.whl.metadata\n",
            "  Downloading tqdm-4.67.1-py3-none-any.whl.metadata (57 kB)\n",
            "\u001b[2K     \u001b[90m━━━━━━━━━━━━━━━━━━━━━━━━━━━━━━━━━━━━━━━━\u001b[0m \u001b[32m57.7/57.7 kB\u001b[0m \u001b[31m7.7 MB/s\u001b[0m eta \u001b[36m0:00:00\u001b[0m\n",
            "\u001b[?25hCollecting portalocker (from sacrebleu==v2.0.0->-r /content/text_to_table/requirements.txt (line 2))\n",
            "  Obtaining dependency information for portalocker from https://files.pythonhosted.org/packages/3d/4c/4cb6bb4061910ac74c444be76e7d17dba97d9057030cca2f96947c3f7a0f/portalocker-3.0.0-py3-none-any.whl.metadata\n",
            "  Downloading portalocker-3.0.0-py3-none-any.whl.metadata (8.5 kB)\n",
            "Collecting tabulate>=0.8.9 (from sacrebleu==v2.0.0->-r /content/text_to_table/requirements.txt (line 2))\n",
            "  Obtaining dependency information for tabulate>=0.8.9 from https://files.pythonhosted.org/packages/40/44/4a5f08c96eb108af5cb50b41f76142f0afa346dfa99d5296fe7202a11854/tabulate-0.9.0-py3-none-any.whl.metadata\n",
            "  Downloading tabulate-0.9.0-py3-none-any.whl.metadata (34 kB)\n",
            "Collecting colorama (from sacrebleu==v2.0.0->-r /content/text_to_table/requirements.txt (line 2))\n",
            "  Obtaining dependency information for colorama from https://files.pythonhosted.org/packages/d1/d6/3965ed04c63042e047cb6a3e6ed1a63a35087b6a609aa3a15ed8ac56c221/colorama-0.4.6-py2.py3-none-any.whl.metadata\n",
            "  Downloading colorama-0.4.6-py2.py3-none-any.whl.metadata (17 kB)\n",
            "Collecting pandas>=1.0.1 (from bert_score==v0.3.11->-r /content/text_to_table/requirements.txt (line 3))\n",
            "  Obtaining dependency information for pandas>=1.0.1 from https://files.pythonhosted.org/packages/f8/7f/5b047effafbdd34e52c9e2d7e44f729a0655efafb22198c45cf692cdc157/pandas-2.0.3-cp38-cp38-manylinux_2_17_x86_64.manylinux2014_x86_64.whl.metadata\n",
            "  Downloading pandas-2.0.3-cp38-cp38-manylinux_2_17_x86_64.manylinux2014_x86_64.whl.metadata (18 kB)\n",
            "Collecting requests (from bert_score==v0.3.11->-r /content/text_to_table/requirements.txt (line 3))\n",
            "  Obtaining dependency information for requests from https://files.pythonhosted.org/packages/f9/9b/335f9764261e915ed497fcdeb11df5dfd6f7bf257d4a6a2a686d80da4d54/requests-2.32.3-py3-none-any.whl.metadata\n",
            "  Downloading requests-2.32.3-py3-none-any.whl.metadata (4.6 kB)\n",
            "Collecting matplotlib (from bert_score==v0.3.11->-r /content/text_to_table/requirements.txt (line 3))\n",
            "  Obtaining dependency information for matplotlib from https://files.pythonhosted.org/packages/30/33/cc27211d2ffeee4fd7402dca137b6e8a83f6dcae3d4be8d0ad5068555561/matplotlib-3.7.5-cp38-cp38-manylinux_2_12_x86_64.manylinux2010_x86_64.whl.metadata\n",
            "  Downloading matplotlib-3.7.5-cp38-cp38-manylinux_2_12_x86_64.manylinux2010_x86_64.whl.metadata (5.7 kB)\n",
            "Collecting packaging>=20.9 (from bert_score==v0.3.11->-r /content/text_to_table/requirements.txt (line 3))\n",
            "  Obtaining dependency information for packaging>=20.9 from https://files.pythonhosted.org/packages/88/ef/eb23f262cca3c0c4eb7ab1933c3b1f03d021f2c48f54763065b6f0e321be/packaging-24.2-py3-none-any.whl.metadata\n",
            "  Downloading packaging-24.2-py3-none-any.whl.metadata (3.2 kB)\n",
            "Collecting tokenizers==0.8.1.rc2 (from transformers==v3.1.0->-r /content/text_to_table/requirements.txt (line 4))\n",
            "  Obtaining dependency information for tokenizers==0.8.1.rc2 from https://files.pythonhosted.org/packages/a2/44/a1684d6b515f9fb186c757a279a2964800a807136027810ff1895ea9920a/tokenizers-0.8.1rc2-cp38-cp38-manylinux1_x86_64.whl.metadata\n",
            "  Downloading tokenizers-0.8.1rc2-cp38-cp38-manylinux1_x86_64.whl.metadata (5.8 kB)\n",
            "Requirement already satisfied: filelock in /usr/local/lib/python3.8/dist-packages (from transformers==v3.1.0->-r /content/text_to_table/requirements.txt (line 4)) (3.16.1)\n",
            "Collecting sentencepiece!=0.1.92 (from transformers==v3.1.0->-r /content/text_to_table/requirements.txt (line 4))\n",
            "  Obtaining dependency information for sentencepiece!=0.1.92 from https://files.pythonhosted.org/packages/d4/eb/57f1f43f60aa3a21296171d353b6597c312b45d9a5addb1fb5313ec3611a/sentencepiece-0.2.0-cp38-cp38-manylinux_2_17_x86_64.manylinux2014_x86_64.whl.metadata\n",
            "  Downloading sentencepiece-0.2.0-cp38-cp38-manylinux_2_17_x86_64.manylinux2014_x86_64.whl.metadata (7.7 kB)\n",
            "Collecting sacremoses (from transformers==v3.1.0->-r /content/text_to_table/requirements.txt (line 4))\n",
            "  Obtaining dependency information for sacremoses from https://files.pythonhosted.org/packages/0b/f0/89ee2bc9da434bd78464f288fdb346bc2932f2ee80a90b2a4bbbac262c74/sacremoses-0.1.1-py3-none-any.whl.metadata\n",
            "  Downloading sacremoses-0.1.1-py3-none-any.whl.metadata (8.3 kB)\n",
            "Collecting python-dateutil>=2.8.2 (from pandas>=1.0.1->bert_score==v0.3.11->-r /content/text_to_table/requirements.txt (line 3))\n",
            "  Obtaining dependency information for python-dateutil>=2.8.2 from https://files.pythonhosted.org/packages/ec/57/56b9bcc3c9c6a792fcbaf139543cee77261f3651ca9da0c93f5c1221264b/python_dateutil-2.9.0.post0-py2.py3-none-any.whl.metadata\n",
            "  Downloading python_dateutil-2.9.0.post0-py2.py3-none-any.whl.metadata (8.4 kB)\n",
            "Collecting pytz>=2020.1 (from pandas>=1.0.1->bert_score==v0.3.11->-r /content/text_to_table/requirements.txt (line 3))\n",
            "  Obtaining dependency information for pytz>=2020.1 from https://files.pythonhosted.org/packages/11/c3/005fcca25ce078d2cc29fd559379817424e94885510568bc1bc53d7d5846/pytz-2024.2-py2.py3-none-any.whl.metadata\n",
            "  Downloading pytz-2024.2-py2.py3-none-any.whl.metadata (22 kB)\n",
            "Collecting tzdata>=2022.1 (from pandas>=1.0.1->bert_score==v0.3.11->-r /content/text_to_table/requirements.txt (line 3))\n",
            "  Obtaining dependency information for tzdata>=2022.1 from https://files.pythonhosted.org/packages/a6/ab/7e5f53c3b9d14972843a647d8d7a853969a58aecc7559cb3267302c94774/tzdata-2024.2-py2.py3-none-any.whl.metadata\n",
            "  Downloading tzdata-2024.2-py2.py3-none-any.whl.metadata (1.4 kB)\n",
            "Collecting typing-extensions>=4.8.0 (from torch->fairseq==v0.10.2->-r /content/text_to_table/requirements.txt (line 1))\n",
            "  Obtaining dependency information for typing-extensions>=4.8.0 from https://files.pythonhosted.org/packages/26/9f/ad63fc0248c5379346306f8668cda6e2e2e9c95e01216d2b8ffd9ff037d0/typing_extensions-4.12.2-py3-none-any.whl.metadata\n",
            "  Downloading typing_extensions-4.12.2-py3-none-any.whl.metadata (3.0 kB)\n",
            "Collecting sympy (from torch->fairseq==v0.10.2->-r /content/text_to_table/requirements.txt (line 1))\n",
            "  Obtaining dependency information for sympy from https://files.pythonhosted.org/packages/99/ff/c87e0622b1dadea79d2fb0b25ade9ed98954c9033722eb707053d310d4f3/sympy-1.13.3-py3-none-any.whl.metadata\n",
            "  Downloading sympy-1.13.3-py3-none-any.whl.metadata (12 kB)\n",
            "Collecting networkx (from torch->fairseq==v0.10.2->-r /content/text_to_table/requirements.txt (line 1))\n",
            "  Obtaining dependency information for networkx from https://files.pythonhosted.org/packages/a8/05/9d4f9b78ead6b2661d6e8ea772e111fc4a9fbd866ad0c81906c11206b55e/networkx-3.1-py3-none-any.whl.metadata\n",
            "  Downloading networkx-3.1-py3-none-any.whl.metadata (5.3 kB)\n",
            "Collecting jinja2 (from torch->fairseq==v0.10.2->-r /content/text_to_table/requirements.txt (line 1))\n",
            "  Obtaining dependency information for jinja2 from https://files.pythonhosted.org/packages/bd/0f/2ba5fbcd631e3e88689309dbe978c5769e883e4b84ebfe7da30b43275c5a/jinja2-3.1.5-py3-none-any.whl.metadata\n",
            "  Downloading jinja2-3.1.5-py3-none-any.whl.metadata (2.6 kB)\n",
            "Collecting fsspec (from torch->fairseq==v0.10.2->-r /content/text_to_table/requirements.txt (line 1))\n",
            "  Obtaining dependency information for fsspec from https://files.pythonhosted.org/packages/de/86/5486b0188d08aa643e127774a99bac51ffa6cf343e3deb0583956dca5b22/fsspec-2024.12.0-py3-none-any.whl.metadata\n",
            "  Downloading fsspec-2024.12.0-py3-none-any.whl.metadata (11 kB)\n",
            "Collecting nvidia-cuda-nvrtc-cu12==12.1.105 (from torch->fairseq==v0.10.2->-r /content/text_to_table/requirements.txt (line 1))\n",
            "  Obtaining dependency information for nvidia-cuda-nvrtc-cu12==12.1.105 from https://files.pythonhosted.org/packages/b6/9f/c64c03f49d6fbc56196664d05dba14e3a561038a81a638eeb47f4d4cfd48/nvidia_cuda_nvrtc_cu12-12.1.105-py3-none-manylinux1_x86_64.whl.metadata\n",
            "  Downloading nvidia_cuda_nvrtc_cu12-12.1.105-py3-none-manylinux1_x86_64.whl.metadata (1.5 kB)\n",
            "Collecting nvidia-cuda-runtime-cu12==12.1.105 (from torch->fairseq==v0.10.2->-r /content/text_to_table/requirements.txt (line 1))\n",
            "  Obtaining dependency information for nvidia-cuda-runtime-cu12==12.1.105 from https://files.pythonhosted.org/packages/eb/d5/c68b1d2cdfcc59e72e8a5949a37ddb22ae6cade80cd4a57a84d4c8b55472/nvidia_cuda_runtime_cu12-12.1.105-py3-none-manylinux1_x86_64.whl.metadata\n",
            "  Downloading nvidia_cuda_runtime_cu12-12.1.105-py3-none-manylinux1_x86_64.whl.metadata (1.5 kB)\n",
            "Collecting nvidia-cuda-cupti-cu12==12.1.105 (from torch->fairseq==v0.10.2->-r /content/text_to_table/requirements.txt (line 1))\n",
            "  Obtaining dependency information for nvidia-cuda-cupti-cu12==12.1.105 from https://files.pythonhosted.org/packages/7e/00/6b218edd739ecfc60524e585ba8e6b00554dd908de2c9c66c1af3e44e18d/nvidia_cuda_cupti_cu12-12.1.105-py3-none-manylinux1_x86_64.whl.metadata\n",
            "  Downloading nvidia_cuda_cupti_cu12-12.1.105-py3-none-manylinux1_x86_64.whl.metadata (1.6 kB)\n",
            "Collecting nvidia-cudnn-cu12==9.1.0.70 (from torch->fairseq==v0.10.2->-r /content/text_to_table/requirements.txt (line 1))\n",
            "  Obtaining dependency information for nvidia-cudnn-cu12==9.1.0.70 from https://files.pythonhosted.org/packages/9f/fd/713452cd72343f682b1c7b9321e23829f00b842ceaedcda96e742ea0b0b3/nvidia_cudnn_cu12-9.1.0.70-py3-none-manylinux2014_x86_64.whl.metadata\n",
            "  Downloading nvidia_cudnn_cu12-9.1.0.70-py3-none-manylinux2014_x86_64.whl.metadata (1.6 kB)\n",
            "Collecting nvidia-cublas-cu12==12.1.3.1 (from torch->fairseq==v0.10.2->-r /content/text_to_table/requirements.txt (line 1))\n",
            "  Obtaining dependency information for nvidia-cublas-cu12==12.1.3.1 from https://files.pythonhosted.org/packages/37/6d/121efd7382d5b0284239f4ab1fc1590d86d34ed4a4a2fdb13b30ca8e5740/nvidia_cublas_cu12-12.1.3.1-py3-none-manylinux1_x86_64.whl.metadata\n",
            "  Downloading nvidia_cublas_cu12-12.1.3.1-py3-none-manylinux1_x86_64.whl.metadata (1.5 kB)\n",
            "Collecting nvidia-cufft-cu12==11.0.2.54 (from torch->fairseq==v0.10.2->-r /content/text_to_table/requirements.txt (line 1))\n",
            "  Obtaining dependency information for nvidia-cufft-cu12==11.0.2.54 from https://files.pythonhosted.org/packages/86/94/eb540db023ce1d162e7bea9f8f5aa781d57c65aed513c33ee9a5123ead4d/nvidia_cufft_cu12-11.0.2.54-py3-none-manylinux1_x86_64.whl.metadata\n",
            "  Downloading nvidia_cufft_cu12-11.0.2.54-py3-none-manylinux1_x86_64.whl.metadata (1.5 kB)\n",
            "Collecting nvidia-curand-cu12==10.3.2.106 (from torch->fairseq==v0.10.2->-r /content/text_to_table/requirements.txt (line 1))\n",
            "  Obtaining dependency information for nvidia-curand-cu12==10.3.2.106 from https://files.pythonhosted.org/packages/44/31/4890b1c9abc496303412947fc7dcea3d14861720642b49e8ceed89636705/nvidia_curand_cu12-10.3.2.106-py3-none-manylinux1_x86_64.whl.metadata\n",
            "  Downloading nvidia_curand_cu12-10.3.2.106-py3-none-manylinux1_x86_64.whl.metadata (1.5 kB)\n",
            "Collecting nvidia-cusolver-cu12==11.4.5.107 (from torch->fairseq==v0.10.2->-r /content/text_to_table/requirements.txt (line 1))\n",
            "  Obtaining dependency information for nvidia-cusolver-cu12==11.4.5.107 from https://files.pythonhosted.org/packages/bc/1d/8de1e5c67099015c834315e333911273a8c6aaba78923dd1d1e25fc5f217/nvidia_cusolver_cu12-11.4.5.107-py3-none-manylinux1_x86_64.whl.metadata\n",
            "  Downloading nvidia_cusolver_cu12-11.4.5.107-py3-none-manylinux1_x86_64.whl.metadata (1.6 kB)\n",
            "Collecting nvidia-cusparse-cu12==12.1.0.106 (from torch->fairseq==v0.10.2->-r /content/text_to_table/requirements.txt (line 1))\n",
            "  Obtaining dependency information for nvidia-cusparse-cu12==12.1.0.106 from https://files.pythonhosted.org/packages/65/5b/cfaeebf25cd9fdec14338ccb16f6b2c4c7fa9163aefcf057d86b9cc248bb/nvidia_cusparse_cu12-12.1.0.106-py3-none-manylinux1_x86_64.whl.metadata\n",
            "  Downloading nvidia_cusparse_cu12-12.1.0.106-py3-none-manylinux1_x86_64.whl.metadata (1.6 kB)\n",
            "Collecting nvidia-nccl-cu12==2.20.5 (from torch->fairseq==v0.10.2->-r /content/text_to_table/requirements.txt (line 1))\n",
            "  Obtaining dependency information for nvidia-nccl-cu12==2.20.5 from https://files.pythonhosted.org/packages/4b/2a/0a131f572aa09f741c30ccd45a8e56316e8be8dfc7bc19bf0ab7cfef7b19/nvidia_nccl_cu12-2.20.5-py3-none-manylinux2014_x86_64.whl.metadata\n",
            "  Downloading nvidia_nccl_cu12-2.20.5-py3-none-manylinux2014_x86_64.whl.metadata (1.8 kB)\n",
            "Collecting nvidia-nvtx-cu12==12.1.105 (from torch->fairseq==v0.10.2->-r /content/text_to_table/requirements.txt (line 1))\n",
            "  Obtaining dependency information for nvidia-nvtx-cu12==12.1.105 from https://files.pythonhosted.org/packages/da/d3/8057f0587683ed2fcd4dbfbdfdfa807b9160b809976099d36b8f60d08f03/nvidia_nvtx_cu12-12.1.105-py3-none-manylinux1_x86_64.whl.metadata\n",
            "  Downloading nvidia_nvtx_cu12-12.1.105-py3-none-manylinux1_x86_64.whl.metadata (1.7 kB)\n",
            "Collecting triton==3.0.0 (from torch->fairseq==v0.10.2->-r /content/text_to_table/requirements.txt (line 1))\n",
            "  Obtaining dependency information for triton==3.0.0 from https://files.pythonhosted.org/packages/4d/b4/c37e2776a1390bab7e78a6d52bd525441cb3cad7260a6a00b11b0b702e7c/triton-3.0.0-1-cp38-cp38-manylinux2014_x86_64.manylinux_2_17_x86_64.whl.metadata\n",
            "  Downloading triton-3.0.0-1-cp38-cp38-manylinux2014_x86_64.manylinux_2_17_x86_64.whl.metadata (1.3 kB)\n",
            "Collecting nvidia-nvjitlink-cu12 (from nvidia-cusolver-cu12==11.4.5.107->torch->fairseq==v0.10.2->-r /content/text_to_table/requirements.txt (line 1))\n",
            "  Obtaining dependency information for nvidia-nvjitlink-cu12 from https://files.pythonhosted.org/packages/9d/d7/c5383e47c7e9bf1c99d5bd2a8c935af2b6d705ad831a7ec5c97db4d82f4f/nvidia_nvjitlink_cu12-12.6.85-py3-none-manylinux2010_x86_64.manylinux_2_12_x86_64.whl.metadata\n",
            "  Downloading nvidia_nvjitlink_cu12-12.6.85-py3-none-manylinux2010_x86_64.manylinux_2_12_x86_64.whl.metadata (1.5 kB)\n",
            "Collecting pycparser (from cffi->fairseq==v0.10.2->-r /content/text_to_table/requirements.txt (line 1))\n",
            "  Obtaining dependency information for pycparser from https://files.pythonhosted.org/packages/13/a3/a812df4e2dd5696d1f351d58b8fe16a405b234ad2886a0dab9183fb78109/pycparser-2.22-py3-none-any.whl.metadata\n",
            "  Downloading pycparser-2.22-py3-none-any.whl.metadata (943 bytes)\n",
            "Collecting omegaconf<2.4,>=2.2 (from hydra-core->fairseq==v0.10.2->-r /content/text_to_table/requirements.txt (line 1))\n",
            "  Obtaining dependency information for omegaconf<2.4,>=2.2 from https://files.pythonhosted.org/packages/e3/94/1843518e420fa3ed6919835845df698c7e27e183cb997394e4a670973a65/omegaconf-2.3.0-py3-none-any.whl.metadata\n",
            "  Downloading omegaconf-2.3.0-py3-none-any.whl.metadata (3.9 kB)\n",
            "Collecting antlr4-python3-runtime==4.9.* (from hydra-core->fairseq==v0.10.2->-r /content/text_to_table/requirements.txt (line 1))\n",
            "  Downloading antlr4-python3-runtime-4.9.3.tar.gz (117 kB)\n",
            "\u001b[2K     \u001b[90m━━━━━━━━━━━━━━━━━━━━━━━━━━━━━━━━━━━━━━━━\u001b[0m \u001b[32m117.0/117.0 kB\u001b[0m \u001b[31m19.2 MB/s\u001b[0m eta \u001b[36m0:00:00\u001b[0m\n",
            "\u001b[?25h  Preparing metadata (setup.py) ... \u001b[?25l\u001b[?25hdone\n",
            "Collecting importlib-resources (from hydra-core->fairseq==v0.10.2->-r /content/text_to_table/requirements.txt (line 1))\n",
            "  Obtaining dependency information for importlib-resources from https://files.pythonhosted.org/packages/e1/6a/4604f9ae2fa62ef47b9de2fa5ad599589d28c9fd1d335f32759813dfa91e/importlib_resources-6.4.5-py3-none-any.whl.metadata\n",
            "  Downloading importlib_resources-6.4.5-py3-none-any.whl.metadata (4.0 kB)\n",
            "Collecting contourpy>=1.0.1 (from matplotlib->bert_score==v0.3.11->-r /content/text_to_table/requirements.txt (line 3))\n",
            "  Obtaining dependency information for contourpy>=1.0.1 from https://files.pythonhosted.org/packages/8e/71/7f20855592cc929bc206810432b991ec4c702dc26b0567b132e52c85536f/contourpy-1.1.1-cp38-cp38-manylinux_2_17_x86_64.manylinux2014_x86_64.whl.metadata\n",
            "  Downloading contourpy-1.1.1-cp38-cp38-manylinux_2_17_x86_64.manylinux2014_x86_64.whl.metadata (5.9 kB)\n",
            "Collecting cycler>=0.10 (from matplotlib->bert_score==v0.3.11->-r /content/text_to_table/requirements.txt (line 3))\n",
            "  Obtaining dependency information for cycler>=0.10 from https://files.pythonhosted.org/packages/e7/05/c19819d5e3d95294a6f5947fb9b9629efb316b96de511b418c53d245aae6/cycler-0.12.1-py3-none-any.whl.metadata\n",
            "  Downloading cycler-0.12.1-py3-none-any.whl.metadata (3.8 kB)\n",
            "Collecting fonttools>=4.22.0 (from matplotlib->bert_score==v0.3.11->-r /content/text_to_table/requirements.txt (line 3))\n",
            "  Obtaining dependency information for fonttools>=4.22.0 from https://files.pythonhosted.org/packages/b5/10/8057a6c234637e290e7df88fac048108a2f8c8fc36e0da2216945b67f47b/fonttools-4.55.3-cp38-cp38-manylinux_2_17_x86_64.manylinux2014_x86_64.whl.metadata\n",
            "  Downloading fonttools-4.55.3-cp38-cp38-manylinux_2_17_x86_64.manylinux2014_x86_64.whl.metadata (165 kB)\n",
            "\u001b[2K     \u001b[90m━━━━━━━━━━━━━━━━━━━━━━━━━━━━━━━━━━━━━━━━\u001b[0m \u001b[32m165.2/165.2 kB\u001b[0m \u001b[31m8.9 MB/s\u001b[0m eta \u001b[36m0:00:00\u001b[0m\n",
            "\u001b[?25hCollecting kiwisolver>=1.0.1 (from matplotlib->bert_score==v0.3.11->-r /content/text_to_table/requirements.txt (line 3))\n",
            "  Obtaining dependency information for kiwisolver>=1.0.1 from https://files.pythonhosted.org/packages/76/36/ae40d7a3171e06f55ac77fe5536079e7be1d8be2a8210e08975c7f9b4d54/kiwisolver-1.4.7-cp38-cp38-manylinux_2_5_x86_64.manylinux1_x86_64.whl.metadata\n",
            "  Downloading kiwisolver-1.4.7-cp38-cp38-manylinux_2_5_x86_64.manylinux1_x86_64.whl.metadata (6.3 kB)\n",
            "Collecting pillow>=6.2.0 (from matplotlib->bert_score==v0.3.11->-r /content/text_to_table/requirements.txt (line 3))\n",
            "  Obtaining dependency information for pillow>=6.2.0 from https://files.pythonhosted.org/packages/fb/ad/435fe29865f98a8fbdc64add8875a6e4f8c97749a93577a8919ec6f32c64/pillow-10.4.0-cp38-cp38-manylinux_2_28_x86_64.whl.metadata\n",
            "  Downloading pillow-10.4.0-cp38-cp38-manylinux_2_28_x86_64.whl.metadata (9.2 kB)\n",
            "Requirement already satisfied: pyparsing>=2.3.1 in /usr/lib/python3/dist-packages (from matplotlib->bert_score==v0.3.11->-r /content/text_to_table/requirements.txt (line 3)) (2.4.7)\n",
            "Collecting charset-normalizer<4,>=2 (from requests->bert_score==v0.3.11->-r /content/text_to_table/requirements.txt (line 3))\n",
            "  Obtaining dependency information for charset-normalizer<4,>=2 from https://files.pythonhosted.org/packages/1e/0d/38ef4ae41e9248d63fc4998d933cae22473b1b2ac4122cf908d0f5eb32aa/charset_normalizer-3.4.1-cp38-cp38-manylinux_2_17_x86_64.manylinux2014_x86_64.whl.metadata\n",
            "  Downloading charset_normalizer-3.4.1-cp38-cp38-manylinux_2_17_x86_64.manylinux2014_x86_64.whl.metadata (35 kB)\n",
            "Collecting idna<4,>=2.5 (from requests->bert_score==v0.3.11->-r /content/text_to_table/requirements.txt (line 3))\n",
            "  Obtaining dependency information for idna<4,>=2.5 from https://files.pythonhosted.org/packages/76/c6/c88e154df9c4e1a2a66ccf0005a88dfb2650c1dffb6f5ce603dfbd452ce3/idna-3.10-py3-none-any.whl.metadata\n",
            "  Downloading idna-3.10-py3-none-any.whl.metadata (10 kB)\n",
            "Collecting urllib3<3,>=1.21.1 (from requests->bert_score==v0.3.11->-r /content/text_to_table/requirements.txt (line 3))\n",
            "  Obtaining dependency information for urllib3<3,>=1.21.1 from https://files.pythonhosted.org/packages/ce/d9/5f4c13cecde62396b0d3fe530a50ccea91e7dfc1ccf0e09c228841bb5ba8/urllib3-2.2.3-py3-none-any.whl.metadata\n",
            "  Downloading urllib3-2.2.3-py3-none-any.whl.metadata (6.5 kB)\n",
            "Collecting certifi>=2017.4.17 (from requests->bert_score==v0.3.11->-r /content/text_to_table/requirements.txt (line 3))\n",
            "  Obtaining dependency information for certifi>=2017.4.17 from https://files.pythonhosted.org/packages/a5/32/8f6669fc4798494966bf446c8c4a162e0b5d893dff088afddf76414f70e1/certifi-2024.12.14-py3-none-any.whl.metadata\n",
            "  Downloading certifi-2024.12.14-py3-none-any.whl.metadata (2.3 kB)\n",
            "Collecting click (from sacremoses->transformers==v3.1.0->-r /content/text_to_table/requirements.txt (line 4))\n",
            "  Obtaining dependency information for click from https://files.pythonhosted.org/packages/7e/d4/7ebdbd03970677812aac39c869717059dbb71a4cfc033ca6e5221787892c/click-8.1.8-py3-none-any.whl.metadata\n",
            "  Downloading click-8.1.8-py3-none-any.whl.metadata (2.3 kB)\n",
            "Collecting joblib (from sacremoses->transformers==v3.1.0->-r /content/text_to_table/requirements.txt (line 4))\n",
            "  Obtaining dependency information for joblib from https://files.pythonhosted.org/packages/91/29/df4b9b42f2be0b623cbd5e2140cafcaa2bef0759a00b7b70104dcfe2fb51/joblib-1.4.2-py3-none-any.whl.metadata\n",
            "  Downloading joblib-1.4.2-py3-none-any.whl.metadata (5.4 kB)\n",
            "Collecting zipp>=3.1.0 (from importlib-resources->hydra-core->fairseq==v0.10.2->-r /content/text_to_table/requirements.txt (line 1))\n",
            "  Obtaining dependency information for zipp>=3.1.0 from https://files.pythonhosted.org/packages/62/8b/5ba542fa83c90e09eac972fc9baca7a88e7e7ca4b221a89251954019308b/zipp-3.20.2-py3-none-any.whl.metadata\n",
            "  Downloading zipp-3.20.2-py3-none-any.whl.metadata (3.7 kB)\n",
            "Collecting PyYAML>=5.1.0 (from omegaconf<2.4,>=2.2->hydra-core->fairseq==v0.10.2->-r /content/text_to_table/requirements.txt (line 1))\n",
            "  Obtaining dependency information for PyYAML>=5.1.0 from https://files.pythonhosted.org/packages/fd/7f/2c3697bba5d4aa5cc2afe81826d73dfae5f049458e44732c7a0938baa673/PyYAML-6.0.2-cp38-cp38-manylinux_2_17_x86_64.manylinux2014_x86_64.whl.metadata\n",
            "  Downloading PyYAML-6.0.2-cp38-cp38-manylinux_2_17_x86_64.manylinux2014_x86_64.whl.metadata (2.1 kB)\n",
            "Requirement already satisfied: six>=1.5 in /usr/lib/python3/dist-packages (from python-dateutil>=2.8.2->pandas>=1.0.1->bert_score==v0.3.11->-r /content/text_to_table/requirements.txt (line 3)) (1.16.0)\n",
            "Collecting MarkupSafe>=2.0 (from jinja2->torch->fairseq==v0.10.2->-r /content/text_to_table/requirements.txt (line 1))\n",
            "  Obtaining dependency information for MarkupSafe>=2.0 from https://files.pythonhosted.org/packages/c7/bd/50319665ce81bb10e90d1cf76f9e1aa269ea6f7fa30ab4521f14d122a3df/MarkupSafe-2.1.5-cp38-cp38-manylinux_2_17_x86_64.manylinux2014_x86_64.whl.metadata\n",
            "  Downloading MarkupSafe-2.1.5-cp38-cp38-manylinux_2_17_x86_64.manylinux2014_x86_64.whl.metadata (3.0 kB)\n",
            "Collecting mpmath<1.4,>=1.1.0 (from sympy->torch->fairseq==v0.10.2->-r /content/text_to_table/requirements.txt (line 1))\n",
            "  Obtaining dependency information for mpmath<1.4,>=1.1.0 from https://files.pythonhosted.org/packages/43/e3/7d92a15f894aa0c9c4b49b8ee9ac9850d6e63b03c9c32c0367a13ae62209/mpmath-1.3.0-py3-none-any.whl.metadata\n",
            "  Downloading mpmath-1.3.0-py3-none-any.whl.metadata (8.6 kB)\n",
            "Downloading fairseq-0.10.2-cp38-cp38-manylinux1_x86_64.whl (1.7 MB)\n",
            "\u001b[2K   \u001b[90m━━━━━━━━━━━━━━━━━━━━━━━━━━━━━━━━━━━━━━━━\u001b[0m \u001b[32m1.7/1.7 MB\u001b[0m \u001b[31m1.8 MB/s\u001b[0m eta \u001b[36m0:00:00\u001b[0m\n",
            "\u001b[?25hDownloading sacrebleu-2.0.0-py3-none-any.whl (90 kB)\n",
            "\u001b[2K   \u001b[90m━━━━━━━━━━━━━━━━━━━━━━━━━━━━━━━━━━━━━━━━\u001b[0m \u001b[32m90.7/90.7 kB\u001b[0m \u001b[31m15.8 MB/s\u001b[0m eta \u001b[36m0:00:00\u001b[0m\n",
            "\u001b[?25hDownloading bert_score-0.3.11-py3-none-any.whl (60 kB)\n",
            "\u001b[2K   \u001b[90m━━━━━━━━━━━━━━━━━━━━━━━━━━━━━━━━━━━━━━━━\u001b[0m \u001b[32m60.1/60.1 kB\u001b[0m \u001b[31m8.8 MB/s\u001b[0m eta \u001b[36m0:00:00\u001b[0m\n",
            "\u001b[?25hDownloading transformers-3.1.0-py3-none-any.whl (884 kB)\n",
            "\u001b[2K   \u001b[90m━━━━━━━━━━━━━━━━━━━━━━━━━━━━━━━━━━━━━━━━\u001b[0m \u001b[32m884.0/884.0 kB\u001b[0m \u001b[31m65.0 MB/s\u001b[0m eta \u001b[36m0:00:00\u001b[0m\n",
            "\u001b[?25hDownloading tokenizers-0.8.1rc2-cp38-cp38-manylinux1_x86_64.whl (3.0 MB)\n",
            "\u001b[2K   \u001b[90m━━━━━━━━━━━━━━━━━━━━━━━━━━━━━━━━━━━━━━━━\u001b[0m \u001b[32m3.0/3.0 MB\u001b[0m \u001b[31m2.9 MB/s\u001b[0m eta \u001b[36m0:00:00\u001b[0m\n",
            "\u001b[?25hDownloading numpy-1.24.4-cp38-cp38-manylinux_2_17_x86_64.manylinux2014_x86_64.whl (17.3 MB)\n",
            "\u001b[2K   \u001b[90m━━━━━━━━━━━━━━━━━━━━━━━━━━━━━━━━━━━━━━━━\u001b[0m \u001b[32m17.3/17.3 MB\u001b[0m \u001b[31m56.2 MB/s\u001b[0m eta \u001b[36m0:00:00\u001b[0m\n",
            "\u001b[?25hDownloading packaging-24.2-py3-none-any.whl (65 kB)\n",
            "\u001b[2K   \u001b[90m━━━━━━━━━━━━━━━━━━━━━━━━━━━━━━━━━━━━━━━━\u001b[0m \u001b[32m65.5/65.5 kB\u001b[0m \u001b[31m10.2 MB/s\u001b[0m eta \u001b[36m0:00:00\u001b[0m\n",
            "\u001b[?25hDownloading pandas-2.0.3-cp38-cp38-manylinux_2_17_x86_64.manylinux2014_x86_64.whl (12.4 MB)\n",
            "\u001b[2K   \u001b[90m━━━━━━━━━━━━━━━━━━━━━━━━━━━━━━━━━━━━━━━━\u001b[0m \u001b[32m12.4/12.4 MB\u001b[0m \u001b[31m61.2 MB/s\u001b[0m eta \u001b[36m0:00:00\u001b[0m\n",
            "\u001b[?25hDownloading regex-2024.11.6-cp38-cp38-manylinux_2_17_x86_64.manylinux2014_x86_64.whl (785 kB)\n",
            "\u001b[2K   \u001b[90m━━━━━━━━━━━━━━━━━━━━━━━━━━━━━━━━━━━━━━━━\u001b[0m \u001b[32m785.1/785.1 kB\u001b[0m \u001b[31m38.4 MB/s\u001b[0m eta \u001b[36m0:00:00\u001b[0m\n",
            "\u001b[?25hDownloading sentencepiece-0.2.0-cp38-cp38-manylinux_2_17_x86_64.manylinux2014_x86_64.whl (1.3 MB)\n",
            "\u001b[2K   \u001b[90m━━━━━━━━━━━━━━━━━━━━━━━━━━━━━━━━━━━━━━━━\u001b[0m \u001b[32m1.3/1.3 MB\u001b[0m \u001b[31m49.1 MB/s\u001b[0m eta \u001b[36m0:00:00\u001b[0m\n",
            "\u001b[?25hDownloading tabulate-0.9.0-py3-none-any.whl (35 kB)\n",
            "Downloading torch-2.4.1-cp38-cp38-manylinux1_x86_64.whl (797.1 MB)\n",
            "\u001b[2K   \u001b[90m━━━━━━━━━━━━━━━━━━━━━━━━━━━━━━━━━━━━━━━━\u001b[0m \u001b[32m797.1/797.1 MB\u001b[0m \u001b[31m2.0 MB/s\u001b[0m eta \u001b[36m0:00:00\u001b[0m\n",
            "\u001b[?25hDownloading nvidia_cublas_cu12-12.1.3.1-py3-none-manylinux1_x86_64.whl (410.6 MB)\n",
            "\u001b[2K   \u001b[90m━━━━━━━━━━━━━━━━━━━━━━━━━━━━━━━━━━━━━━━━\u001b[0m \u001b[32m410.6/410.6 MB\u001b[0m \u001b[31m2.1 MB/s\u001b[0m eta \u001b[36m0:00:00\u001b[0m\n",
            "\u001b[?25hDownloading nvidia_cuda_cupti_cu12-12.1.105-py3-none-manylinux1_x86_64.whl (14.1 MB)\n",
            "\u001b[2K   \u001b[90m━━━━━━━━━━━━━━━━━━━━━━━━━━━━━━━━━━━━━━━━\u001b[0m \u001b[32m14.1/14.1 MB\u001b[0m \u001b[31m91.1 MB/s\u001b[0m eta \u001b[36m0:00:00\u001b[0m\n",
            "\u001b[?25hDownloading nvidia_cuda_nvrtc_cu12-12.1.105-py3-none-manylinux1_x86_64.whl (23.7 MB)\n",
            "\u001b[2K   \u001b[90m━━━━━━━━━━━━━━━━━━━━━━━━━━━━━━━━━━━━━━━━\u001b[0m \u001b[32m23.7/23.7 MB\u001b[0m \u001b[31m69.1 MB/s\u001b[0m eta \u001b[36m0:00:00\u001b[0m\n",
            "\u001b[?25hDownloading nvidia_cuda_runtime_cu12-12.1.105-py3-none-manylinux1_x86_64.whl (823 kB)\n",
            "\u001b[2K   \u001b[90m━━━━━━━━━━━━━━━━━━━━━━━━━━━━━━━━━━━━━━━━\u001b[0m \u001b[32m823.6/823.6 kB\u001b[0m \u001b[31m65.8 MB/s\u001b[0m eta \u001b[36m0:00:00\u001b[0m\n",
            "\u001b[?25hDownloading nvidia_cudnn_cu12-9.1.0.70-py3-none-manylinux2014_x86_64.whl (664.8 MB)\n",
            "\u001b[2K   \u001b[90m━━━━━━━━━━━━━━━━━━━━━━━━━━━━━━━━━━━━━━━━\u001b[0m \u001b[32m664.8/664.8 MB\u001b[0m \u001b[31m2.4 MB/s\u001b[0m eta \u001b[36m0:00:00\u001b[0m\n",
            "\u001b[?25hDownloading nvidia_cufft_cu12-11.0.2.54-py3-none-manylinux1_x86_64.whl (121.6 MB)\n",
            "\u001b[2K   \u001b[90m━━━━━━━━━━━━━━━━━━━━━━━━━━━━━━━━━━━━━━━━\u001b[0m \u001b[32m121.6/121.6 MB\u001b[0m \u001b[31m8.4 MB/s\u001b[0m eta \u001b[36m0:00:00\u001b[0m\n",
            "\u001b[?25hDownloading nvidia_curand_cu12-10.3.2.106-py3-none-manylinux1_x86_64.whl (56.5 MB)\n",
            "\u001b[2K   \u001b[90m━━━━━━━━━━━━━━━━━━━━━━━━━━━━━━━━━━━━━━━━\u001b[0m \u001b[32m56.5/56.5 MB\u001b[0m \u001b[31m10.1 MB/s\u001b[0m eta \u001b[36m0:00:00\u001b[0m\n",
            "\u001b[?25hDownloading nvidia_cusolver_cu12-11.4.5.107-py3-none-manylinux1_x86_64.whl (124.2 MB)\n",
            "\u001b[2K   \u001b[90m━━━━━━━━━━━━━━━━━━━━━━━━━━━━━━━━━━━━━━━━\u001b[0m \u001b[32m124.2/124.2 MB\u001b[0m \u001b[31m8.5 MB/s\u001b[0m eta \u001b[36m0:00:00\u001b[0m\n",
            "\u001b[?25hDownloading nvidia_cusparse_cu12-12.1.0.106-py3-none-manylinux1_x86_64.whl (196.0 MB)\n",
            "\u001b[2K   \u001b[90m━━━━━━━━━━━━━━━━━━━━━━━━━━━━━━━━━━━━━━━━\u001b[0m \u001b[32m196.0/196.0 MB\u001b[0m \u001b[31m6.7 MB/s\u001b[0m eta \u001b[36m0:00:00\u001b[0m\n",
            "\u001b[?25hDownloading nvidia_nccl_cu12-2.20.5-py3-none-manylinux2014_x86_64.whl (176.2 MB)\n",
            "\u001b[2K   \u001b[90m━━━━━━━━━━━━━━━━━━━━━━━━━━━━━━━━━━━━━━━━\u001b[0m \u001b[32m176.2/176.2 MB\u001b[0m \u001b[31m6.5 MB/s\u001b[0m eta \u001b[36m0:00:00\u001b[0m\n",
            "\u001b[?25hDownloading nvidia_nvtx_cu12-12.1.105-py3-none-manylinux1_x86_64.whl (99 kB)\n",
            "\u001b[2K   \u001b[90m━━━━━━━━━━━━━━━━━━━━━━━━━━━━━━━━━━━━━━━━\u001b[0m \u001b[32m99.1/99.1 kB\u001b[0m \u001b[31m13.0 MB/s\u001b[0m eta \u001b[36m0:00:00\u001b[0m\n",
            "\u001b[?25hDownloading triton-3.0.0-1-cp38-cp38-manylinux2014_x86_64.manylinux_2_17_x86_64.whl (209.4 MB)\n",
            "\u001b[2K   \u001b[90m━━━━━━━━━━━━━━━━━━━━━━━━━━━━━━━━━━━━━━━━\u001b[0m \u001b[32m209.4/209.4 MB\u001b[0m \u001b[31m6.3 MB/s\u001b[0m eta \u001b[36m0:00:00\u001b[0m\n",
            "\u001b[?25hDownloading tqdm-4.67.1-py3-none-any.whl (78 kB)\n",
            "\u001b[2K   \u001b[90m━━━━━━━━━━━━━━━━━━━━━━━━━━━━━━━━━━━━━━━━\u001b[0m \u001b[32m78.5/78.5 kB\u001b[0m \u001b[31m10.5 MB/s\u001b[0m eta \u001b[36m0:00:00\u001b[0m\n",
            "\u001b[?25hDownloading cffi-1.17.1-cp38-cp38-manylinux_2_17_x86_64.manylinux2014_x86_64.whl (446 kB)\n",
            "\u001b[2K   \u001b[90m━━━━━━━━━━━━━━━━━━━━━━━━━━━━━━━━━━━━━━━━\u001b[0m \u001b[32m446.5/446.5 kB\u001b[0m \u001b[31m47.5 MB/s\u001b[0m eta \u001b[36m0:00:00\u001b[0m\n",
            "\u001b[?25hDownloading colorama-0.4.6-py2.py3-none-any.whl (25 kB)\n",
            "Downloading Cython-3.0.11-cp38-cp38-manylinux_2_17_x86_64.manylinux2014_x86_64.whl (3.6 MB)\n",
            "\u001b[2K   \u001b[90m━━━━━━━━━━━━━━━━━━━━━━━━━━━━━━━━━━━━━━━━\u001b[0m \u001b[32m3.6/3.6 MB\u001b[0m \u001b[31m92.1 MB/s\u001b[0m eta \u001b[36m0:00:00\u001b[0m\n",
            "\u001b[?25hDownloading dataclasses-0.6-py3-none-any.whl (14 kB)\n",
            "Downloading hydra_core-1.3.2-py3-none-any.whl (154 kB)\n",
            "\u001b[2K   \u001b[90m━━━━━━━━━━━━━━━━━━━━━━━━━━━━━━━━━━━━━━━━\u001b[0m \u001b[32m154.5/154.5 kB\u001b[0m \u001b[31m25.0 MB/s\u001b[0m eta \u001b[36m0:00:00\u001b[0m\n",
            "\u001b[?25hDownloading matplotlib-3.7.5-cp38-cp38-manylinux_2_12_x86_64.manylinux2010_x86_64.whl (9.2 MB)\n",
            "\u001b[2K   \u001b[90m━━━━━━━━━━━━━━━━━━━━━━━━━━━━━━━━━━━━━━━━\u001b[0m \u001b[32m9.2/9.2 MB\u001b[0m \u001b[31m104.4 MB/s\u001b[0m eta \u001b[36m0:00:00\u001b[0m\n",
            "\u001b[?25hDownloading portalocker-3.0.0-py3-none-any.whl (19 kB)\n",
            "Downloading requests-2.32.3-py3-none-any.whl (64 kB)\n",
            "\u001b[2K   \u001b[90m━━━━━━━━━━━━━━━━━━━━━━━━━━━━━━━━━━━━━━━━\u001b[0m \u001b[32m64.9/64.9 kB\u001b[0m \u001b[31m10.6 MB/s\u001b[0m eta \u001b[36m0:00:00\u001b[0m\n",
            "\u001b[?25hDownloading sacremoses-0.1.1-py3-none-any.whl (897 kB)\n",
            "\u001b[2K   \u001b[90m━━━━━━━━━━━━━━━━━━━━━━━━━━━━━━━━━━━━━━━━\u001b[0m \u001b[32m897.5/897.5 kB\u001b[0m \u001b[31m62.9 MB/s\u001b[0m eta \u001b[36m0:00:00\u001b[0m\n",
            "\u001b[?25hDownloading certifi-2024.12.14-py3-none-any.whl (164 kB)\n",
            "\u001b[2K   \u001b[90m━━━━━━━━━━━━━━━━━━━━━━━━━━━━━━━━━━━━━━━━\u001b[0m \u001b[32m164.9/164.9 kB\u001b[0m \u001b[31m25.7 MB/s\u001b[0m eta \u001b[36m0:00:00\u001b[0m\n",
            "\u001b[?25hDownloading charset_normalizer-3.4.1-cp38-cp38-manylinux_2_17_x86_64.manylinux2014_x86_64.whl (144 kB)\n",
            "\u001b[2K   \u001b[90m━━━━━━━━━━━━━━━━━━━━━━━━━━━━━━━━━━━━━━━━\u001b[0m \u001b[32m144.7/144.7 kB\u001b[0m \u001b[31m23.1 MB/s\u001b[0m eta \u001b[36m0:00:00\u001b[0m\n",
            "\u001b[?25hDownloading contourpy-1.1.1-cp38-cp38-manylinux_2_17_x86_64.manylinux2014_x86_64.whl (301 kB)\n",
            "\u001b[2K   \u001b[90m━━━━━━━━━━━━━━━━━━━━━━━━━━━━━━━━━━━━━━━━\u001b[0m \u001b[32m301.1/301.1 kB\u001b[0m \u001b[31m40.0 MB/s\u001b[0m eta \u001b[36m0:00:00\u001b[0m\n",
            "\u001b[?25hDownloading cycler-0.12.1-py3-none-any.whl (8.3 kB)\n",
            "Downloading fonttools-4.55.3-cp38-cp38-manylinux_2_17_x86_64.manylinux2014_x86_64.whl (4.7 MB)\n",
            "\u001b[2K   \u001b[90m━━━━━━━━━━━━━━━━━━━━━━━━━━━━━━━━━━━━━━━━\u001b[0m \u001b[32m4.7/4.7 MB\u001b[0m \u001b[31m98.0 MB/s\u001b[0m eta \u001b[36m0:00:00\u001b[0m\n",
            "\u001b[?25hDownloading idna-3.10-py3-none-any.whl (70 kB)\n",
            "\u001b[2K   \u001b[90m━━━━━━━━━━━━━━━━━━━━━━━━━━━━━━━━━━━━━━━━\u001b[0m \u001b[32m70.4/70.4 kB\u001b[0m \u001b[31m12.4 MB/s\u001b[0m eta \u001b[36m0:00:00\u001b[0m\n",
            "\u001b[?25hDownloading importlib_resources-6.4.5-py3-none-any.whl (36 kB)\n",
            "Downloading kiwisolver-1.4.7-cp38-cp38-manylinux_2_5_x86_64.manylinux1_x86_64.whl (1.2 MB)\n",
            "\u001b[2K   \u001b[90m━━━━━━━━━━━━━━━━━━━━━━━━━━━━━━━━━━━━━━━━\u001b[0m \u001b[32m1.2/1.2 MB\u001b[0m \u001b[31m74.2 MB/s\u001b[0m eta \u001b[36m0:00:00\u001b[0m\n",
            "\u001b[?25hDownloading omegaconf-2.3.0-py3-none-any.whl (79 kB)\n",
            "\u001b[2K   \u001b[90m━━━━━━━━━━━━━━━━━━━━━━━━━━━━━━━━━━━━━━━━\u001b[0m \u001b[32m79.5/79.5 kB\u001b[0m \u001b[31m11.3 MB/s\u001b[0m eta \u001b[36m0:00:00\u001b[0m\n",
            "\u001b[?25hDownloading pillow-10.4.0-cp38-cp38-manylinux_2_28_x86_64.whl (4.5 MB)\n",
            "\u001b[2K   \u001b[90m━━━━━━━━━━━━━━━━━━━━━━━━━━━━━━━━━━━━━━━━\u001b[0m \u001b[32m4.5/4.5 MB\u001b[0m \u001b[31m104.6 MB/s\u001b[0m eta \u001b[36m0:00:00\u001b[0m\n",
            "\u001b[?25hDownloading python_dateutil-2.9.0.post0-py2.py3-none-any.whl (229 kB)\n",
            "\u001b[2K   \u001b[90m━━━━━━━━━━━━━━━━━━━━━━━━━━━━━━━━━━━━━━━━\u001b[0m \u001b[32m229.9/229.9 kB\u001b[0m \u001b[31m34.3 MB/s\u001b[0m eta \u001b[36m0:00:00\u001b[0m\n",
            "\u001b[?25hDownloading pytz-2024.2-py2.py3-none-any.whl (508 kB)\n",
            "\u001b[2K   \u001b[90m━━━━━━━━━━━━━━━━━━━━━━━━━━━━━━━━━━━━━━━━\u001b[0m \u001b[32m508.0/508.0 kB\u001b[0m \u001b[31m47.4 MB/s\u001b[0m eta \u001b[36m0:00:00\u001b[0m\n",
            "\u001b[?25hDownloading typing_extensions-4.12.2-py3-none-any.whl (37 kB)\n",
            "Downloading tzdata-2024.2-py2.py3-none-any.whl (346 kB)\n",
            "\u001b[2K   \u001b[90m━━━━━━━━━━━━━━━━━━━━━━━━━━━━━━━━━━━━━━━━\u001b[0m \u001b[32m346.6/346.6 kB\u001b[0m \u001b[31m46.8 MB/s\u001b[0m eta \u001b[36m0:00:00\u001b[0m\n",
            "\u001b[?25hDownloading urllib3-2.2.3-py3-none-any.whl (126 kB)\n",
            "\u001b[2K   \u001b[90m━━━━━━━━━━━━━━━━━━━━━━━━━━━━━━━━━━━━━━━━\u001b[0m \u001b[32m126.3/126.3 kB\u001b[0m \u001b[31m20.0 MB/s\u001b[0m eta \u001b[36m0:00:00\u001b[0m\n",
            "\u001b[?25hDownloading click-8.1.8-py3-none-any.whl (98 kB)\n",
            "\u001b[2K   \u001b[90m━━━━━━━━━━━━━━━━━━━━━━━━━━━━━━━━━━━━━━━━\u001b[0m \u001b[32m98.2/98.2 kB\u001b[0m \u001b[31m15.6 MB/s\u001b[0m eta \u001b[36m0:00:00\u001b[0m\n",
            "\u001b[?25hDownloading fsspec-2024.12.0-py3-none-any.whl (183 kB)\n",
            "\u001b[2K   \u001b[90m━━━━━━━━━━━━━━━━━━━━━━━━━━━━━━━━━━━━━━━━\u001b[0m \u001b[32m183.9/183.9 kB\u001b[0m \u001b[31m28.2 MB/s\u001b[0m eta \u001b[36m0:00:00\u001b[0m\n",
            "\u001b[?25hDownloading jinja2-3.1.5-py3-none-any.whl (134 kB)\n",
            "\u001b[2K   \u001b[90m━━━━━━━━━━━━━━━━━━━━━━━━━━━━━━━━━━━━━━━━\u001b[0m \u001b[32m134.6/134.6 kB\u001b[0m \u001b[31m22.4 MB/s\u001b[0m eta \u001b[36m0:00:00\u001b[0m\n",
            "\u001b[?25hDownloading joblib-1.4.2-py3-none-any.whl (301 kB)\n",
            "\u001b[2K   \u001b[90m━━━━━━━━━━━━━━━━━━━━━━━━━━━━━━━━━━━━━━━━\u001b[0m \u001b[32m301.8/301.8 kB\u001b[0m \u001b[31m42.2 MB/s\u001b[0m eta \u001b[36m0:00:00\u001b[0m\n",
            "\u001b[?25hDownloading networkx-3.1-py3-none-any.whl (2.1 MB)\n",
            "\u001b[2K   \u001b[90m━━━━━━━━━━━━━━━━━━━━━━━━━━━━━━━━━━━━━━━━\u001b[0m \u001b[32m2.1/2.1 MB\u001b[0m \u001b[31m67.5 MB/s\u001b[0m eta \u001b[36m0:00:00\u001b[0m\n",
            "\u001b[?25hDownloading pycparser-2.22-py3-none-any.whl (117 kB)\n",
            "\u001b[2K   \u001b[90m━━━━━━━━━━━━━━━━━━━━━━━━━━━━━━━━━━━━━━━━\u001b[0m \u001b[32m117.6/117.6 kB\u001b[0m \u001b[31m19.7 MB/s\u001b[0m eta \u001b[36m0:00:00\u001b[0m\n",
            "\u001b[?25hDownloading sympy-1.13.3-py3-none-any.whl (6.2 MB)\n",
            "\u001b[2K   \u001b[90m━━━━━━━━━━━━━━━━━━━━━━━━━━━━━━━━━━━━━━━━\u001b[0m \u001b[32m6.2/6.2 MB\u001b[0m \u001b[31m96.0 MB/s\u001b[0m eta \u001b[36m0:00:00\u001b[0m\n",
            "\u001b[?25hDownloading MarkupSafe-2.1.5-cp38-cp38-manylinux_2_17_x86_64.manylinux2014_x86_64.whl (26 kB)\n",
            "Downloading mpmath-1.3.0-py3-none-any.whl (536 kB)\n",
            "\u001b[2K   \u001b[90m━━━━━━━━━━━━━━━━━━━━━━━━━━━━━━━━━━━━━━━━\u001b[0m \u001b[32m536.2/536.2 kB\u001b[0m \u001b[31m42.9 MB/s\u001b[0m eta \u001b[36m0:00:00\u001b[0m\n",
            "\u001b[?25hDownloading PyYAML-6.0.2-cp38-cp38-manylinux_2_17_x86_64.manylinux2014_x86_64.whl (746 kB)\n",
            "\u001b[2K   \u001b[90m━━━━━━━━━━━━━━━━━━━━━━━━━━━━━━━━━━━━━━━━\u001b[0m \u001b[32m746.5/746.5 kB\u001b[0m \u001b[31m50.1 MB/s\u001b[0m eta \u001b[36m0:00:00\u001b[0m\n",
            "\u001b[?25hDownloading zipp-3.20.2-py3-none-any.whl (9.2 kB)\n",
            "Downloading nvidia_nvjitlink_cu12-12.6.85-py3-none-manylinux2010_x86_64.manylinux_2_12_x86_64.whl (19.7 MB)\n",
            "\u001b[2K   \u001b[90m━━━━━━━━━━━━━━━━━━━━━━━━━━━━━━━━━━━━━━━━\u001b[0m \u001b[32m19.7/19.7 MB\u001b[0m \u001b[31m59.8 MB/s\u001b[0m eta \u001b[36m0:00:00\u001b[0m\n",
            "\u001b[?25hBuilding wheels for collected packages: antlr4-python3-runtime\n",
            "  Building wheel for antlr4-python3-runtime (setup.py) ... \u001b[?25l\u001b[?25hdone\n",
            "  Created wheel for antlr4-python3-runtime: filename=antlr4_python3_runtime-4.9.3-py3-none-any.whl size=144575 sha256=0d494f04bc4d97ea7fc2fccc3caecb5eb68881c38ee30d71bc2d4888b24f30c3\n",
            "  Stored in directory: /root/.cache/pip/wheels/b1/a3/c2/6df046c09459b73cc9bb6c4401b0be6c47048baf9a1617c485\n",
            "Successfully built antlr4-python3-runtime\n",
            "\u001b[33mDEPRECATION: bert-score 0.3.11 has a non-standard dependency specifier transformers>=3.0.0numpy. pip 23.3 will enforce this behaviour change. A possible replacement is to upgrade to a newer version of bert-score or contact the author to suggest that they release a version with a conforming dependency specifiers. Discussion can be found at https://github.com/pypa/pip/issues/12063\u001b[0m\u001b[33m\n",
            "\u001b[0mInstalling collected packages: tokenizers, sentencepiece, pytz, mpmath, dataclasses, antlr4-python3-runtime, zipp, urllib3, tzdata, typing-extensions, triton, tqdm, tabulate, sympy, regex, PyYAML, python-dateutil, pycparser, portalocker, pillow, packaging, nvidia-nvtx-cu12, nvidia-nvjitlink-cu12, nvidia-nccl-cu12, nvidia-curand-cu12, nvidia-cufft-cu12, nvidia-cuda-runtime-cu12, nvidia-cuda-nvrtc-cu12, nvidia-cuda-cupti-cu12, nvidia-cublas-cu12, numpy, networkx, MarkupSafe, kiwisolver, joblib, idna, fsspec, fonttools, cython, cycler, colorama, click, charset-normalizer, certifi, sacremoses, sacrebleu, requests, pandas, omegaconf, nvidia-cusparse-cu12, nvidia-cudnn-cu12, jinja2, importlib-resources, contourpy, cffi, transformers, nvidia-cusolver-cu12, matplotlib, hydra-core, torch, fairseq, bert_score\n",
            "  Attempting uninstall: zipp\n",
            "    Found existing installation: zipp 1.0.0\n",
            "    Uninstalling zipp-1.0.0:\n",
            "      Successfully uninstalled zipp-1.0.0\n",
            "Successfully installed MarkupSafe-2.1.5 PyYAML-6.0.2 antlr4-python3-runtime-4.9.3 bert_score-0.3.11 certifi-2024.12.14 cffi-1.17.1 charset-normalizer-3.4.1 click-8.1.8 colorama-0.4.6 contourpy-1.1.1 cycler-0.12.1 cython-3.0.11 dataclasses-0.6 fairseq-0.10.2 fonttools-4.55.3 fsspec-2024.12.0 hydra-core-1.3.2 idna-3.10 importlib-resources-6.4.5 jinja2-3.1.5 joblib-1.4.2 kiwisolver-1.4.7 matplotlib-3.7.5 mpmath-1.3.0 networkx-3.1 numpy-1.24.4 nvidia-cublas-cu12-12.1.3.1 nvidia-cuda-cupti-cu12-12.1.105 nvidia-cuda-nvrtc-cu12-12.1.105 nvidia-cuda-runtime-cu12-12.1.105 nvidia-cudnn-cu12-9.1.0.70 nvidia-cufft-cu12-11.0.2.54 nvidia-curand-cu12-10.3.2.106 nvidia-cusolver-cu12-11.4.5.107 nvidia-cusparse-cu12-12.1.0.106 nvidia-nccl-cu12-2.20.5 nvidia-nvjitlink-cu12-12.6.85 nvidia-nvtx-cu12-12.1.105 omegaconf-2.3.0 packaging-24.2 pandas-2.0.3 pillow-10.4.0 portalocker-3.0.0 pycparser-2.22 python-dateutil-2.9.0.post0 pytz-2024.2 regex-2024.11.6 requests-2.32.3 sacrebleu-2.0.0 sacremoses-0.1.1 sentencepiece-0.2.0 sympy-1.13.3 tabulate-0.9.0 tokenizers-0.8.1rc2 torch-2.4.1 tqdm-4.67.1 transformers-3.1.0 triton-3.0.0 typing-extensions-4.12.2 tzdata-2024.2 urllib3-2.2.3 zipp-3.20.2\n"
          ]
        },
        {
          "output_type": "display_data",
          "data": {
            "application/vnd.colab-display-data+json": {
              "pip_warning": {
                "packages": [
                  "certifi",
                  "cycler",
                  "kiwisolver"
                ]
              },
              "id": "62d46e529cd04c1595dcd84f16563ffa"
            }
          },
          "metadata": {}
        }
      ]
    },
    {
      "cell_type": "code",
      "source": [
        "!curl --proto '=https' --tlsv1.2 -sSf https://sh.rustup.rs | sh -s -- -y\n",
        "!source $HOME/.cargo/env\n"
      ],
      "metadata": {
        "colab": {
          "base_uri": "https://localhost:8080/"
        },
        "id": "wvNd_orZ_svA",
        "outputId": "6f4ca4d2-56a5-4d45-c57d-a595003fad6e"
      },
      "execution_count": null,
      "outputs": [
        {
          "output_type": "stream",
          "name": "stdout",
          "text": [
            "\u001b[1minfo:\u001b[0m downloading installer\n",
            "\u001b[0m\u001b[1minfo: \u001b[0mprofile set to 'default'\n",
            "\u001b[0m\u001b[1minfo: \u001b[0mdefault host triple is x86_64-unknown-linux-gnu\n",
            "\u001b[0m\u001b[1minfo: \u001b[0msyncing channel updates for 'stable-x86_64-unknown-linux-gnu'\n",
            "\u001b[0m\u001b[1minfo: \u001b[0mlatest update on 2024-11-28, rust version 1.83.0 (90b35a623 2024-11-26)\n",
            "\u001b[0m\u001b[1minfo: \u001b[0mdownloading component 'cargo'\n",
            "\u001b[0m\u001b[1minfo: \u001b[0mdownloading component 'clippy'\n",
            "\u001b[0m\u001b[1minfo: \u001b[0mdownloading component 'rust-docs'\n",
            "\u001b[0m\u001b[1minfo: \u001b[0mdownloading component 'rust-std'\n",
            "\u001b[0m\u001b[1minfo: \u001b[0mdownloading component 'rustc'\n",
            "\u001b[0m\u001b[1minfo: \u001b[0mdownloading component 'rustfmt'\n",
            "\u001b[0m\u001b[1minfo: \u001b[0minstalling component 'cargo'\n",
            "\u001b[0m\u001b[1minfo: \u001b[0minstalling component 'clippy'\n",
            "\u001b[0m\u001b[1minfo: \u001b[0minstalling component 'rust-docs'\n",
            " 16.4 MiB /  16.4 MiB (100 %)   1.3 MiB/s in  8s ETA:  0s\n",
            "\u001b[0m\u001b[1minfo: \u001b[0minstalling component 'rust-std'\n",
            " 26.1 MiB /  26.1 MiB (100 %)   9.3 MiB/s in  3s ETA:  0s\n",
            "\u001b[0m\u001b[1minfo: \u001b[0minstalling component 'rustc'\n",
            " 69.3 MiB /  69.3 MiB (100 %)   8.2 MiB/s in  8s ETA:  0s\n",
            "\u001b[0m\u001b[1minfo: \u001b[0minstalling component 'rustfmt'\n",
            "\u001b[0m\u001b[1minfo: \u001b[0mdefault toolchain set to 'stable-x86_64-unknown-linux-gnu'\n",
            "\n",
            "  \u001b[0m\u001b[1m\u001b[0m\u001b[1m\u001b[32mstable-x86_64-unknown-linux-gnu installed\u001b[0m - rustc 1.83.0 (90b35a623 2024-11-26)\n",
            "\n",
            "\u001b[0m\u001b[1m\n",
            "Rust is installed now. Great!\n",
            "\u001b[0m\n",
            "To get started you may need to restart your current shell.\n",
            "This would reload your \u001b[0m\u001b[1mPATH\u001b[0m environment variable to include\n",
            "Cargo's bin directory ($HOME/.cargo/bin).\n",
            "\n",
            "To configure your current shell, you need to source\n",
            "the corresponding \u001b[0m\u001b[1menv\u001b[0m file under $HOME/.cargo.\n",
            "\n",
            "This is usually done by running one of the following (note the leading DOT):\n",
            ". \"$HOME/.cargo/env\"            # For sh/bash/zsh/ash/dash/pdksh\n",
            "source \"$HOME/.cargo/env.fish\"  # For fish\n"
          ]
        }
      ]
    },
    {
      "cell_type": "code",
      "source": [
        "!pip install cython"
      ],
      "metadata": {
        "colab": {
          "base_uri": "https://localhost:8080/"
        },
        "id": "2VTVg2om_w8S",
        "outputId": "5b33fa66-7dc7-477d-e591-bd13d9d68ddd"
      },
      "execution_count": 10,
      "outputs": [
        {
          "output_type": "stream",
          "name": "stdout",
          "text": [
            "Requirement already satisfied: cython in /usr/local/lib/python3.8/dist-packages (3.0.11)\n",
            "\u001b[33mDEPRECATION: bert-score 0.3.11 has a non-standard dependency specifier transformers>=3.0.0numpy. pip 23.3 will enforce this behaviour change. A possible replacement is to upgrade to a newer version of bert-score or contact the author to suggest that they release a version with a conforming dependency specifiers. Discussion can be found at https://github.com/pypa/pip/issues/12063\u001b[0m\u001b[33m\n",
            "\u001b[0m"
          ]
        }
      ]
    },
    {
      "cell_type": "code",
      "source": [
        "# very hard to install fairseq\n",
        "\n",
        "# we need specifically this version\n",
        "#!git clone --branch v0.10.2 https://github.com/facebookresearch/fairseq.git\n",
        "%cd /content/fairseq/\n",
        "!pip install --editable .\n",
        "%cd /content"
      ],
      "metadata": {
        "colab": {
          "base_uri": "https://localhost:8080/"
        },
        "id": "Pdgg6izLcEQO",
        "outputId": "982c1425-8e04-4a52-a436-981ffd828f3d"
      },
      "execution_count": 25,
      "outputs": [
        {
          "output_type": "stream",
          "name": "stdout",
          "text": [
            "/content/fairseq\n",
            "Obtaining file:///content/fairseq\n",
            "  Installing build dependencies ... \u001b[?25l\u001b[?25hdone\n",
            "  Checking if build backend supports build_editable ... \u001b[?25l\u001b[?25hdone\n",
            "  Getting requirements to build editable ... \u001b[?25l\u001b[?25hdone\n",
            "  Installing backend dependencies ... \u001b[?25l\u001b[?25hdone\n",
            "  Preparing editable metadata (pyproject.toml) ... \u001b[?25l\u001b[?25hdone\n",
            "Requirement already satisfied: cffi in /usr/local/lib/python3.8/dist-packages (from fairseq==0.10.2) (1.17.1)\n",
            "Requirement already satisfied: cython in /usr/local/lib/python3.8/dist-packages (from fairseq==0.10.2) (3.0.11)\n",
            "Requirement already satisfied: dataclasses in /usr/local/lib/python3.8/dist-packages (from fairseq==0.10.2) (0.6)\n",
            "Requirement already satisfied: hydra-core in /usr/local/lib/python3.8/dist-packages (from fairseq==0.10.2) (1.3.2)\n",
            "Requirement already satisfied: numpy in /usr/local/lib/python3.8/dist-packages (from fairseq==0.10.2) (1.20.0)\n",
            "Requirement already satisfied: regex in /usr/local/lib/python3.8/dist-packages (from fairseq==0.10.2) (2024.11.6)\n",
            "Requirement already satisfied: sacrebleu>=1.4.12 in /usr/local/lib/python3.8/dist-packages (from fairseq==0.10.2) (2.0.0)\n",
            "Requirement already satisfied: torch in /usr/local/lib/python3.8/dist-packages (from fairseq==0.10.2) (2.4.1)\n",
            "Requirement already satisfied: tqdm in /usr/local/lib/python3.8/dist-packages (from fairseq==0.10.2) (4.67.1)\n",
            "Requirement already satisfied: portalocker in /usr/local/lib/python3.8/dist-packages (from sacrebleu>=1.4.12->fairseq==0.10.2) (3.0.0)\n",
            "Requirement already satisfied: tabulate>=0.8.9 in /usr/local/lib/python3.8/dist-packages (from sacrebleu>=1.4.12->fairseq==0.10.2) (0.9.0)\n",
            "Requirement already satisfied: colorama in /usr/local/lib/python3.8/dist-packages (from sacrebleu>=1.4.12->fairseq==0.10.2) (0.4.6)\n",
            "Requirement already satisfied: pycparser in /usr/local/lib/python3.8/dist-packages (from cffi->fairseq==0.10.2) (2.22)\n",
            "Requirement already satisfied: omegaconf<2.4,>=2.2 in /usr/local/lib/python3.8/dist-packages (from hydra-core->fairseq==0.10.2) (2.3.0)\n",
            "Requirement already satisfied: antlr4-python3-runtime==4.9.* in /usr/local/lib/python3.8/dist-packages (from hydra-core->fairseq==0.10.2) (4.9.3)\n",
            "Requirement already satisfied: packaging in /usr/local/lib/python3.8/dist-packages (from hydra-core->fairseq==0.10.2) (24.2)\n",
            "Requirement already satisfied: importlib-resources in /usr/local/lib/python3.8/dist-packages (from hydra-core->fairseq==0.10.2) (6.4.5)\n",
            "Requirement already satisfied: filelock in /usr/local/lib/python3.8/dist-packages (from torch->fairseq==0.10.2) (3.16.1)\n",
            "Requirement already satisfied: typing-extensions>=4.8.0 in /usr/local/lib/python3.8/dist-packages (from torch->fairseq==0.10.2) (4.12.2)\n",
            "Requirement already satisfied: sympy in /usr/local/lib/python3.8/dist-packages (from torch->fairseq==0.10.2) (1.13.3)\n",
            "Requirement already satisfied: networkx in /usr/local/lib/python3.8/dist-packages (from torch->fairseq==0.10.2) (3.1)\n",
            "Requirement already satisfied: jinja2 in /usr/local/lib/python3.8/dist-packages (from torch->fairseq==0.10.2) (3.1.5)\n",
            "Requirement already satisfied: fsspec in /usr/local/lib/python3.8/dist-packages (from torch->fairseq==0.10.2) (2024.12.0)\n",
            "Requirement already satisfied: nvidia-cuda-nvrtc-cu12==12.1.105 in /usr/local/lib/python3.8/dist-packages (from torch->fairseq==0.10.2) (12.1.105)\n",
            "Requirement already satisfied: nvidia-cuda-runtime-cu12==12.1.105 in /usr/local/lib/python3.8/dist-packages (from torch->fairseq==0.10.2) (12.1.105)\n",
            "Requirement already satisfied: nvidia-cuda-cupti-cu12==12.1.105 in /usr/local/lib/python3.8/dist-packages (from torch->fairseq==0.10.2) (12.1.105)\n",
            "Requirement already satisfied: nvidia-cudnn-cu12==9.1.0.70 in /usr/local/lib/python3.8/dist-packages (from torch->fairseq==0.10.2) (9.1.0.70)\n",
            "Requirement already satisfied: nvidia-cublas-cu12==12.1.3.1 in /usr/local/lib/python3.8/dist-packages (from torch->fairseq==0.10.2) (12.1.3.1)\n",
            "Requirement already satisfied: nvidia-cufft-cu12==11.0.2.54 in /usr/local/lib/python3.8/dist-packages (from torch->fairseq==0.10.2) (11.0.2.54)\n",
            "Requirement already satisfied: nvidia-curand-cu12==10.3.2.106 in /usr/local/lib/python3.8/dist-packages (from torch->fairseq==0.10.2) (10.3.2.106)\n",
            "Requirement already satisfied: nvidia-cusolver-cu12==11.4.5.107 in /usr/local/lib/python3.8/dist-packages (from torch->fairseq==0.10.2) (11.4.5.107)\n",
            "Requirement already satisfied: nvidia-cusparse-cu12==12.1.0.106 in /usr/local/lib/python3.8/dist-packages (from torch->fairseq==0.10.2) (12.1.0.106)\n",
            "Requirement already satisfied: nvidia-nccl-cu12==2.20.5 in /usr/local/lib/python3.8/dist-packages (from torch->fairseq==0.10.2) (2.20.5)\n",
            "Requirement already satisfied: nvidia-nvtx-cu12==12.1.105 in /usr/local/lib/python3.8/dist-packages (from torch->fairseq==0.10.2) (12.1.105)\n",
            "Requirement already satisfied: triton==3.0.0 in /usr/local/lib/python3.8/dist-packages (from torch->fairseq==0.10.2) (3.0.0)\n",
            "Requirement already satisfied: nvidia-nvjitlink-cu12 in /usr/local/lib/python3.8/dist-packages (from nvidia-cusolver-cu12==11.4.5.107->torch->fairseq==0.10.2) (12.6.85)\n",
            "Requirement already satisfied: PyYAML>=5.1.0 in /usr/local/lib/python3.8/dist-packages (from omegaconf<2.4,>=2.2->hydra-core->fairseq==0.10.2) (6.0.2)\n",
            "Requirement already satisfied: zipp>=3.1.0 in /usr/local/lib/python3.8/dist-packages (from importlib-resources->hydra-core->fairseq==0.10.2) (3.20.2)\n",
            "Requirement already satisfied: MarkupSafe>=2.0 in /usr/local/lib/python3.8/dist-packages (from jinja2->torch->fairseq==0.10.2) (2.1.5)\n",
            "Requirement already satisfied: mpmath<1.4,>=1.1.0 in /usr/local/lib/python3.8/dist-packages (from sympy->torch->fairseq==0.10.2) (1.3.0)\n",
            "Building wheels for collected packages: fairseq\n",
            "  Building editable for fairseq (pyproject.toml) ... \u001b[?25l\u001b[?25hdone\n",
            "  Created wheel for fairseq: filename=fairseq-0.10.2-0.editable-cp38-cp38-linux_x86_64.whl size=8108 sha256=ec8cd547f369a1e18da06900d22c61b79d3be6bb1d816b19670837e3f533ff84\n",
            "  Stored in directory: /tmp/pip-ephem-wheel-cache-ulj_y03a/wheels/45/ac/c1/5c3c02c0e0520a71d95d020995fe3cecb9b9185ac4a3832ef6\n",
            "Successfully built fairseq\n",
            "\u001b[33mDEPRECATION: bert-score 0.3.11 has a non-standard dependency specifier transformers>=3.0.0numpy. pip 23.3 will enforce this behaviour change. A possible replacement is to upgrade to a newer version of bert-score or contact the author to suggest that they release a version with a conforming dependency specifiers. Discussion can be found at https://github.com/pypa/pip/issues/12063\u001b[0m\u001b[33m\n",
            "\u001b[0mInstalling collected packages: fairseq\n",
            "  Attempting uninstall: fairseq\n",
            "    Found existing installation: fairseq 0.10.2\n",
            "    Uninstalling fairseq-0.10.2:\n",
            "      Successfully uninstalled fairseq-0.10.2\n",
            "Successfully installed fairseq-0.10.2\n",
            "/content\n"
          ]
        }
      ]
    },
    {
      "cell_type": "code",
      "source": [],
      "metadata": {
        "colab": {
          "base_uri": "https://localhost:8080/"
        },
        "id": "WXtuO1hgoRnS",
        "outputId": "d380322f-7d28-462e-99a3-a492ab5cf082"
      },
      "execution_count": 12,
      "outputs": [
        {
          "output_type": "stream",
          "name": "stdout",
          "text": [
            "Collecting numpy==1.20.0\n",
            "  Obtaining dependency information for numpy==1.20.0 from https://files.pythonhosted.org/packages/ca/e5/8abad0d947199a7c66995c710fa8c9fb1de0af6239575f9129d75fa4e9ed/numpy-1.20.0-cp38-cp38-manylinux2010_x86_64.whl.metadata\n",
            "  Downloading numpy-1.20.0-cp38-cp38-manylinux2010_x86_64.whl.metadata (2.0 kB)\n",
            "Downloading numpy-1.20.0-cp38-cp38-manylinux2010_x86_64.whl (15.4 MB)\n",
            "\u001b[2K   \u001b[90m━━━━━━━━━━━━━━━━━━━━━━━━━━━━━━━━━━━━━━━━\u001b[0m \u001b[32m15.4/15.4 MB\u001b[0m \u001b[31m41.5 MB/s\u001b[0m eta \u001b[36m0:00:00\u001b[0m\n",
            "\u001b[?25h\u001b[33mDEPRECATION: bert-score 0.3.11 has a non-standard dependency specifier transformers>=3.0.0numpy. pip 23.3 will enforce this behaviour change. A possible replacement is to upgrade to a newer version of bert-score or contact the author to suggest that they release a version with a conforming dependency specifiers. Discussion can be found at https://github.com/pypa/pip/issues/12063\u001b[0m\u001b[33m\n",
            "\u001b[0mInstalling collected packages: numpy\n",
            "  Attempting uninstall: numpy\n",
            "    Found existing installation: numpy 1.24.4\n",
            "    Uninstalling numpy-1.24.4:\n",
            "      Successfully uninstalled numpy-1.24.4\n",
            "\u001b[31mERROR: pip's dependency resolver does not currently take into account all the packages that are installed. This behaviour is the source of the following dependency conflicts.\n",
            "pandas 2.0.3 requires numpy>=1.20.3; python_version < \"3.10\", but you have numpy 1.20.0 which is incompatible.\u001b[0m\u001b[31m\n",
            "\u001b[0mSuccessfully installed numpy-1.20.0\n"
          ]
        }
      ]
    },
    {
      "cell_type": "code",
      "source": [
        "%cd /content\n",
        "\n",
        "! echo $PYTHONPATH\n",
        "\n",
        "import os\n",
        "os.environ['PYTHONPATH'] += \":/content/fairseq/\"\n",
        "\n",
        "! echo $PYTHONPATH"
      ],
      "metadata": {
        "colab": {
          "base_uri": "https://localhost:8080/"
        },
        "id": "2mcyk6wIzPvx",
        "outputId": "d01adc24-fb9f-4026-df4e-85363033092d"
      },
      "execution_count": null,
      "outputs": [
        {
          "output_type": "stream",
          "name": "stdout",
          "text": [
            "/content\n",
            "/env/python\n",
            "/env/python:/content/fairseq/\n"
          ]
        }
      ]
    },
    {
      "cell_type": "code",
      "source": [
        "!pip install numpy==1.20.0"
      ],
      "metadata": {
        "colab": {
          "base_uri": "https://localhost:8080/"
        },
        "id": "82gryCDrRHJx",
        "outputId": "5ff4191b-f928-4c09-ae9b-22a4326d6d3e"
      },
      "execution_count": 23,
      "outputs": [
        {
          "output_type": "stream",
          "name": "stdout",
          "text": [
            "Collecting numpy==1.20.0\n",
            "  Obtaining dependency information for numpy==1.20.0 from https://files.pythonhosted.org/packages/ca/e5/8abad0d947199a7c66995c710fa8c9fb1de0af6239575f9129d75fa4e9ed/numpy-1.20.0-cp38-cp38-manylinux2010_x86_64.whl.metadata\n",
            "  Using cached numpy-1.20.0-cp38-cp38-manylinux2010_x86_64.whl.metadata (2.0 kB)\n",
            "Using cached numpy-1.20.0-cp38-cp38-manylinux2010_x86_64.whl (15.4 MB)\n",
            "\u001b[33mDEPRECATION: bert-score 0.3.11 has a non-standard dependency specifier transformers>=3.0.0numpy. pip 23.3 will enforce this behaviour change. A possible replacement is to upgrade to a newer version of bert-score or contact the author to suggest that they release a version with a conforming dependency specifiers. Discussion can be found at https://github.com/pypa/pip/issues/12063\u001b[0m\u001b[33m\n",
            "\u001b[0mInstalling collected packages: numpy\n",
            "  Attempting uninstall: numpy\n",
            "    Found existing installation: numpy 1.24.4\n",
            "    Uninstalling numpy-1.24.4:\n",
            "      Successfully uninstalled numpy-1.24.4\n",
            "\u001b[31mERROR: pip's dependency resolver does not currently take into account all the packages that are installed. This behaviour is the source of the following dependency conflicts.\n",
            "pandas 2.0.3 requires numpy>=1.20.3; python_version < \"3.10\", but you have numpy 1.20.0 which is incompatible.\u001b[0m\u001b[31m\n",
            "\u001b[0mSuccessfully installed numpy-1.20.0\n"
          ]
        }
      ]
    },
    {
      "cell_type": "code",
      "source": [
        "%cd /content/text_to_table\n",
        "!bash scripts/preprocess.sh data/rotowire/ bart.base/"
      ],
      "metadata": {
        "colab": {
          "base_uri": "https://localhost:8080/"
        },
        "id": "D8nJWOMEMwBq",
        "outputId": "ce2971fe-235a-4b45-f062-f2311c880a06"
      },
      "execution_count": 16,
      "outputs": [
        {
          "output_type": "stream",
          "name": "stdout",
          "text": [
            "/content/text_to_table\n",
            "--2025-01-06 10:59:00--  https://dl.fbaipublicfiles.com/fairseq/gpt2_bpe/encoder.json\n",
            "Resolving dl.fbaipublicfiles.com (dl.fbaipublicfiles.com)... 108.157.254.124, 108.157.254.102, 108.157.254.121, ...\n",
            "Connecting to dl.fbaipublicfiles.com (dl.fbaipublicfiles.com)|108.157.254.124|:443... connected.\n",
            "HTTP request sent, awaiting response... 304 Not Modified\n",
            "File ‘encoder.json’ not modified on server. Omitting download.\n",
            "\n",
            "--2025-01-06 10:59:00--  https://dl.fbaipublicfiles.com/fairseq/gpt2_bpe/vocab.bpe\n",
            "Resolving dl.fbaipublicfiles.com (dl.fbaipublicfiles.com)... 108.157.254.124, 108.157.254.121, 108.157.254.15, ...\n",
            "Connecting to dl.fbaipublicfiles.com (dl.fbaipublicfiles.com)|108.157.254.124|:443... connected.\n",
            "HTTP request sent, awaiting response... 304 Not Modified\n",
            "File ‘vocab.bpe’ not modified on server. Omitting download.\n",
            "\n",
            "2025-01-06 11:00:15 | INFO | fairseq_cli.preprocess | Namespace(align_suffix=None, alignfile=None, all_gather_list_size=16384, bf16=False, bpe=None, checkpoint_shard_count=1, checkpoint_suffix='', cpu=False, criterion='cross_entropy', dataset_impl='mmap', destdir='bins/', empty_cache_freq=0, fp16=False, fp16_init_scale=128, fp16_no_flatten_grads=False, fp16_scale_tolerance=0.0, fp16_scale_window=None, joined_dictionary=False, log_format=None, log_interval=100, lr_scheduler='fixed', memory_efficient_bf16=False, memory_efficient_fp16=False, min_loss_scale=0.0001, model_parallel_size=1, no_progress_bar=False, nwordssrc=-1, nwordstgt=-1, only_source=False, optimizer=None, padding_factor=8, profile=False, quantization_config_path=None, scoring='bleu', seed=1, source_lang='text', srcdict='/content/text_to_table/bart.base/dict.txt', target_lang='data', task='translation', tensorboard_logdir=None, testpref='test.bpe', tgtdict='/content/text_to_table/bart.base/dict.txt', threshold_loss_scale=None, thresholdsrc=0, thresholdtgt=0, tokenizer=None, tpu=False, trainpref='train.bpe', user_dir=None, validpref='valid.bpe', workers=60)\n",
            "2025-01-06 11:00:15 | INFO | fairseq_cli.preprocess | [text] Dictionary: 51200 types\n",
            "2025-01-06 11:00:27 | INFO | fairseq_cli.preprocess | [text] train.bpe.text: 3398 sents, 1192871 tokens, 0.0% replaced by <unk>\n",
            "2025-01-06 11:00:27 | INFO | fairseq_cli.preprocess | [text] Dictionary: 51200 types\n",
            "2025-01-06 11:00:30 | INFO | fairseq_cli.preprocess | [text] valid.bpe.text: 727 sents, 259578 tokens, 0.0% replaced by <unk>\n",
            "2025-01-06 11:00:30 | INFO | fairseq_cli.preprocess | [text] Dictionary: 51200 types\n",
            "2025-01-06 11:00:34 | INFO | fairseq_cli.preprocess | [text] test.bpe.text: 728 sents, 265148 tokens, 0.0% replaced by <unk>\n",
            "2025-01-06 11:00:34 | INFO | fairseq_cli.preprocess | [data] Dictionary: 51200 types\n",
            "2025-01-06 11:00:44 | INFO | fairseq_cli.preprocess | [data] train.bpe.data: 3398 sents, 730892 tokens, 0.0% replaced by <unk>\n",
            "2025-01-06 11:00:44 | INFO | fairseq_cli.preprocess | [data] Dictionary: 51200 types\n",
            "2025-01-06 11:00:47 | INFO | fairseq_cli.preprocess | [data] valid.bpe.data: 727 sents, 158428 tokens, 0.0% replaced by <unk>\n",
            "2025-01-06 11:00:48 | INFO | fairseq_cli.preprocess | [data] Dictionary: 51200 types\n",
            "2025-01-06 11:00:51 | INFO | fairseq_cli.preprocess | [data] test.bpe.data: 728 sents, 164008 tokens, 0.0% replaced by <unk>\n",
            "2025-01-06 11:00:51 | INFO | fairseq_cli.preprocess | Wrote preprocessed data to bins/\n"
          ]
        }
      ]
    },
    {
      "cell_type": "code",
      "source": [
        "%cd /content/text_to_table\n",
        "!bash scripts/rotowire/train_tre.sh data/rotowire bart.base/\n"
      ],
      "metadata": {
        "colab": {
          "base_uri": "https://localhost:8080/"
        },
        "id": "XSUkycjTZiLz",
        "outputId": "a8f0bef5-a5b0-40ba-f08d-80aba3f84c0d",
        "collapsed": true
      },
      "execution_count": null,
      "outputs": [
        {
          "output_type": "stream",
          "name": "stdout",
          "text": [
            "/content/text_to_table\n",
            "Namespace(activation_fn='gelu', adam_betas='(0.9, 0.999)', adam_eps=1e-08, adaptive_softmax_cutoff=None, adaptive_softmax_dropout=0, all_gather_list_size=16384, arch='bart_ours_base', attention_dropout=0.1, batch_size=None, batch_size_valid=None, best_checkpoint_metric='loss', bf16=False, bpe=None, broadcast_buffers=False, bucket_cap_mb=25, checkpoint_shard_count=1, checkpoint_suffix='', clip_norm=0.1, cpu=False, criterion='label_smoothed_cross_entropy', cross_self_attention=False, curriculum=0, data='data/rotowire/bins', data_buffer_size=10, dataset_impl=None, ddp_backend='c10d', decoder_attention_heads=12, decoder_embed_dim=768, decoder_embed_path=None, decoder_ffn_embed_dim=3072, decoder_input_dim=768, decoder_layerdrop=0, decoder_layers=6, decoder_layers_to_keep=None, decoder_learned_pos=True, decoder_normalize_before=False, decoder_output_dim=768, device_id=0, disable_validation=False, distributed_backend='nccl', distributed_init_method=None, distributed_no_spawn=False, distributed_port=-1, distributed_rank=0, distributed_world_size=1, distributed_wrapper='DDP', dropout=0.1, empty_cache_freq=0, encoder_attention_heads=12, encoder_embed_dim=768, encoder_embed_path=None, encoder_ffn_embed_dim=3072, encoder_layerdrop=0, encoder_layers=6, encoder_layers_to_keep=None, encoder_learned_pos=True, encoder_normalize_before=False, eval_bleu=False, eval_bleu_args=None, eval_bleu_detok='space', eval_bleu_detok_args=None, eval_bleu_print_samples=False, eval_bleu_remove_bpe=None, eval_tokenized_bleu=False, fast_stat_sync=False, find_unused_parameters=True, finetune_from_model=None, fix_batches_to_gpus=False, fixed_validation_seed=None, fp16=True, fp16_init_scale=128, fp16_no_flatten_grads=False, fp16_scale_tolerance=0.0, fp16_scale_window=None, gen_subset='test', ignore_prefix_size=0, keep_best_checkpoints=3, keep_interval_updates=-1, keep_last_epochs=-1, label_smoothing=0.1, layernorm_embedding=True, left_pad_source='True', left_pad_target='False', load_alignments=False, localsgd_frequency=3, log_format=None, log_interval=100, lr=[3e-05], lr_scheduler='inverse_sqrt', max_epoch=0, max_source_positions=1024, max_target_positions=1024, max_tokens=4096, max_tokens_valid=4096, max_update=8000, maximize_best_checkpoint_metric=False, memory_efficient_bf16=False, memory_efficient_fp16=False, min_loss_scale=0.0001, min_lr=-1.0, model_parallel_size=1, newline_token='\\n', no_cross_attention=False, no_epoch_checkpoints=False, no_last_checkpoints=False, no_progress_bar=False, no_save=False, no_save_optimizer_state=False, no_scale_embedding=True, no_seed_provided=False, no_token_positional_embeddings=False, nprocs_per_node=1, num_batch_buckets=0, num_shards=1, num_workers=16, optimizer='adam', optimizer_overrides='{}', patience=-1, pipeline_balance=None, pipeline_checkpoint='never', pipeline_chunks=0, pipeline_decoder_balance=None, pipeline_decoder_devices=None, pipeline_devices=None, pipeline_encoder_balance=None, pipeline_encoder_devices=None, pipeline_model_parallel=False, pooler_activation_fn='tanh', pooler_dropout=0.0, profile=False, quant_noise_pq=0, quant_noise_pq_block_size=8, quant_noise_scalar=0, quantization_config_path=None, relu_dropout=0.0, report_accuracy=False, required_batch_size_multiple=1, required_seq_len_multiple=1, reset_dataloader=True, reset_lr_scheduler=False, reset_meters=True, reset_optimizer=True, restore_file='bart.base//model.pt', return_relative_column_strs=['row_head', 'col_head'], save_dir='checkpoints', save_interval=10, save_interval_updates=0, scoring='bleu', seed=1, sentence_avg=False, shard_id=0, share_all_embeddings=True, share_decoder_input_output_embed=True, skip_invalid_size_inputs_valid_test=True, slowmo_algorithm='LocalSGD', slowmo_momentum=None, source_lang='text', split_token='|', stop_time_hours=0, table_max_columns=38, target_lang='data', task='text_to_table_task', tensorboard_logdir=None, threshold_loss_scale=None, tokenizer=None, tpu=False, train_subset='train', truncate_source=True, unconstrained_decoding=False, update_freq=[1], upsample_primary=1, use_bmuf=False, use_old_adam=False, user_dir='src/', valid_subset='valid', validate_after_updates=0, validate_interval=10, validate_interval_updates=0, warmup_init_lr=1e-07, warmup_updates=400, weight_decay=0.01, zero_sharding='none')\n",
            "False\n",
            "2025-01-05 17:00:43 | INFO | fairseq_cli.train | Namespace(activation_fn='gelu', adam_betas='(0.9, 0.999)', adam_eps=1e-08, adaptive_softmax_cutoff=None, adaptive_softmax_dropout=0, all_gather_list_size=16384, arch='bart_ours_base', attention_dropout=0.1, batch_size=None, batch_size_valid=None, best_checkpoint_metric='loss', bf16=False, bpe=None, broadcast_buffers=False, bucket_cap_mb=25, checkpoint_shard_count=1, checkpoint_suffix='', clip_norm=0.1, cpu=False, criterion='label_smoothed_cross_entropy', cross_self_attention=False, curriculum=0, data='data/rotowire/bins', data_buffer_size=10, dataset_impl=None, ddp_backend='c10d', decoder_attention_heads=12, decoder_embed_dim=768, decoder_embed_path=None, decoder_ffn_embed_dim=3072, decoder_input_dim=768, decoder_layerdrop=0, decoder_layers=6, decoder_layers_to_keep=None, decoder_learned_pos=True, decoder_normalize_before=False, decoder_output_dim=768, device_id=0, disable_validation=False, distributed_backend='nccl', distributed_init_method=None, distributed_no_spawn=False, distributed_num_procs=1, distributed_port=-1, distributed_rank=0, distributed_world_size=1, distributed_wrapper='DDP', dropout=0.1, empty_cache_freq=0, encoder_attention_heads=12, encoder_embed_dim=768, encoder_embed_path=None, encoder_ffn_embed_dim=3072, encoder_layerdrop=0, encoder_layers=6, encoder_layers_to_keep=None, encoder_learned_pos=True, encoder_normalize_before=False, eval_bleu=False, eval_bleu_args=None, eval_bleu_detok='space', eval_bleu_detok_args=None, eval_bleu_print_samples=False, eval_bleu_remove_bpe=None, eval_tokenized_bleu=False, fast_stat_sync=False, find_unused_parameters=True, finetune_from_model=None, fix_batches_to_gpus=False, fixed_validation_seed=None, fp16=True, fp16_init_scale=128, fp16_no_flatten_grads=False, fp16_scale_tolerance=0.0, fp16_scale_window=None, gen_subset='test', ignore_prefix_size=0, keep_best_checkpoints=3, keep_interval_updates=-1, keep_last_epochs=-1, label_smoothing=0.1, layernorm_embedding=True, left_pad_source='True', left_pad_target='False', load_alignments=False, localsgd_frequency=3, log_format=None, log_interval=100, lr=[3e-05], lr_scheduler='inverse_sqrt', max_epoch=0, max_source_positions=1024, max_target_positions=1024, max_tokens=4096, max_tokens_valid=4096, max_update=8000, maximize_best_checkpoint_metric=False, memory_efficient_bf16=False, memory_efficient_fp16=False, min_loss_scale=0.0001, min_lr=-1.0, model_parallel_size=1, newline_token='\\n', no_cross_attention=False, no_epoch_checkpoints=False, no_last_checkpoints=False, no_progress_bar=False, no_save=False, no_save_optimizer_state=False, no_scale_embedding=True, no_seed_provided=False, no_token_positional_embeddings=False, nprocs_per_node=1, num_batch_buckets=0, num_shards=1, num_workers=16, optimizer='adam', optimizer_overrides='{}', patience=-1, pipeline_balance=None, pipeline_checkpoint='never', pipeline_chunks=0, pipeline_decoder_balance=None, pipeline_decoder_devices=None, pipeline_devices=None, pipeline_encoder_balance=None, pipeline_encoder_devices=None, pipeline_model_parallel=False, pooler_activation_fn='tanh', pooler_dropout=0.0, profile=False, quant_noise_pq=0, quant_noise_pq_block_size=8, quant_noise_scalar=0, quantization_config_path=None, relu_dropout=0.0, report_accuracy=False, required_batch_size_multiple=1, required_seq_len_multiple=1, reset_dataloader=True, reset_lr_scheduler=False, reset_meters=True, reset_optimizer=True, restore_file='bart.base//model.pt', return_relative_column_strs=['row_head', 'col_head'], save_dir='checkpoints', save_interval=10, save_interval_updates=0, scoring='bleu', seed=1, sentence_avg=False, shard_id=0, share_all_embeddings=True, share_decoder_input_output_embed=True, skip_invalid_size_inputs_valid_test=True, slowmo_algorithm='LocalSGD', slowmo_momentum=None, source_lang='text', split_token='|', stop_time_hours=0, table_max_columns=38, target_lang='data', task='text_to_table_task', tensorboard_logdir=None, threshold_loss_scale=None, tokenizer=None, tpu=False, train_subset='train', truncate_source=True, unconstrained_decoding=False, update_freq=[1], upsample_primary=1, use_bmuf=False, use_old_adam=False, user_dir='src/', valid_subset='valid', validate_after_updates=0, validate_interval=10, validate_interval_updates=0, warmup_init_lr=1e-07, warmup_updates=400, weight_decay=0.01, zero_sharding='none')\n",
            "2025-01-05 17:00:43 | INFO | fairseq.tasks.translation | [text] dictionary: 51200 types\n",
            "2025-01-05 17:00:43 | INFO | fairseq.tasks.translation | [data] dictionary: 51200 types\n",
            "2025-01-05 17:00:43 | INFO | fairseq.data.data_utils | loaded 727 examples from: data/rotowire/bins/valid.text-data.text\n",
            "2025-01-05 17:00:43 | INFO | fairseq.data.data_utils | loaded 727 examples from: data/rotowire/bins/valid.text-data.data\n",
            "2025-01-05 17:00:43 | INFO | src.tasks.text_to_table_task | data/rotowire/bins valid text-data 727 examples\n",
            "2025-01-05 17:00:47 | INFO | fairseq_cli.train | BARTOurs(\n",
            "  (encoder): TransformerEncoder(\n",
            "    (dropout_module): FairseqDropout()\n",
            "    (embed_tokens): Embedding(51200, 768, padding_idx=1)\n",
            "    (embed_positions): LearnedPositionalEmbedding(1026, 768, padding_idx=1)\n",
            "    (layernorm_embedding): LayerNorm((768,), eps=1e-05, elementwise_affine=True)\n",
            "    (layers): ModuleList(\n",
            "      (0-5): 6 x TransformerEncoderLayer(\n",
            "        (self_attn): MultiheadAttention(\n",
            "          (dropout_module): FairseqDropout()\n",
            "          (k_proj): Linear(in_features=768, out_features=768, bias=True)\n",
            "          (v_proj): Linear(in_features=768, out_features=768, bias=True)\n",
            "          (q_proj): Linear(in_features=768, out_features=768, bias=True)\n",
            "          (out_proj): Linear(in_features=768, out_features=768, bias=True)\n",
            "        )\n",
            "        (self_attn_layer_norm): LayerNorm((768,), eps=1e-05, elementwise_affine=True)\n",
            "        (dropout_module): FairseqDropout()\n",
            "        (activation_dropout_module): FairseqDropout()\n",
            "        (fc1): Linear(in_features=768, out_features=3072, bias=True)\n",
            "        (fc2): Linear(in_features=3072, out_features=768, bias=True)\n",
            "        (final_layer_norm): LayerNorm((768,), eps=1e-05, elementwise_affine=True)\n",
            "      )\n",
            "    )\n",
            "  )\n",
            "  (decoder): TransformerOursDecoder(\n",
            "    (dropout_module): FairseqDropout()\n",
            "    (embed_tokens): Embedding(51200, 768, padding_idx=1)\n",
            "    (embed_positions): LearnedPositionalEmbedding(1026, 768, padding_idx=1)\n",
            "    (layernorm_embedding): LayerNorm((768,), eps=1e-05, elementwise_affine=True)\n",
            "    (layers): ModuleList(\n",
            "      (0-5): 6 x TransformerRelativeEmbeddingsDecoderLayer(\n",
            "        (dropout_module): FairseqDropout()\n",
            "        (self_attn): RelativeEmbeddingsMultiheadAttention(\n",
            "          (dropout_module): FairseqDropout()\n",
            "          (k_proj): Linear(in_features=768, out_features=768, bias=True)\n",
            "          (v_proj): Linear(in_features=768, out_features=768, bias=True)\n",
            "          (q_proj): Linear(in_features=768, out_features=768, bias=True)\n",
            "          (relation_k_emb): Embedding(3, 64, padding_idx=0)\n",
            "          (relation_v_emb): Embedding(3, 64, padding_idx=0)\n",
            "          (out_proj): Linear(in_features=768, out_features=768, bias=True)\n",
            "        )\n",
            "        (activation_dropout_module): FairseqDropout()\n",
            "        (self_attn_layer_norm): LayerNorm((768,), eps=1e-05, elementwise_affine=True)\n",
            "        (encoder_attn): MultiheadAttention(\n",
            "          (dropout_module): FairseqDropout()\n",
            "          (k_proj): Linear(in_features=768, out_features=768, bias=True)\n",
            "          (v_proj): Linear(in_features=768, out_features=768, bias=True)\n",
            "          (q_proj): Linear(in_features=768, out_features=768, bias=True)\n",
            "          (out_proj): Linear(in_features=768, out_features=768, bias=True)\n",
            "        )\n",
            "        (encoder_attn_layer_norm): LayerNorm((768,), eps=1e-05, elementwise_affine=True)\n",
            "        (fc1): Linear(in_features=768, out_features=3072, bias=True)\n",
            "        (fc2): Linear(in_features=3072, out_features=768, bias=True)\n",
            "        (final_layer_norm): LayerNorm((768,), eps=1e-05, elementwise_affine=True)\n",
            "      )\n",
            "    )\n",
            "    (output_projection): Linear(in_features=768, out_features=51200, bias=False)\n",
            "  )\n",
            "  (classification_heads): ModuleDict()\n",
            ")\n",
            "2025-01-05 17:00:47 | INFO | fairseq_cli.train | task: text_to_table_task (TextToDataTranslationTask)\n",
            "2025-01-05 17:00:47 | INFO | fairseq_cli.train | model: bart_ours_base (BARTOurs)\n",
            "2025-01-05 17:00:47 | INFO | fairseq_cli.train | criterion: label_smoothed_cross_entropy (LabelSmoothedCrossEntropyCriterion)\n",
            "2025-01-05 17:00:47 | INFO | fairseq_cli.train | num. model params: 140140800 (num. trained: 140140800)\n",
            "2025-01-05 17:00:47 | INFO | fairseq.trainer | detected shared parameter: encoder.embed_tokens.weight <- decoder.embed_tokens.weight\n",
            "2025-01-05 17:00:47 | INFO | fairseq.trainer | detected shared parameter: encoder.embed_tokens.weight <- decoder.output_projection.weight\n",
            "2025-01-05 17:00:47 | INFO | fairseq.utils | ***********************CUDA enviroments for all 1 workers***********************\n",
            "2025-01-05 17:00:47 | INFO | fairseq.utils | rank   0: capabilities =  7.5  ; total memory = 14.748 GB ; name = Tesla T4                                \n",
            "2025-01-05 17:00:47 | INFO | fairseq.utils | ***********************CUDA enviroments for all 1 workers***********************\n",
            "2025-01-05 17:00:47 | INFO | fairseq_cli.train | training on 1 devices (GPUs/TPUs)\n",
            "2025-01-05 17:00:47 | INFO | fairseq_cli.train | max tokens per GPU = 4096 and max sentences per GPU = None\n",
            "bart.base//model.pt\n",
            "2025-01-05 17:00:48 | INFO | fairseq.trainer | loaded checkpoint bart.base//model.pt (epoch 14 @ 0 updates)\n",
            "2025-01-05 17:00:48 | INFO | fairseq.trainer | loading train data for epoch 1\n",
            "2025-01-05 17:00:48 | INFO | fairseq.data.data_utils | loaded 3398 examples from: data/rotowire/bins/train.text-data.text\n",
            "2025-01-05 17:00:48 | INFO | fairseq.data.data_utils | loaded 3398 examples from: data/rotowire/bins/train.text-data.data\n",
            "2025-01-05 17:00:48 | INFO | src.tasks.text_to_table_task | data/rotowire/bins train text-data 3398 examples\n",
            "{'train_iterator': {'epoch': 14, 'iterations_in_epoch': 20122, 'shuffle': True}, 'val_loss': 0.85, 'best': 0.85, 'metrics': OrderedDict([('default', [(10, 'loss', 'AverageMeter', {'val': tensor(1.0260, dtype=torch.float64), 'sum': tensor(2.8894e+11, dtype=torch.float64), 'count': tensor(2.3804e+11, dtype=torch.float64), 'round': 3}), (90, 'wps', 'TimeMeter', {'init': 510239.222273226, 'n': tensor(2.3804e+11, dtype=torch.float64), 'round': 1}), (100, 'ups', 'TimeMeter', {'init': 510239.225716126, 'n': 239999.0, 'round': 2}), (180, 'wpb', 'AverageMeter', {'val': tensor(994298., dtype=torch.float64), 'sum': tensor(2.3804e+11, dtype=torch.float64), 'count': 240000, 'round': 1}), (190, 'bsz', 'AverageMeter', {'val': tensor(2152., dtype=torch.float64), 'sum': tensor(5.1516e+08, dtype=torch.float64), 'count': 240000, 'round': 1}), (200, 'num_updates', 'AverageMeter', {'val': 240000, 'sum': 0, 'count': 0, 'round': None}), (300, 'lr', 'AverageMeter', {'val': 0.00032164948453608245, 'sum': 0, 'count': 0, 'round': None}), (400, 'gnorm', 'AverageMeter', {'val': tensor(0.1090), 'sum': tensor(37226.0156), 'count': 240000, 'round': 3}), (500, 'clip', 'AverageMeter', {'val': tensor(100.), 'sum': tensor(8199900.), 'count': 240000, 'round': 1}), (700, 'loss_scale', 'AverageMeter', {'val': 2.0, 'sum': 3433051.0, 'count': 241405, 'round': 0}), (790, 'wall', 'StopwatchMeter', {'sum': 0, 'n': 0, 'round': 0}), (800, 'train_wall', 'StopwatchMeter', {'sum': 242298.84816894747, 'n': 0.0, 'round': 0})]), ('train', [(10, 'loss', 'AverageMeter', {'val': tensor(0.9850, dtype=torch.float64), 'sum': tensor(4.6666e+10, dtype=torch.float64), 'count': tensor(4.7314e+10, dtype=torch.float64), 'round': 3}), (90, 'wps', 'TimeMeter', {'init': 49186.358371268, 'n': tensor(4.7314e+10, dtype=torch.float64), 'round': 1}), (100, 'ups', 'TimeMeter', {'init': 49186.358366738015, 'n': 47703.0, 'round': 2}), (180, 'wpb', 'AverageMeter', {'val': tensor(993169., dtype=torch.float64), 'sum': tensor(4.7314e+10, dtype=torch.float64), 'count': 47703, 'round': 1}), (190, 'bsz', 'AverageMeter', {'val': tensor(2143., dtype=torch.float64), 'sum': tensor(1.0241e+08, dtype=torch.float64), 'count': 47703, 'round': 1}), (200, 'num_updates', 'AverageMeter', {'val': 500000, 'sum': 0, 'count': 0, 'round': None}), (300, 'lr', 'AverageMeter', {'val': 0.0, 'sum': 0, 'count': 0, 'round': None}), (400, 'gnorm', 'AverageMeter', {'val': tensor(0.0659), 'sum': tensor(3590.6592), 'count': 47703, 'round': 3}), (500, 'clip', 'AverageMeter', {'val': tensor(0.), 'sum': tensor(8700.), 'count': 47703, 'round': 1}), (700, 'loss_scale', 'AverageMeter', {'val': 4.0, 'sum': 254750.0, 'count': 47971, 'round': 0}), (800, 'train_wall', 'StopwatchMeter', {'sum': 47951.486024138896, 'n': 0.0, 'round': 0})]), ('train_inner', [(10, 'loss', 'AverageMeter', {'val': None, 'sum': 0, 'count': 0, 'round': 3}), (90, 'wps', 'TimeMeter', {'init': 6.240057755028829, 'n': 0, 'round': 1}), (100, 'ups', 'TimeMeter', {'init': 6.240057651011739, 'n': 0, 'round': 2}), (180, 'wpb', 'AverageMeter', {'val': None, 'sum': 0, 'count': 0, 'round': 1}), (190, 'bsz', 'AverageMeter', {'val': None, 'sum': 0, 'count': 0, 'round': 1}), (200, 'num_updates', 'AverageMeter', {'val': None, 'sum': 0, 'count': 0, 'round': None}), (300, 'lr', 'AverageMeter', {'val': None, 'sum': 0, 'count': 0, 'round': None}), (400, 'gnorm', 'AverageMeter', {'val': None, 'sum': 0, 'count': 0, 'round': 3}), (500, 'clip', 'AverageMeter', {'val': None, 'sum': 0, 'count': 0, 'round': 1}), (700, 'loss_scale', 'AverageMeter', {'val': None, 'sum': 0, 'count': 0, 'round': 0}), (800, 'train_wall', 'StopwatchMeter', {'sum': 0, 'n': 0, 'round': 0})]), ('valid', [(10, 'loss', 'AverageMeter', {'val': tensor(0.8607, dtype=torch.float64), 'sum': tensor(21792942.7493, dtype=torch.float64), 'count': tensor(24041764., dtype=torch.float64), 'round': 3}), (90, 'wps', 'TimeMeter', {'init': 489822.85342397896, 'n': tensor(23549813., dtype=torch.float64), 'round': 1}), (180, 'wpb', 'AverageMeter', {'val': tensor(140727., dtype=torch.float64), 'sum': tensor(24041764., dtype=torch.float64), 'count': 76, 'round': 1}), (190, 'bsz', 'AverageMeter', {'val': tensor(280., dtype=torch.float64), 'sum': tensor(52136., dtype=torch.float64), 'count': 76, 'round': 1})])])} <fairseq.data.iterators.EpochBatchIterator object at 0x1337d8e00520>\n",
            "2025-01-05 17:00:49 | INFO | fairseq.trainer | begin training epoch 1\n",
            "/content/fairseq/fairseq/checkpoint_utils.py:225: FutureWarning: You are using `torch.load` with `weights_only=False` (the current default value), which uses the default pickle module implicitly. It is possible to construct malicious pickle data which will execute arbitrary code during unpickling (See https://github.com/pytorch/pytorch/blob/main/SECURITY.md#untrusted-models for more details). In a future release, the default value for `weights_only` will be flipped to `True`. This limits the functions that could be executed during unpickling. Arbitrary objects will no longer be allowed to be loaded via this mode unless they are explicitly allowlisted by the user via `torch.serialization.add_safe_globals`. We recommend you start setting `weights_only=True` for any use case where you don't have full control of the loaded file. Please open an issue on GitHub for any issues related to this experimental feature.\n",
            "  state = torch.load(\n",
            "/usr/local/lib/python3.8/dist-packages/torch/utils/data/dataloader.py:557: UserWarning: This DataLoader will create 16 worker processes in total. Our suggested max number of worker in current system is 2, which is smaller than what this DataLoader is going to create. Please be aware that excessive worker creation might get DataLoader running slow or even freeze, lower the worker number to avoid potential slowness/freeze if necessary.\n",
            "  warnings.warn(_create_warning_msg(\n",
            "2025-01-05 17:01:01 | INFO | fairseq.trainer | NOTE: overflow detected, setting loss scale to: 64.0\n",
            "2025-01-05 17:01:02 | INFO | fairseq.trainer | NOTE: overflow detected, setting loss scale to: 32.0\n",
            "2025-01-05 17:01:03 | INFO | fairseq.trainer | NOTE: overflow detected, setting loss scale to: 16.0\n",
            "2025-01-05 17:01:04 | INFO | fairseq.trainer | NOTE: overflow detected, setting loss scale to: 8.0\n",
            "2025-01-05 17:01:04 | INFO | fairseq.trainer | NOTE: overflow detected, setting loss scale to: 4.0\n",
            "2025-01-05 17:01:05 | INFO | fairseq.trainer | NOTE: overflow detected, setting loss scale to: 2.0\n",
            "2025-01-05 17:01:11 | INFO | fairseq.trainer | NOTE: overflow detected, setting loss scale to: 1.0\n",
            "2025-01-05 17:02:10 | INFO | train_inner | epoch 001:    107 / 331 loss=5.865, nll_loss=3.995, ppl=15.95, wps=3269.1, ups=1.53, wpb=2134.3, bsz=10.1, num_updates=100, lr=7.575e-06, gnorm=11.511, clip=100, loss_scale=1, train_wall=65, wall=83\n",
            "2025-01-05 17:03:16 | INFO | train_inner | epoch 001:    207 / 331 loss=3.573, nll_loss=1.582, ppl=2.99, wps=3416.4, ups=1.51, wpb=2260.2, bsz=9.8, num_updates=200, lr=1.505e-05, gnorm=3.823, clip=100, loss_scale=1, train_wall=65, wall=149\n",
            "2025-01-05 17:04:21 | INFO | train_inner | epoch 001:    307 / 331 loss=3.053, nll_loss=1.108, ppl=2.16, wps=3400.9, ups=1.55, wpb=2199.1, bsz=10.6, num_updates=300, lr=2.2525e-05, gnorm=3.078, clip=100, loss_scale=1, train_wall=64, wall=214\n",
            "2025-01-05 17:04:37 | INFO | fairseq_cli.train | end of epoch 1 (average epoch stats below)\n",
            "2025-01-05 17:04:37 | INFO | train | epoch 001 | loss 4.044 | nll_loss 2.108 | ppl 4.31 | wps 3373.8 | ups 1.53 | wpb 2205.5 | bsz 10.2 | num_updates 324 | lr 2.4319e-05 | gnorm 5.894 | clip 100 | loss_scale 1 | train_wall 219 | wall 230\n",
            "2025-01-05 17:04:37 | INFO | fairseq.trainer | begin training epoch 2\n",
            "2025-01-05 17:05:32 | INFO | train_inner | epoch 002:     76 / 331 loss=2.821, nll_loss=0.896, ppl=1.86, wps=3148.7, ups=1.41, wpb=2240.7, bsz=10.4, num_updates=400, lr=3e-05, gnorm=3.106, clip=100, loss_scale=1, train_wall=67, wall=285\n",
            "2025-01-05 17:06:38 | INFO | train_inner | epoch 002:    176 / 331 loss=2.679, nll_loss=0.763, ppl=1.7, wps=3259.2, ups=1.52, wpb=2143, bsz=10.2, num_updates=500, lr=2.68328e-05, gnorm=2.286, clip=100, loss_scale=1, train_wall=65, wall=351\n",
            "2025-01-05 17:07:45 | INFO | train_inner | epoch 002:    276 / 331 loss=2.599, nll_loss=0.686, ppl=1.61, wps=3409.1, ups=1.5, wpb=2272, bsz=10.1, num_updates=600, lr=2.44949e-05, gnorm=2.191, clip=100, loss_scale=1, train_wall=66, wall=418\n",
            "2025-01-05 17:08:20 | INFO | fairseq_cli.train | end of epoch 2 (average epoch stats below)\n",
            "2025-01-05 17:08:20 | INFO | train | epoch 002 | loss 2.662 | nll_loss 0.745 | ppl 1.68 | wps 3272.2 | ups 1.48 | wpb 2208.1 | bsz 10.3 | num_updates 655 | lr 2.34439e-05 | gnorm 2.419 | clip 100 | loss_scale 1 | train_wall 217 | wall 453\n",
            "2025-01-05 17:08:20 | INFO | fairseq.trainer | begin training epoch 3\n",
            "2025-01-05 17:08:56 | INFO | train_inner | epoch 003:     45 / 331 loss=2.541, nll_loss=0.628, ppl=1.55, wps=3021.7, ups=1.39, wpb=2168.2, bsz=10.8, num_updates=700, lr=2.26779e-05, gnorm=2.065, clip=100, loss_scale=1, train_wall=66, wall=489\n",
            "2025-01-05 17:10:04 | INFO | train_inner | epoch 003:    145 / 331 loss=2.491, nll_loss=0.579, ppl=1.49, wps=3222.9, ups=1.49, wpb=2164.6, bsz=9.6, num_updates=800, lr=2.12132e-05, gnorm=1.897, clip=100, loss_scale=1, train_wall=65, wall=557\n",
            "2025-01-05 17:11:09 | INFO | train_inner | epoch 003:    245 / 331 loss=2.471, nll_loss=0.561, ppl=1.48, wps=3435.8, ups=1.53, wpb=2245, bsz=10.4, num_updates=900, lr=2e-05, gnorm=2, clip=100, loss_scale=1, train_wall=64, wall=622\n",
            "2025-01-05 17:12:06 | INFO | fairseq_cli.train | end of epoch 3 (average epoch stats below)\n",
            "2025-01-05 17:12:06 | INFO | train | epoch 003 | loss 2.478 | nll_loss 0.568 | ppl 1.48 | wps 3242.9 | ups 1.47 | wpb 2208.1 | bsz 10.3 | num_updates 986 | lr 1.91079e-05 | gnorm 1.958 | clip 100 | loss_scale 1 | train_wall 216 | wall 679\n",
            "2025-01-05 17:12:06 | INFO | fairseq.trainer | begin training epoch 4\n",
            "2025-01-05 17:12:21 | INFO | train_inner | epoch 004:     14 / 331 loss=2.446, nll_loss=0.538, ppl=1.45, wps=3095.9, ups=1.4, wpb=2215.9, bsz=10.3, num_updates=1000, lr=1.89737e-05, gnorm=1.909, clip=100, loss_scale=1, train_wall=67, wall=694\n",
            "2025-01-05 17:13:25 | INFO | train_inner | epoch 004:    114 / 331 loss=2.412, nll_loss=0.501, ppl=1.42, wps=3425.6, ups=1.56, wpb=2191.6, bsz=10.2, num_updates=1100, lr=1.80907e-05, gnorm=1.778, clip=100, loss_scale=1, train_wall=63, wall=758\n",
            "2025-01-05 17:14:30 | INFO | train_inner | epoch 004:    214 / 331 loss=2.403, nll_loss=0.495, ppl=1.41, wps=3383.3, ups=1.54, wpb=2202.2, bsz=10.1, num_updates=1200, lr=1.73205e-05, gnorm=1.774, clip=100, loss_scale=1, train_wall=64, wall=823\n",
            "2025-01-05 17:15:36 | INFO | train_inner | epoch 004:    314 / 331 loss=2.384, nll_loss=0.476, ppl=1.39, wps=3414.3, ups=1.51, wpb=2258.9, bsz=10.5, num_updates=1300, lr=1.6641e-05, gnorm=1.553, clip=100, loss_scale=1, train_wall=65, wall=889\n",
            "2025-01-05 17:15:47 | INFO | fairseq_cli.train | end of epoch 4 (average epoch stats below)\n",
            "2025-01-05 17:15:47 | INFO | train | epoch 004 | loss 2.4 | nll_loss 0.492 | ppl 1.41 | wps 3302 | ups 1.5 | wpb 2208.1 | bsz 10.3 | num_updates 1317 | lr 1.65333e-05 | gnorm 1.707 | clip 100 | loss_scale 1 | train_wall 215 | wall 900\n",
            "2025-01-05 17:15:47 | INFO | fairseq.trainer | begin training epoch 5\n",
            "2025-01-05 17:16:50 | INFO | train_inner | epoch 005:     83 / 331 loss=2.363, nll_loss=0.455, ppl=1.37, wps=3023.1, ups=1.36, wpb=2229.4, bsz=10.2, num_updates=1400, lr=1.60357e-05, gnorm=1.483, clip=100, loss_scale=1, train_wall=70, wall=963\n",
            "2025-01-05 17:17:56 | INFO | train_inner | epoch 005:    183 / 331 loss=2.357, nll_loss=0.451, ppl=1.37, wps=3368.9, ups=1.51, wpb=2231.7, bsz=10.2, num_updates=1500, lr=1.54919e-05, gnorm=1.512, clip=100, loss_scale=1, train_wall=65, wall=1029\n",
            "2025-01-05 17:19:00 | INFO | train_inner | epoch 005:    283 / 331 loss=2.346, nll_loss=0.439, ppl=1.36, wps=3438.3, ups=1.56, wpb=2198.8, bsz=10.2, num_updates=1600, lr=1.5e-05, gnorm=1.519, clip=100, loss_scale=1, train_wall=63, wall=1093\n",
            "2025-01-05 17:19:30 | INFO | fairseq_cli.train | end of epoch 5 (average epoch stats below)\n",
            "2025-01-05 17:19:30 | INFO | train | epoch 005 | loss 2.352 | nll_loss 0.446 | ppl 1.36 | wps 3276.9 | ups 1.48 | wpb 2208.1 | bsz 10.3 | num_updates 1648 | lr 1.47799e-05 | gnorm 1.503 | clip 100 | loss_scale 1 | train_wall 217 | wall 1123\n",
            "2025-01-05 17:19:30 | INFO | fairseq.trainer | begin training epoch 6\n",
            "2025-01-05 17:20:09 | INFO | train_inner | epoch 006:     52 / 331 loss=2.336, nll_loss=0.43, ppl=1.35, wps=3108, ups=1.44, wpb=2163.9, bsz=10.6, num_updates=1700, lr=1.45521e-05, gnorm=1.497, clip=100, loss_scale=1, train_wall=64, wall=1162\n",
            "2025-01-05 17:21:15 | INFO | train_inner | epoch 006:    152 / 331 loss=2.32, nll_loss=0.414, ppl=1.33, wps=3363.6, ups=1.52, wpb=2209.6, bsz=10, num_updates=1800, lr=1.41421e-05, gnorm=1.418, clip=100, loss_scale=1, train_wall=65, wall=1228\n",
            "2025-01-05 17:22:21 | INFO | train_inner | epoch 006:    252 / 331 loss=2.316, nll_loss=0.411, ppl=1.33, wps=3361.4, ups=1.53, wpb=2203.3, bsz=10.4, num_updates=1900, lr=1.37649e-05, gnorm=1.437, clip=100, loss_scale=1, train_wall=64, wall=1294\n",
            "2025-01-05 17:23:12 | INFO | fairseq_cli.train | end of epoch 6 (average epoch stats below)\n",
            "2025-01-05 17:23:12 | INFO | train | epoch 006 | loss 2.319 | nll_loss 0.413 | ppl 1.33 | wps 3285.7 | ups 1.49 | wpb 2208.1 | bsz 10.3 | num_updates 1979 | lr 1.34874e-05 | gnorm 1.398 | clip 100 | loss_scale 1 | train_wall 214 | wall 1345\n",
            "2025-01-05 17:23:13 | INFO | fairseq.trainer | begin training epoch 7\n",
            "2025-01-05 17:23:33 | INFO | train_inner | epoch 007:     21 / 331 loss=2.314, nll_loss=0.41, ppl=1.33, wps=3045, ups=1.38, wpb=2212.1, bsz=10.3, num_updates=2000, lr=1.34164e-05, gnorm=1.273, clip=100, loss_scale=1, train_wall=69, wall=1366\n",
            "2025-01-05 17:24:40 | INFO | train_inner | epoch 007:    121 / 331 loss=2.298, nll_loss=0.393, ppl=1.31, wps=3292.8, ups=1.5, wpb=2199.6, bsz=10.2, num_updates=2100, lr=1.30931e-05, gnorm=1.297, clip=100, loss_scale=1, train_wall=66, wall=1433\n",
            "2025-01-05 17:25:46 | INFO | train_inner | epoch 007:    221 / 331 loss=2.291, nll_loss=0.387, ppl=1.31, wps=3369.1, ups=1.52, wpb=2222.5, bsz=9.9, num_updates=2200, lr=1.2792e-05, gnorm=1.211, clip=100, loss_scale=1, train_wall=65, wall=1499\n",
            "2025-01-05 17:26:49 | INFO | train_inner | epoch 007:    321 / 331 loss=2.291, nll_loss=0.387, ppl=1.31, wps=3504.4, ups=1.58, wpb=2215.8, bsz=10.8, num_updates=2300, lr=1.25109e-05, gnorm=1.255, clip=100, loss_scale=1, train_wall=62, wall=1562\n",
            "2025-01-05 17:26:55 | INFO | fairseq_cli.train | end of epoch 7 (average epoch stats below)\n",
            "2025-01-05 17:26:55 | INFO | train | epoch 007 | loss 2.294 | nll_loss 0.389 | ppl 1.31 | wps 3283.5 | ups 1.49 | wpb 2208.1 | bsz 10.3 | num_updates 2310 | lr 1.24838e-05 | gnorm 1.253 | clip 100 | loss_scale 1 | train_wall 217 | wall 1568\n",
            "2025-01-05 17:26:55 | INFO | fairseq.trainer | begin training epoch 8\n",
            "2025-01-05 17:28:01 | INFO | train_inner | epoch 008:     90 / 331 loss=2.277, nll_loss=0.372, ppl=1.29, wps=3090.9, ups=1.39, wpb=2216.7, bsz=10.7, num_updates=2400, lr=1.22474e-05, gnorm=1.147, clip=100, loss_scale=1, train_wall=65, wall=1634\n",
            "2025-01-05 17:29:05 | INFO | train_inner | epoch 008:    190 / 331 loss=2.273, nll_loss=0.369, ppl=1.29, wps=3435, ups=1.57, wpb=2184.1, bsz=10.2, num_updates=2500, lr=1.2e-05, gnorm=1.269, clip=100, loss_scale=1, train_wall=63, wall=1698\n",
            "2025-01-05 17:30:10 | INFO | train_inner | epoch 008:    290 / 331 loss=2.272, nll_loss=0.37, ppl=1.29, wps=3372.4, ups=1.52, wpb=2223.1, bsz=10, num_updates=2600, lr=1.1767e-05, gnorm=1.193, clip=100, loss_scale=1, train_wall=65, wall=1763\n",
            "2025-01-05 17:30:38 | INFO | fairseq_cli.train | end of epoch 8 (average epoch stats below)\n",
            "2025-01-05 17:30:38 | INFO | train | epoch 008 | loss 2.273 | nll_loss 0.37 | ppl 1.29 | wps 3283.4 | ups 1.49 | wpb 2208.1 | bsz 10.3 | num_updates 2641 | lr 1.16753e-05 | gnorm 1.193 | clip 100 | loss_scale 1 | train_wall 214 | wall 1791\n",
            "2025-01-05 17:30:38 | INFO | fairseq.trainer | begin training epoch 9\n",
            "2025-01-05 17:31:22 | INFO | train_inner | epoch 009:     59 / 331 loss=2.266, nll_loss=0.363, ppl=1.29, wps=3100.7, ups=1.4, wpb=2210.3, bsz=10.3, num_updates=2700, lr=1.1547e-05, gnorm=1.109, clip=100, loss_scale=1, train_wall=66, wall=1835\n",
            "2025-01-05 17:32:27 | INFO | train_inner | epoch 009:    159 / 331 loss=2.261, nll_loss=0.358, ppl=1.28, wps=3364.5, ups=1.52, wpb=2209.5, bsz=10, num_updates=2800, lr=1.13389e-05, gnorm=1.146, clip=100, loss_scale=1, train_wall=65, wall=1900\n",
            "2025-01-05 17:33:31 | INFO | train_inner | epoch 009:    259 / 331 loss=2.254, nll_loss=0.351, ppl=1.28, wps=3446, ups=1.58, wpb=2187.5, bsz=10.4, num_updates=2900, lr=1.11417e-05, gnorm=1.12, clip=100, loss_scale=1, train_wall=62, wall=1964\n",
            "2025-01-05 17:34:19 | INFO | fairseq_cli.train | end of epoch 9 (average epoch stats below)\n",
            "2025-01-05 17:34:19 | INFO | train | epoch 009 | loss 2.259 | nll_loss 0.356 | ppl 1.28 | wps 3306.6 | ups 1.5 | wpb 2208.1 | bsz 10.3 | num_updates 2972 | lr 1.10059e-05 | gnorm 1.132 | clip 100 | loss_scale 1 | train_wall 214 | wall 2012\n",
            "2025-01-05 17:34:19 | INFO | fairseq.trainer | begin training epoch 10\n",
            "2025-01-05 17:34:46 | INFO | train_inner | epoch 010:     28 / 331 loss=2.256, nll_loss=0.354, ppl=1.28, wps=2963.2, ups=1.33, wpb=2226.1, bsz=10.1, num_updates=3000, lr=1.09545e-05, gnorm=1.152, clip=100, loss_scale=1, train_wall=70, wall=2039\n",
            "2025-01-05 17:35:51 | INFO | train_inner | epoch 010:    128 / 331 loss=2.246, nll_loss=0.344, ppl=1.27, wps=3440.7, ups=1.54, wpb=2235.7, bsz=10.6, num_updates=3100, lr=1.07763e-05, gnorm=1.051, clip=100, loss_scale=1, train_wall=64, wall=2104\n",
            "2025-01-05 17:36:56 | INFO | train_inner | epoch 010:    228 / 331 loss=2.246, nll_loss=0.344, ppl=1.27, wps=3379.5, ups=1.54, wpb=2200.8, bsz=10.1, num_updates=3200, lr=1.06066e-05, gnorm=1.07, clip=100, loss_scale=1, train_wall=64, wall=2169\n",
            "2025-01-05 17:38:00 | INFO | train_inner | epoch 010:    328 / 331 loss=2.24, nll_loss=0.338, ppl=1.26, wps=3429.4, ups=1.57, wpb=2183, bsz=10.3, num_updates=3300, lr=1.04447e-05, gnorm=1.014, clip=100, loss_scale=1, train_wall=63, wall=2233\n",
            "2025-01-05 17:38:02 | INFO | fairseq_cli.train | begin validation on \"valid\" subset\n",
            "2025-01-05 17:38:26 | INFO | valid | epoch 010 | valid on 'valid' subset | loss 2.275 | nll_loss 0.309 | ppl 1.24 | wps 8108.9 | wpb 2200.4 | bsz 10.1 | num_updates 3303\n",
            "2025-01-05 17:38:26 | INFO | fairseq_cli.train | begin save checkpoint\n",
            "2025-01-05 17:39:21 | INFO | fairseq_cli.train | saved checkpoint checkpoints/checkpoint10.pt (epoch 10 @ 3303 updates, score 2.275) (writing took 54.92397436699957 seconds)\n",
            "2025-01-05 17:39:21 | INFO | fairseq_cli.train | end of epoch 10 (average epoch stats below)\n",
            "2025-01-05 17:39:21 | INFO | train | epoch 010 | loss 2.245 | nll_loss 0.343 | ppl 1.27 | wps 2421.1 | ups 1.1 | wpb 2208.1 | bsz 10.3 | num_updates 3303 | lr 1.04399e-05 | gnorm 1.056 | clip 100 | loss_scale 1 | train_wall 216 | wall 2314\n",
            "2025-01-05 17:39:21 | INFO | fairseq.trainer | begin training epoch 11\n",
            "2025-01-05 17:40:31 | INFO | train_inner | epoch 011:     97 / 331 loss=2.237, nll_loss=0.335, ppl=1.26, wps=1465, ups=0.66, wpb=2209.2, bsz=10.3, num_updates=3400, lr=1.02899e-05, gnorm=1.022, clip=100, loss_scale=1, train_wall=67, wall=2384\n",
            "2025-01-05 17:41:36 | INFO | train_inner | epoch 011:    197 / 331 loss=2.233, nll_loss=0.332, ppl=1.26, wps=3416.4, ups=1.53, wpb=2228.1, bsz=10.4, num_updates=3500, lr=1.01419e-05, gnorm=1.052, clip=100, loss_scale=1, train_wall=64, wall=2449\n",
            "2025-01-05 17:42:42 | INFO | train_inner | epoch 011:    297 / 331 loss=2.233, nll_loss=0.332, ppl=1.26, wps=3332.1, ups=1.52, wpb=2195.6, bsz=10.2, num_updates=3600, lr=1e-05, gnorm=0.997, clip=100, loss_scale=1, train_wall=65, wall=2515\n",
            "2025-01-05 17:43:05 | INFO | fairseq_cli.train | end of epoch 11 (average epoch stats below)\n",
            "2025-01-05 17:43:05 | INFO | train | epoch 011 | loss 2.234 | nll_loss 0.333 | ppl 1.26 | wps 3262.7 | ups 1.48 | wpb 2208.1 | bsz 10.3 | num_updates 3634 | lr 9.95311e-06 | gnorm 1.024 | clip 100 | loss_scale 1 | train_wall 217 | wall 2538\n",
            "2025-01-05 17:43:05 | INFO | fairseq.trainer | begin training epoch 12\n",
            "2025-01-05 17:43:57 | INFO | train_inner | epoch 012:     66 / 331 loss=2.229, nll_loss=0.328, ppl=1.26, wps=2936.6, ups=1.32, wpb=2216.4, bsz=10.6, num_updates=3700, lr=9.86394e-06, gnorm=0.983, clip=100, loss_scale=1, train_wall=67, wall=2590\n",
            "2025-01-05 17:45:01 | INFO | train_inner | epoch 012:    166 / 331 loss=2.223, nll_loss=0.322, ppl=1.25, wps=3434.3, ups=1.58, wpb=2180.2, bsz=10.4, num_updates=3800, lr=9.73329e-06, gnorm=1.014, clip=100, loss_scale=1, train_wall=62, wall=2654\n",
            "2025-01-05 17:46:06 | INFO | train_inner | epoch 012:    266 / 331 loss=2.227, nll_loss=0.328, ppl=1.25, wps=3350.6, ups=1.52, wpb=2197.2, bsz=10, num_updates=3900, lr=9.60769e-06, gnorm=1.044, clip=100, loss_scale=1, train_wall=64, wall=2719\n",
            "2025-01-05 17:46:49 | INFO | fairseq_cli.train | end of epoch 12 (average epoch stats below)\n",
            "2025-01-05 17:46:49 | INFO | train | epoch 012 | loss 2.225 | nll_loss 0.325 | ppl 1.25 | wps 3250.5 | ups 1.47 | wpb 2208.1 | bsz 10.3 | num_updates 3965 | lr 9.52861e-06 | gnorm 1.001 | clip 100 | loss_scale 1 | train_wall 214 | wall 2762\n",
            "2025-01-05 17:46:50 | INFO | fairseq.trainer | begin training epoch 13\n",
            "2025-01-05 17:47:19 | INFO | train_inner | epoch 013:     35 / 331 loss=2.221, nll_loss=0.321, ppl=1.25, wps=3068.9, ups=1.37, wpb=2240.3, bsz=10.2, num_updates=4000, lr=9.48683e-06, gnorm=0.952, clip=100, loss_scale=1, train_wall=67, wall=2792\n",
            "2025-01-05 17:48:26 | INFO | train_inner | epoch 013:    135 / 331 loss=2.218, nll_loss=0.318, ppl=1.25, wps=3328, ups=1.49, wpb=2230.4, bsz=10.3, num_updates=4100, lr=9.37043e-06, gnorm=0.999, clip=100, loss_scale=1, train_wall=66, wall=2859\n",
            "2025-01-05 17:49:31 | INFO | train_inner | epoch 013:    235 / 331 loss=2.219, nll_loss=0.32, ppl=1.25, wps=3407.6, ups=1.55, wpb=2191.6, bsz=10.1, num_updates=4200, lr=9.2582e-06, gnorm=0.968, clip=100, loss_scale=1, train_wall=63, wall=2924\n",
            "2025-01-05 17:50:33 | INFO | fairseq_cli.train | end of epoch 13 (average epoch stats below)\n",
            "2025-01-05 17:50:33 | INFO | train | epoch 013 | loss 2.216 | nll_loss 0.316 | ppl 1.25 | wps 3270.2 | ups 1.48 | wpb 2208.1 | bsz 10.3 | num_updates 4296 | lr 9.15417e-06 | gnorm 0.983 | clip 100 | loss_scale 1 | train_wall 215 | wall 2986\n",
            "2025-01-05 17:50:33 | INFO | fairseq.trainer | begin training epoch 14\n",
            "2025-01-05 17:50:42 | INFO | train_inner | epoch 014:      4 / 331 loss=2.211, nll_loss=0.311, ppl=1.24, wps=3087.2, ups=1.4, wpb=2199.5, bsz=10.2, num_updates=4300, lr=9.14991e-06, gnorm=0.984, clip=100, loss_scale=1, train_wall=65, wall=2995\n",
            "2025-01-05 17:51:47 | INFO | train_inner | epoch 014:    104 / 331 loss=2.212, nll_loss=0.312, ppl=1.24, wps=3409, ups=1.54, wpb=2211.8, bsz=10.2, num_updates=4400, lr=9.04534e-06, gnorm=0.931, clip=100, loss_scale=1, train_wall=64, wall=3060\n",
            "2025-01-05 17:52:53 | INFO | train_inner | epoch 014:    204 / 331 loss=2.209, nll_loss=0.31, ppl=1.24, wps=3392.2, ups=1.51, wpb=2250.5, bsz=9.9, num_updates=4500, lr=8.94427e-06, gnorm=0.94, clip=100, loss_scale=1, train_wall=65, wall=3126\n",
            "2025-01-05 17:53:58 | INFO | train_inner | epoch 014:    304 / 331 loss=2.207, nll_loss=0.308, ppl=1.24, wps=3340.1, ups=1.54, wpb=2163.8, bsz=10.7, num_updates=4600, lr=8.84652e-06, gnorm=0.92, clip=100, loss_scale=1, train_wall=64, wall=3191\n",
            "2025-01-05 17:54:15 | INFO | fairseq_cli.train | end of epoch 14 (average epoch stats below)\n",
            "2025-01-05 17:54:15 | INFO | train | epoch 014 | loss 2.209 | nll_loss 0.31 | ppl 1.24 | wps 3291.2 | ups 1.49 | wpb 2208.1 | bsz 10.3 | num_updates 4627 | lr 8.82067e-06 | gnorm 0.926 | clip 100 | loss_scale 1 | train_wall 214 | wall 3208\n",
            "2025-01-05 17:54:15 | INFO | fairseq.trainer | begin training epoch 15\n",
            "2025-01-05 17:55:09 | INFO | train_inner | epoch 015:     73 / 331 loss=2.204, nll_loss=0.304, ppl=1.23, wps=3099.6, ups=1.41, wpb=2200.8, bsz=10.8, num_updates=4700, lr=8.7519e-06, gnorm=0.931, clip=100, loss_scale=1, train_wall=66, wall=3262\n",
            "2025-01-05 17:56:15 | INFO | train_inner | epoch 015:    173 / 331 loss=2.202, nll_loss=0.303, ppl=1.23, wps=3449.9, ups=1.52, wpb=2267.3, bsz=10.3, num_updates=4800, lr=8.66025e-06, gnorm=0.919, clip=100, loss_scale=1, train_wall=65, wall=3328\n",
            "2025-01-05 17:57:19 | INFO | train_inner | epoch 015:    273 / 331 loss=2.204, nll_loss=0.305, ppl=1.24, wps=3381, ups=1.56, wpb=2172.6, bsz=10, num_updates=4900, lr=8.57143e-06, gnorm=0.932, clip=100, loss_scale=1, train_wall=63, wall=3392\n",
            "2025-01-05 17:57:57 | INFO | fairseq_cli.train | end of epoch 15 (average epoch stats below)\n",
            "2025-01-05 17:57:57 | INFO | train | epoch 015 | loss 2.203 | nll_loss 0.304 | ppl 1.23 | wps 3296.7 | ups 1.49 | wpb 2208.1 | bsz 10.3 | num_updates 4958 | lr 8.52115e-06 | gnorm 0.931 | clip 100 | loss_scale 1 | train_wall 215 | wall 3430\n",
            "2025-01-05 17:57:57 | INFO | fairseq.trainer | begin training epoch 16\n",
            "2025-01-05 17:58:32 | INFO | train_inner | epoch 016:     42 / 331 loss=2.2, nll_loss=0.302, ppl=1.23, wps=3023.9, ups=1.37, wpb=2202, bsz=9.9, num_updates=5000, lr=8.48528e-06, gnorm=0.91, clip=100, loss_scale=1, train_wall=69, wall=3465\n",
            "2025-01-05 17:59:37 | INFO | train_inner | epoch 016:    142 / 331 loss=2.196, nll_loss=0.298, ppl=1.23, wps=3351.4, ups=1.53, wpb=2187.6, bsz=10.4, num_updates=5100, lr=8.40168e-06, gnorm=0.923, clip=100, loss_scale=1, train_wall=64, wall=3530\n",
            "2025-01-05 18:00:41 | INFO | train_inner | epoch 016:    242 / 331 loss=2.197, nll_loss=0.299, ppl=1.23, wps=3446.7, ups=1.55, wpb=2221.4, bsz=10.2, num_updates=5200, lr=8.3205e-06, gnorm=0.894, clip=100, loss_scale=1, train_wall=63, wall=3594\n",
            "2025-01-05 18:01:39 | INFO | fairseq_cli.train | end of epoch 16 (average epoch stats below)\n",
            "2025-01-05 18:01:39 | INFO | train | epoch 016 | loss 2.197 | nll_loss 0.298 | ppl 1.23 | wps 3283.4 | ups 1.49 | wpb 2208.1 | bsz 10.3 | num_updates 5289 | lr 8.2502e-06 | gnorm 0.908 | clip 100 | loss_scale 1 | train_wall 216 | wall 3652\n",
            "2025-01-05 18:01:39 | INFO | fairseq.trainer | begin training epoch 17\n",
            "2025-01-05 18:01:53 | INFO | train_inner | epoch 017:     11 / 331 loss=2.196, nll_loss=0.298, ppl=1.23, wps=2996.1, ups=1.39, wpb=2160.3, bsz=10.4, num_updates=5300, lr=8.24163e-06, gnorm=0.937, clip=100, loss_scale=1, train_wall=66, wall=3666\n",
            "2025-01-05 18:02:59 | INFO | train_inner | epoch 017:    111 / 331 loss=2.192, nll_loss=0.293, ppl=1.23, wps=3445.9, ups=1.54, wpb=2243.2, bsz=10.5, num_updates=5400, lr=8.16497e-06, gnorm=0.907, clip=100, loss_scale=1, train_wall=64, wall=3732\n",
            "2025-01-05 18:04:04 | INFO | train_inner | epoch 017:    211 / 331 loss=2.188, nll_loss=0.29, ppl=1.22, wps=3358.5, ups=1.53, wpb=2197.7, bsz=10.2, num_updates=5500, lr=8.0904e-06, gnorm=0.867, clip=100, loss_scale=1, train_wall=64, wall=3797\n",
            "2025-01-05 18:05:09 | INFO | train_inner | epoch 017:    311 / 331 loss=2.195, nll_loss=0.298, ppl=1.23, wps=3442.3, ups=1.55, wpb=2224.2, bsz=10.2, num_updates=5600, lr=8.01784e-06, gnorm=0.884, clip=100, loss_scale=1, train_wall=64, wall=3862\n",
            "2025-01-05 18:05:22 | INFO | fairseq_cli.train | end of epoch 17 (average epoch stats below)\n",
            "2025-01-05 18:05:22 | INFO | train | epoch 017 | loss 2.192 | nll_loss 0.293 | ppl 1.23 | wps 3288.4 | ups 1.49 | wpb 2208.1 | bsz 10.3 | num_updates 5620 | lr 8.00356e-06 | gnorm 0.891 | clip 100 | loss_scale 1 | train_wall 213 | wall 3875\n",
            "2025-01-05 18:05:22 | INFO | fairseq.trainer | begin training epoch 18\n",
            "2025-01-05 18:06:20 | INFO | train_inner | epoch 018:     80 / 331 loss=2.19, nll_loss=0.292, ppl=1.22, wps=3063.1, ups=1.41, wpb=2178.7, bsz=10.4, num_updates=5700, lr=7.94719e-06, gnorm=0.882, clip=100, loss_scale=1, train_wall=66, wall=3933\n",
            "2025-01-05 18:07:24 | INFO | train_inner | epoch 018:    180 / 331 loss=2.184, nll_loss=0.285, ppl=1.22, wps=3460.4, ups=1.56, wpb=2212.4, bsz=10.4, num_updates=5800, lr=7.87839e-06, gnorm=0.832, clip=100, loss_scale=1, train_wall=63, wall=3997\n",
            "2025-01-05 18:08:29 | INFO | train_inner | epoch 018:    280 / 331 loss=2.187, nll_loss=0.289, ppl=1.22, wps=3408.1, ups=1.54, wpb=2218.6, bsz=10.3, num_updates=5900, lr=7.81133e-06, gnorm=0.926, clip=100, loss_scale=1, train_wall=64, wall=4062\n",
            "2025-01-05 18:09:03 | INFO | fairseq_cli.train | end of epoch 18 (average epoch stats below)\n",
            "2025-01-05 18:09:03 | INFO | train | epoch 018 | loss 2.187 | nll_loss 0.289 | ppl 1.22 | wps 3298.8 | ups 1.49 | wpb 2208.1 | bsz 10.3 | num_updates 5951 | lr 7.77779e-06 | gnorm 0.875 | clip 100 | loss_scale 1 | train_wall 214 | wall 4096\n",
            "2025-01-05 18:09:03 | INFO | fairseq.trainer | begin training epoch 19\n",
            "2025-01-05 18:09:42 | INFO | train_inner | epoch 019:     49 / 331 loss=2.183, nll_loss=0.287, ppl=1.22, wps=3053.7, ups=1.37, wpb=2225.4, bsz=9.6, num_updates=6000, lr=7.74597e-06, gnorm=0.836, clip=100, loss_scale=1, train_wall=68, wall=4135\n",
            "2025-01-05 18:10:47 | INFO | train_inner | epoch 019:    149 / 331 loss=2.184, nll_loss=0.287, ppl=1.22, wps=3366.1, ups=1.54, wpb=2186.7, bsz=10.6, num_updates=6100, lr=7.68221e-06, gnorm=0.876, clip=100, loss_scale=1, train_wall=64, wall=4200\n",
            "2025-01-05 18:11:52 | INFO | train_inner | epoch 019:    249 / 331 loss=2.182, nll_loss=0.284, ppl=1.22, wps=3382.2, ups=1.52, wpb=2221, bsz=10.6, num_updates=6200, lr=7.62001e-06, gnorm=0.875, clip=100, loss_scale=1, train_wall=65, wall=4265\n",
            "2025-01-05 18:12:46 | INFO | fairseq_cli.train | end of epoch 19 (average epoch stats below)\n",
            "2025-01-05 18:12:46 | INFO | train | epoch 019 | loss 2.182 | nll_loss 0.285 | ppl 1.22 | wps 3285.2 | ups 1.49 | wpb 2208.1 | bsz 10.3 | num_updates 6282 | lr 7.57011e-06 | gnorm 0.866 | clip 100 | loss_scale 1 | train_wall 215 | wall 4319\n",
            "2025-01-05 18:12:46 | INFO | fairseq.trainer | begin training epoch 20\n",
            "2025-01-05 18:13:05 | INFO | train_inner | epoch 020:     18 / 331 loss=2.179, nll_loss=0.282, ppl=1.22, wps=3044.3, ups=1.37, wpb=2217.9, bsz=9.6, num_updates=6300, lr=7.55929e-06, gnorm=0.865, clip=100, loss_scale=1, train_wall=66, wall=4338\n",
            "2025-01-05 18:14:10 | INFO | train_inner | epoch 020:    118 / 331 loss=2.179, nll_loss=0.282, ppl=1.22, wps=3403, ups=1.54, wpb=2205.5, bsz=10.4, num_updates=6400, lr=7.5e-06, gnorm=0.852, clip=100, loss_scale=1, train_wall=64, wall=4403\n",
            "2025-01-05 18:15:14 | INFO | train_inner | epoch 020:    218 / 331 loss=2.176, nll_loss=0.278, ppl=1.21, wps=3458.9, ups=1.55, wpb=2226.9, bsz=10.4, num_updates=6500, lr=7.44208e-06, gnorm=0.864, clip=100, loss_scale=1, train_wall=63, wall=4467\n",
            "2025-01-05 18:16:19 | INFO | train_inner | epoch 020:    318 / 331 loss=2.179, nll_loss=0.282, ppl=1.22, wps=3355.1, ups=1.54, wpb=2183.5, bsz=10.3, num_updates=6600, lr=7.38549e-06, gnorm=0.865, clip=100, loss_scale=1, train_wall=64, wall=4532\n",
            "2025-01-05 18:16:29 | INFO | fairseq_cli.train | begin validation on \"valid\" subset\n",
            "2025-01-05 18:16:52 | INFO | valid | epoch 020 | valid on 'valid' subset | loss 2.25 | nll_loss 0.304 | ppl 1.23 | wps 7615.7 | wpb 2200.4 | bsz 10.1 | num_updates 6613\n",
            "2025-01-05 18:16:52 | INFO | fairseq_cli.train | begin save checkpoint\n",
            "2025-01-05 18:17:54 | INFO | fairseq_cli.train | saved checkpoint checkpoints/checkpoint20.pt (epoch 20 @ 6613 updates, score 2.25) (writing took 61.727306786000554 seconds)\n",
            "2025-01-05 18:17:54 | INFO | fairseq_cli.train | end of epoch 20 (average epoch stats below)\n",
            "2025-01-05 18:17:54 | INFO | train | epoch 020 | loss 2.177 | nll_loss 0.28 | ppl 1.21 | wps 2371.5 | ups 1.07 | wpb 2208.1 | bsz 10.3 | num_updates 6613 | lr 7.37823e-06 | gnorm 0.861 | clip 100 | loss_scale 1 | train_wall 214 | wall 4627\n",
            "2025-01-05 18:17:54 | INFO | fairseq.trainer | begin training epoch 21\n",
            "2025-01-05 18:18:57 | INFO | train_inner | epoch 021:     87 / 331 loss=2.17, nll_loss=0.273, ppl=1.21, wps=1405.4, ups=0.63, wpb=2217.3, bsz=9.7, num_updates=6700, lr=7.33017e-06, gnorm=0.866, clip=100, loss_scale=1, train_wall=68, wall=4690\n",
            "2025-01-05 18:20:03 | INFO | train_inner | epoch 021:    187 / 331 loss=2.176, nll_loss=0.279, ppl=1.21, wps=3289.5, ups=1.51, wpb=2172.2, bsz=10, num_updates=6800, lr=7.27607e-06, gnorm=0.871, clip=100, loss_scale=1, train_wall=65, wall=4756\n",
            "2025-01-05 18:21:08 | INFO | train_inner | epoch 021:    287 / 331 loss=2.176, nll_loss=0.279, ppl=1.21, wps=3465.2, ups=1.55, wpb=2235, bsz=10.7, num_updates=6900, lr=7.22315e-06, gnorm=0.894, clip=100, loss_scale=1, train_wall=64, wall=4821\n",
            "2025-01-05 18:21:35 | INFO | fairseq_cli.train | end of epoch 21 (average epoch stats below)\n",
            "2025-01-05 18:21:35 | INFO | train | epoch 021 | loss 2.174 | nll_loss 0.277 | ppl 1.21 | wps 3301.1 | ups 1.49 | wpb 2208.1 | bsz 10.3 | num_updates 6944 | lr 7.20023e-06 | gnorm 0.872 | clip 100 | loss_scale 1 | train_wall 215 | wall 4848\n",
            "2025-01-05 18:21:35 | INFO | fairseq.trainer | begin training epoch 22\n",
            "2025-01-05 18:22:18 | INFO | train_inner | epoch 022:     56 / 331 loss=2.172, nll_loss=0.275, ppl=1.21, wps=3154.4, ups=1.43, wpb=2213.1, bsz=10.4, num_updates=7000, lr=7.17137e-06, gnorm=0.862, clip=100, loss_scale=1, train_wall=66, wall=4891\n",
            "2025-01-05 18:23:23 | INFO | train_inner | epoch 022:    156 / 331 loss=2.175, nll_loss=0.279, ppl=1.21, wps=3411.8, ups=1.53, wpb=2233.8, bsz=10.4, num_updates=7100, lr=7.12069e-06, gnorm=0.883, clip=100, loss_scale=1, train_wall=64, wall=4956\n",
            "2025-01-05 18:24:30 | INFO | train_inner | epoch 022:    256 / 331 loss=2.167, nll_loss=0.27, ppl=1.21, wps=3377.4, ups=1.51, wpb=2235.8, bsz=9.8, num_updates=7200, lr=7.07107e-06, gnorm=0.819, clip=100, loss_scale=1, train_wall=65, wall=5023\n",
            "2025-01-05 18:25:17 | INFO | fairseq_cli.train | end of epoch 22 (average epoch stats below)\n",
            "2025-01-05 18:25:17 | INFO | train | epoch 022 | loss 2.17 | nll_loss 0.274 | ppl 1.21 | wps 3295.8 | ups 1.49 | wpb 2208.1 | bsz 10.3 | num_updates 7275 | lr 7.03452e-06 | gnorm 0.856 | clip 100 | loss_scale 1 | train_wall 215 | wall 5070\n",
            "2025-01-05 18:25:17 | INFO | fairseq.trainer | begin training epoch 23\n",
            "2025-01-05 18:25:41 | INFO | train_inner | epoch 023:     25 / 331 loss=2.171, nll_loss=0.275, ppl=1.21, wps=2984.3, ups=1.39, wpb=2145.6, bsz=10.7, num_updates=7300, lr=7.02247e-06, gnorm=0.855, clip=100, loss_scale=1, train_wall=68, wall=5094\n",
            "2025-01-05 18:26:46 | INFO | train_inner | epoch 023:    125 / 331 loss=2.164, nll_loss=0.267, ppl=1.2, wps=3425.9, ups=1.55, wpb=2210.4, bsz=10.2, num_updates=7400, lr=6.97486e-06, gnorm=0.844, clip=100, loss_scale=1, train_wall=64, wall=5159\n",
            "2025-01-05 18:27:52 | INFO | train_inner | epoch 023:    225 / 331 loss=2.168, nll_loss=0.272, ppl=1.21, wps=3357, ups=1.51, wpb=2227.1, bsz=10.5, num_updates=7500, lr=6.9282e-06, gnorm=0.807, clip=100, loss_scale=1, train_wall=65, wall=5225\n",
            "2025-01-05 18:28:56 | INFO | train_inner | epoch 023:    325 / 331 loss=2.167, nll_loss=0.271, ppl=1.21, wps=3475.7, ups=1.58, wpb=2203.5, bsz=10.1, num_updates=7600, lr=6.88247e-06, gnorm=0.854, clip=100, loss_scale=1, train_wall=63, wall=5289\n",
            "2025-01-05 18:28:59 | INFO | fairseq_cli.train | end of epoch 23 (average epoch stats below)\n",
            "2025-01-05 18:28:59 | INFO | train | epoch 023 | loss 2.167 | nll_loss 0.271 | ppl 1.21 | wps 3286 | ups 1.49 | wpb 2208.1 | bsz 10.3 | num_updates 7606 | lr 6.87976e-06 | gnorm 0.837 | clip 100 | loss_scale 1 | train_wall 216 | wall 5292\n",
            "2025-01-05 18:29:00 | INFO | fairseq.trainer | begin training epoch 24\n",
            "2025-01-05 18:30:07 | INFO | train_inner | epoch 024:     94 / 331 loss=2.163, nll_loss=0.266, ppl=1.2, wps=3059.1, ups=1.4, wpb=2180.1, bsz=10.4, num_updates=7700, lr=6.83763e-06, gnorm=0.825, clip=100, loss_scale=1, train_wall=67, wall=5360\n",
            "2025-01-05 18:31:12 | INFO | train_inner | epoch 024:    194 / 331 loss=2.165, nll_loss=0.268, ppl=1.2, wps=3453.5, ups=1.55, wpb=2233.6, bsz=10.5, num_updates=7800, lr=6.79366e-06, gnorm=0.866, clip=100, loss_scale=1, train_wall=64, wall=5425\n",
            "2025-01-05 18:32:16 | INFO | train_inner | epoch 024:    294 / 331 loss=2.165, nll_loss=0.269, ppl=1.21, wps=3401.1, ups=1.55, wpb=2193.9, bsz=10.3, num_updates=7900, lr=6.75053e-06, gnorm=0.851, clip=100, loss_scale=1, train_wall=64, wall=5489\n",
            "2025-01-05 18:32:41 | INFO | fairseq_cli.train | end of epoch 24 (average epoch stats below)\n",
            "2025-01-05 18:32:41 | INFO | train | epoch 024 | loss 2.164 | nll_loss 0.267 | ppl 1.2 | wps 3301.4 | ups 1.5 | wpb 2208.1 | bsz 10.3 | num_updates 7937 | lr 6.73477e-06 | gnorm 0.841 | clip 100 | loss_scale 1 | train_wall 215 | wall 5514\n",
            "2025-01-05 18:32:41 | INFO | fairseq.trainer | begin training epoch 25\n",
            "2025-01-05 18:33:30 | INFO | train_inner | epoch 025:     63 / 331 loss=2.161, nll_loss=0.265, ppl=1.2, wps=3070.9, ups=1.35, wpb=2273.2, bsz=10.2, num_updates=8000, lr=6.7082e-06, gnorm=0.777, clip=100, loss_scale=1, train_wall=67, wall=5563\n",
            "2025-01-05 18:33:30 | INFO | fairseq_cli.train | begin validation on \"valid\" subset\n",
            "2025-01-05 18:33:55 | INFO | valid | epoch 025 | valid on 'valid' subset | loss 2.255 | nll_loss 0.31 | ppl 1.24 | wps 7971.6 | wpb 2200.4 | bsz 10.1 | num_updates 8000\n",
            "2025-01-05 18:33:55 | INFO | fairseq_cli.train | begin save checkpoint\n",
            "2025-01-05 18:34:30 | INFO | fairseq_cli.train | saved checkpoint checkpoints/checkpoint_last.pt (epoch 25 @ 8000 updates, score 2.255) (writing took 35.43097307300013 seconds)\n",
            "2025-01-05 18:34:30 | INFO | fairseq_cli.train | end of epoch 25 (average epoch stats below)\n",
            "2025-01-05 18:34:30 | INFO | train | epoch 025 | loss 2.163 | nll_loss 0.267 | ppl 1.2 | wps 1330.1 | ups 0.58 | wpb 2304.1 | bsz 10.5 | num_updates 8000 | lr 6.7082e-06 | gnorm 0.767 | clip 100 | loss_scale 1 | train_wall 43 | wall 5623\n",
            "2025-01-05 18:34:30 | INFO | fairseq_cli.train | done training in 5621.3 seconds\n",
            "-rw-r--r-- 1 root root 1.9G Jan  5 18:34 checkpoints/checkpoint_25_8000.best_2.2550.pt\n",
            "-rw-r--r-- 1 root root 1.9G Jan  5 18:34 checkpoints/checkpoint_last.pt\n",
            "-rw-r--r-- 1 root root 1.9G Jan  5 18:17 checkpoints/checkpoint20.best_2.2500.pt\n",
            "-rw-r--r-- 1 root root 1.9G Jan  5 18:17 checkpoints/checkpoint_best.pt\n",
            "-rw-r--r-- 1 root root 1.9G Jan  5 18:17 checkpoints/checkpoint20.pt\n",
            "-rw-r--r-- 1 root root 1.9G Jan  5 17:39 checkpoints/checkpoint10.best_2.2750.pt\n",
            "-rw-r--r-- 1 root root 1.9G Jan  5 17:38 checkpoints/checkpoint10.pt\n",
            "checkpoints/checkpoint_25_8000.best_2.2550.pt checkpoints/checkpoint20.best_2.2500.pt checkpoints/checkpoint10.best_2.2750.pt\n",
            "Namespace(checkpoint_upper_bound=None, inputs=['checkpoints/checkpoint_25_8000.best_2.2550.pt', 'checkpoints/checkpoint20.best_2.2500.pt', 'checkpoints/checkpoint10.best_2.2750.pt'], num_epoch_checkpoints=None, num_update_checkpoints=None, output='checkpoints/checkpoint_average_best-3.pt')\n",
            "scripts/eval/average_checkpoints.py:32: FutureWarning: You are using `torch.load` with `weights_only=False` (the current default value), which uses the default pickle module implicitly. It is possible to construct malicious pickle data which will execute arbitrary code during unpickling (See https://github.com/pytorch/pytorch/blob/main/SECURITY.md#untrusted-models for more details). In a future release, the default value for `weights_only` will be flipped to `True`. This limits the functions that could be executed during unpickling. Arbitrary objects will no longer be allowed to be loaded via this mode unless they are explicitly allowlisted by the user via `torch.serialization.add_safe_globals`. We recommend you start setting `weights_only=True` for any use case where you don't have full control of the loaded file. Please open an issue on GitHub for any issues related to this experimental feature.\n",
            "  state = torch.load(\n",
            "Finished writing averaged checkpoint to checkpoints/checkpoint_average_best-3.pt\n"
          ]
        }
      ]
    },
    {
      "cell_type": "code",
      "source": [
        "%cd /content/fairseq/\n",
        "!python setup.py build_ext --inplace\n",
        "\n"
      ],
      "metadata": {
        "colab": {
          "base_uri": "https://localhost:8080/"
        },
        "id": "k4uU8A7ZZbgX",
        "outputId": "33093392-cf63-4e7c-9d17-34ff238817c9"
      },
      "execution_count": 28,
      "outputs": [
        {
          "output_type": "stream",
          "name": "stdout",
          "text": [
            "/content/fairseq\n",
            "running build_ext\n",
            "/usr/local/lib/python3.8/dist-packages/torch/utils/cpp_extension.py:495: UserWarning: Attempted to use ninja as the BuildExtension backend but we could not find ninja.. Falling back to using the slow distutils backend.\n",
            "  warnings.warn(msg.format('we could not find ninja.'))\n",
            "building 'fairseq.data.data_utils_fast' extension\n",
            "x86_64-linux-gnu-gcc -Wno-unused-result -Wsign-compare -DNDEBUG -g -fwrapv -O2 -Wall -g -fstack-protector-strong -Wformat -Werror=format-security -g -fwrapv -O2 -g -fstack-protector-strong -Wformat -Werror=format-security -Wdate-time -D_FORTIFY_SOURCE=2 -fPIC -I/usr/local/lib/python3.8/dist-packages/numpy/core/include -I/usr/local/lib/python3.8/dist-packages/numpy/core/include -I/usr/include/python3.8 -c fairseq/data/data_utils_fast.cpp -o build/temp.linux-x86_64-3.8/fairseq/data/data_utils_fast.o -std=c++11 -O3 -DTORCH_API_INCLUDE_EXTENSION_H -DPYBIND11_COMPILER_TYPE=\"_gcc\" -DPYBIND11_STDLIB=\"_libstdcpp\" -DPYBIND11_BUILD_ABI=\"_cxxabi1011\" -DTORCH_EXTENSION_NAME=data_utils_fast -D_GLIBCXX_USE_CXX11_ABI=0\n",
            "In file included from \u001b[01m\u001b[K/usr/local/lib/python3.8/dist-packages/numpy/core/include/numpy/ndarraytypes.h:1944\u001b[m\u001b[K,\n",
            "                 from \u001b[01m\u001b[K/usr/local/lib/python3.8/dist-packages/numpy/core/include/numpy/ndarrayobject.h:12\u001b[m\u001b[K,\n",
            "                 from \u001b[01m\u001b[K/usr/local/lib/python3.8/dist-packages/numpy/core/include/numpy/arrayobject.h:4\u001b[m\u001b[K,\n",
            "                 from \u001b[01m\u001b[Kfairseq/data/data_utils_fast.cpp:1267\u001b[m\u001b[K:\n",
            "\u001b[01m\u001b[K/usr/local/lib/python3.8/dist-packages/numpy/core/include/numpy/npy_1_7_deprecated_api.h:17:2:\u001b[m\u001b[K \u001b[01;35m\u001b[Kwarning: \u001b[m\u001b[K#warning \"Using deprecated NumPy API, disable it with \" \"#define NPY_NO_DEPRECATED_API NPY_1_7_API_VERSION\" [\u001b[01;35m\u001b[K\u001b]8;;https://gcc.gnu.org/onlinedocs/gcc/Warning-Options.html#index-Wcpp\u0007-Wcpp\u001b]8;;\u0007\u001b[m\u001b[K]\n",
            "   17 | #\u001b[01;35m\u001b[Kwarning\u001b[m\u001b[K \"Using deprecated NumPy API, disable it with \" \\\n",
            "      |  \u001b[01;35m\u001b[K^~~~~~~\u001b[m\u001b[K\n",
            "x86_64-linux-gnu-g++ -shared -Wl,-O1 -Wl,-Bsymbolic-functions -Wl,-Bsymbolic-functions -g -fwrapv -O2 -Wl,-Bsymbolic-functions -g -fwrapv -O2 -g -fstack-protector-strong -Wformat -Werror=format-security -Wdate-time -D_FORTIFY_SOURCE=2 -fPIC build/temp.linux-x86_64-3.8/fairseq/data/data_utils_fast.o -o build/lib.linux-x86_64-3.8/fairseq/data/data_utils_fast.cpython-38-x86_64-linux-gnu.so\n",
            "building 'fairseq.data.token_block_utils_fast' extension\n",
            "x86_64-linux-gnu-gcc -Wno-unused-result -Wsign-compare -DNDEBUG -g -fwrapv -O2 -Wall -g -fstack-protector-strong -Wformat -Werror=format-security -g -fwrapv -O2 -g -fstack-protector-strong -Wformat -Werror=format-security -Wdate-time -D_FORTIFY_SOURCE=2 -fPIC -I/usr/local/lib/python3.8/dist-packages/numpy/core/include -I/usr/local/lib/python3.8/dist-packages/numpy/core/include -I/usr/include/python3.8 -c fairseq/data/token_block_utils_fast.cpp -o build/temp.linux-x86_64-3.8/fairseq/data/token_block_utils_fast.o -std=c++11 -O3 -DTORCH_API_INCLUDE_EXTENSION_H -DPYBIND11_COMPILER_TYPE=\"_gcc\" -DPYBIND11_STDLIB=\"_libstdcpp\" -DPYBIND11_BUILD_ABI=\"_cxxabi1011\" -DTORCH_EXTENSION_NAME=token_block_utils_fast -D_GLIBCXX_USE_CXX11_ABI=0\n",
            "In file included from \u001b[01m\u001b[K/usr/local/lib/python3.8/dist-packages/numpy/core/include/numpy/ndarraytypes.h:1944\u001b[m\u001b[K,\n",
            "                 from \u001b[01m\u001b[K/usr/local/lib/python3.8/dist-packages/numpy/core/include/numpy/ndarrayobject.h:12\u001b[m\u001b[K,\n",
            "                 from \u001b[01m\u001b[K/usr/local/lib/python3.8/dist-packages/numpy/core/include/numpy/arrayobject.h:4\u001b[m\u001b[K,\n",
            "                 from \u001b[01m\u001b[Kfairseq/data/token_block_utils_fast.cpp:1268\u001b[m\u001b[K:\n",
            "\u001b[01m\u001b[K/usr/local/lib/python3.8/dist-packages/numpy/core/include/numpy/npy_1_7_deprecated_api.h:17:2:\u001b[m\u001b[K \u001b[01;35m\u001b[Kwarning: \u001b[m\u001b[K#warning \"Using deprecated NumPy API, disable it with \" \"#define NPY_NO_DEPRECATED_API NPY_1_7_API_VERSION\" [\u001b[01;35m\u001b[K\u001b]8;;https://gcc.gnu.org/onlinedocs/gcc/Warning-Options.html#index-Wcpp\u0007-Wcpp\u001b]8;;\u0007\u001b[m\u001b[K]\n",
            "   17 | #\u001b[01;35m\u001b[Kwarning\u001b[m\u001b[K \"Using deprecated NumPy API, disable it with \" \\\n",
            "      |  \u001b[01;35m\u001b[K^~~~~~~\u001b[m\u001b[K\n",
            "x86_64-linux-gnu-g++ -shared -Wl,-O1 -Wl,-Bsymbolic-functions -Wl,-Bsymbolic-functions -g -fwrapv -O2 -Wl,-Bsymbolic-functions -g -fwrapv -O2 -g -fstack-protector-strong -Wformat -Werror=format-security -Wdate-time -D_FORTIFY_SOURCE=2 -fPIC build/temp.linux-x86_64-3.8/fairseq/data/token_block_utils_fast.o -o build/lib.linux-x86_64-3.8/fairseq/data/token_block_utils_fast.cpython-38-x86_64-linux-gnu.so\n",
            "copying build/lib.linux-x86_64-3.8/fairseq/libbleu.cpython-38-x86_64-linux-gnu.so -> fairseq\n",
            "copying build/lib.linux-x86_64-3.8/fairseq/data/data_utils_fast.cpython-38-x86_64-linux-gnu.so -> fairseq/data\n",
            "copying build/lib.linux-x86_64-3.8/fairseq/data/token_block_utils_fast.cpython-38-x86_64-linux-gnu.so -> fairseq/data\n",
            "copying build/lib.linux-x86_64-3.8/fairseq/libnat.cpython-38-x86_64-linux-gnu.so -> fairseq\n"
          ]
        }
      ]
    },
    {
      "cell_type": "code",
      "source": [
        "!cp /content/text_to_table/checkpoints/checkpoint_average_best-3.pt /content/drive/MyDrive/\n"
      ],
      "metadata": {
        "id": "sGw9HXenwMQO"
      },
      "execution_count": null,
      "outputs": []
    },
    {
      "cell_type": "code",
      "source": [
        "!pip install --upgrade numpy\n"
      ],
      "metadata": {
        "colab": {
          "base_uri": "https://localhost:8080/"
        },
        "id": "CfvxW9hCRqiz",
        "outputId": "cc6a6396-850a-4abc-e233-0c1956d3ef42"
      },
      "execution_count": 17,
      "outputs": [
        {
          "output_type": "stream",
          "name": "stdout",
          "text": [
            "Requirement already satisfied: numpy in /usr/local/lib/python3.8/dist-packages (1.20.0)\n",
            "Collecting numpy\n",
            "  Obtaining dependency information for numpy from https://files.pythonhosted.org/packages/98/5d/5738903efe0ecb73e51eb44feafba32bdba2081263d40c5043568ff60faf/numpy-1.24.4-cp38-cp38-manylinux_2_17_x86_64.manylinux2014_x86_64.whl.metadata\n",
            "  Using cached numpy-1.24.4-cp38-cp38-manylinux_2_17_x86_64.manylinux2014_x86_64.whl.metadata (5.6 kB)\n",
            "Using cached numpy-1.24.4-cp38-cp38-manylinux_2_17_x86_64.manylinux2014_x86_64.whl (17.3 MB)\n",
            "\u001b[33mDEPRECATION: bert-score 0.3.11 has a non-standard dependency specifier transformers>=3.0.0numpy. pip 23.3 will enforce this behaviour change. A possible replacement is to upgrade to a newer version of bert-score or contact the author to suggest that they release a version with a conforming dependency specifiers. Discussion can be found at https://github.com/pypa/pip/issues/12063\u001b[0m\u001b[33m\n",
            "\u001b[0mInstalling collected packages: numpy\n",
            "  Attempting uninstall: numpy\n",
            "    Found existing installation: numpy 1.20.0\n",
            "    Uninstalling numpy-1.20.0:\n",
            "      Successfully uninstalled numpy-1.20.0\n",
            "Successfully installed numpy-1.24.4\n"
          ]
        }
      ]
    },
    {
      "cell_type": "code",
      "source": [
        "!pip install --upgrade numpy\n"
      ],
      "metadata": {
        "colab": {
          "base_uri": "https://localhost:8080/"
        },
        "id": "UnApmai1STjo",
        "outputId": "5a94bd53-0157-430d-db89-fa91c1a572e3"
      },
      "execution_count": 21,
      "outputs": [
        {
          "output_type": "stream",
          "name": "stdout",
          "text": [
            "Requirement already satisfied: numpy in /usr/local/lib/python3.8/dist-packages (1.20.0)\n",
            "Collecting numpy\n",
            "  Obtaining dependency information for numpy from https://files.pythonhosted.org/packages/98/5d/5738903efe0ecb73e51eb44feafba32bdba2081263d40c5043568ff60faf/numpy-1.24.4-cp38-cp38-manylinux_2_17_x86_64.manylinux2014_x86_64.whl.metadata\n",
            "  Using cached numpy-1.24.4-cp38-cp38-manylinux_2_17_x86_64.manylinux2014_x86_64.whl.metadata (5.6 kB)\n",
            "Using cached numpy-1.24.4-cp38-cp38-manylinux_2_17_x86_64.manylinux2014_x86_64.whl (17.3 MB)\n",
            "\u001b[33mDEPRECATION: bert-score 0.3.11 has a non-standard dependency specifier transformers>=3.0.0numpy. pip 23.3 will enforce this behaviour change. A possible replacement is to upgrade to a newer version of bert-score or contact the author to suggest that they release a version with a conforming dependency specifiers. Discussion can be found at https://github.com/pypa/pip/issues/12063\u001b[0m\u001b[33m\n",
            "\u001b[0mInstalling collected packages: numpy\n",
            "  Attempting uninstall: numpy\n",
            "    Found existing installation: numpy 1.20.0\n",
            "    Uninstalling numpy-1.20.0:\n",
            "      Successfully uninstalled numpy-1.20.0\n",
            "Successfully installed numpy-1.24.4\n"
          ]
        }
      ]
    },
    {
      "cell_type": "code",
      "source": [
        "!pip install --upgrade numpy\n",
        "\n"
      ],
      "metadata": {
        "colab": {
          "base_uri": "https://localhost:8080/"
        },
        "id": "XBNInDpXZjSm",
        "outputId": "ebf9b27e-6080-431e-f9b9-66852ccf2645"
      },
      "execution_count": 31,
      "outputs": [
        {
          "output_type": "stream",
          "name": "stdout",
          "text": [
            "Requirement already satisfied: numpy in /usr/local/lib/python3.8/dist-packages (1.20.0)\n",
            "Collecting numpy\n",
            "  Obtaining dependency information for numpy from https://files.pythonhosted.org/packages/98/5d/5738903efe0ecb73e51eb44feafba32bdba2081263d40c5043568ff60faf/numpy-1.24.4-cp38-cp38-manylinux_2_17_x86_64.manylinux2014_x86_64.whl.metadata\n",
            "  Using cached numpy-1.24.4-cp38-cp38-manylinux_2_17_x86_64.manylinux2014_x86_64.whl.metadata (5.6 kB)\n",
            "Using cached numpy-1.24.4-cp38-cp38-manylinux_2_17_x86_64.manylinux2014_x86_64.whl (17.3 MB)\n",
            "\u001b[33mDEPRECATION: bert-score 0.3.11 has a non-standard dependency specifier transformers>=3.0.0numpy. pip 23.3 will enforce this behaviour change. A possible replacement is to upgrade to a newer version of bert-score or contact the author to suggest that they release a version with a conforming dependency specifiers. Discussion can be found at https://github.com/pypa/pip/issues/12063\u001b[0m\u001b[33m\n",
            "\u001b[0mInstalling collected packages: numpy\n",
            "  Attempting uninstall: numpy\n",
            "    Found existing installation: numpy 1.20.0\n",
            "    Uninstalling numpy-1.20.0:\n",
            "      Successfully uninstalled numpy-1.20.0\n",
            "Successfully installed numpy-1.24.4\n"
          ]
        }
      ]
    },
    {
      "cell_type": "code",
      "source": [
        "%cd /content/text_to_table\n",
        "!bash scripts/rotowire/test_constraint.sh data/rotowire/ /content/drive/MyDrive/checkpoint_average_best-3.pt"
      ],
      "metadata": {
        "colab": {
          "base_uri": "https://localhost:8080/"
        },
        "id": "cpvIt6ZmwQkf",
        "outputId": "f69d5af1-2e41-4393-b292-b2a49ec7a29b"
      },
      "execution_count": null,
      "outputs": [
        {
          "output_type": "stream",
          "name": "stdout",
          "text": [
            "/content/text_to_table\n",
            "/content/fairseq/fairseq/checkpoint_utils.py:224: FutureWarning: You are using `torch.load` with `weights_only=False` (the current default value), which uses the default pickle module implicitly. It is possible to construct malicious pickle data which will execute arbitrary code during unpickling (See https://github.com/pytorch/pytorch/blob/main/SECURITY.md#untrusted-models for more details). In a future release, the default value for `weights_only` will be flipped to `True`. This limits the functions that could be executed during unpickling. Arbitrary objects will no longer be allowed to be loaded via this mode unless they are explicitly allowlisted by the user via `torch.serialization.add_safe_globals`. We recommend you start setting `weights_only=True` for any use case where you don't have full control of the loaded file. Please open an issue on GitHub for any issues related to this experimental feature.\n",
            "  state = torch.load(\n",
            "Team table wrong format:\n",
            "Args Namespace(col_header=True, hyp='/content/drive/MyDrive/checkpoint_average_best-3.pt.test_constrained.out.text', row_header=True, table_name='Team', tgt='data/rotowire//test.data')\n",
            "Wrong format: 0 / 687 (0.00%)\n",
            "Team table E metric:\n",
            "Args Namespace(col_header=True, hyp='/content/drive/MyDrive/checkpoint_average_best-3.pt.test_constrained.out.text', metric='E', row_header=True, table_name='Team', tgt='data/rotowire//test.data')\n",
            "100% 728/728 [00:00<00:00, 3589.46it/s]\n",
            "Row header: precision = 94.54; recall = 93.74; f1 = 93.79\n",
            "Col header: precision = 89.18; recall = 85.01; f1 = 85.85\n",
            "Non-header cell: precision = 84.27; recall = 83.60; f1 = 83.02\n",
            "Team table c metric:\n",
            "Args Namespace(col_header=True, hyp='/content/drive/MyDrive/checkpoint_average_best-3.pt.test_constrained.out.text', metric='c', row_header=True, table_name='Team', tgt='data/rotowire//test.data')\n",
            "100% 728/728 [00:00<00:00, 976.82it/s] \n",
            "Row header: precision = 94.71; recall = 93.95; f1 = 94.03\n",
            "Col header: precision = 91.07; recall = 87.74; f1 = 88.57\n",
            "Non-header cell: precision = 85.39; recall = 84.53; f1 = 84.08\n",
            "Team table BS-scaled metric:\n",
            "Args Namespace(col_header=True, hyp='/content/drive/MyDrive/checkpoint_average_best-3.pt.test_constrained.out.text', metric='BS-scaled', row_header=True, table_name='Team', tgt='data/rotowire//test.data')\n",
            "  0% 0/728 [00:00<?, ?it/s]/usr/local/lib/python3.8/dist-packages/transformers/modeling_utils.py:856: FutureWarning: You are using `torch.load` with `weights_only=False` (the current default value), which uses the default pickle module implicitly. It is possible to construct malicious pickle data which will execute arbitrary code during unpickling (See https://github.com/pytorch/pytorch/blob/main/SECURITY.md#untrusted-models for more details). In a future release, the default value for `weights_only` will be flipped to `True`. This limits the functions that could be executed during unpickling. Arbitrary objects will no longer be allowed to be loaded via this mode unless they are explicitly allowlisted by the user via `torch.serialization.add_safe_globals`. We recommend you start setting `weights_only=True` for any use case where you don't have full control of the loaded file. Please open an issue on GitHub for any issues related to this experimental feature.\n",
            "  state_dict = torch.load(resolved_archive_file, map_location=\"cpu\")\n",
            "/usr/local/lib/python3.8/dist-packages/transformers/tokenization_utils_base.py:1319: FutureWarning: The `max_len` attribute has been deprecated and will be removed in a future version, use `model_max_length` instead.\n",
            "  warnings.warn(\n",
            "/usr/local/lib/python3.8/dist-packages/transformers/tokenization_utils_base.py:1319: FutureWarning: The `max_len` attribute has been deprecated and will be removed in a future version, use `model_max_length` instead.\n",
            "  warnings.warn(\n",
            " 14% 101/728 [01:30<04:43,  2.21it/s]"
          ]
        }
      ]
    },
    {
      "cell_type": "code",
      "source": [
        "!pip install --editable .\n"
      ],
      "metadata": {
        "colab": {
          "base_uri": "https://localhost:8080/"
        },
        "id": "6-jmRvWiZeGC",
        "outputId": "c7a58588-0931-4ab9-ec45-eea16383711d"
      },
      "execution_count": null,
      "outputs": [
        {
          "output_type": "stream",
          "name": "stdout",
          "text": [
            "Obtaining file:///content/text_to_table\n",
            "\u001b[31mERROR: file:///content/text_to_table does not appear to be a Python project: neither 'setup.py' nor 'pyproject.toml' found.\u001b[0m\u001b[31m\n",
            "\u001b[0m"
          ]
        }
      ]
    },
    {
      "cell_type": "code",
      "source": [
        "%cd /content\n",
        "\n",
        "! echo $PYTHONPATH\n",
        "\n",
        "import os\n",
        "os.environ['PYTHONPATH'] += \":/content/fairseq/\"\n",
        "\n",
        "! echo $PYTHONPATH\n"
      ],
      "metadata": {
        "colab": {
          "base_uri": "https://localhost:8080/"
        },
        "id": "dlPMK2qXvR37",
        "outputId": "011d5a48-556c-4193-832a-94055536a86d"
      },
      "execution_count": null,
      "outputs": [
        {
          "output_type": "stream",
          "name": "stdout",
          "text": [
            "/content\n",
            "/env/python\n",
            "/env/python:/content/fairseq/\n"
          ]
        }
      ]
    },
    {
      "cell_type": "code",
      "source": [
        "import torch"
      ],
      "metadata": {
        "id": "o1GPFW-zVM4Q"
      },
      "execution_count": null,
      "outputs": []
    },
    {
      "cell_type": "code",
      "source": [
        "!pip install bert-score==0.3.13\n",
        "\n"
      ],
      "metadata": {
        "colab": {
          "base_uri": "https://localhost:8080/"
        },
        "id": "xxRbDgjtkUbx",
        "outputId": "90148b4a-6bff-426c-e61e-24c98861fee7"
      },
      "execution_count": null,
      "outputs": [
        {
          "output_type": "stream",
          "name": "stdout",
          "text": [
            "Collecting bert-score==0.3.13\n",
            "  Obtaining dependency information for bert-score==0.3.13 from https://files.pythonhosted.org/packages/c6/8c/bc5457de4c004b1a623b31f7bc8d0375fb699b7d67df11879098b4b7b7c8/bert_score-0.3.13-py3-none-any.whl.metadata\n",
            "  Downloading bert_score-0.3.13-py3-none-any.whl.metadata (15 kB)\n",
            "Requirement already satisfied: torch>=1.0.0 in /usr/local/lib/python3.8/dist-packages (from bert-score==0.3.13) (2.4.1)\n",
            "Requirement already satisfied: pandas>=1.0.1 in /usr/local/lib/python3.8/dist-packages (from bert-score==0.3.13) (2.0.3)\n",
            "Requirement already satisfied: transformers>=3.0.0 in /usr/local/lib/python3.8/dist-packages (from bert-score==0.3.13) (3.1.0)\n",
            "Requirement already satisfied: numpy in /usr/local/lib/python3.8/dist-packages (from bert-score==0.3.13) (1.20.0)\n",
            "Requirement already satisfied: requests in /usr/local/lib/python3.8/dist-packages (from bert-score==0.3.13) (2.32.3)\n",
            "Requirement already satisfied: tqdm>=4.31.1 in /usr/local/lib/python3.8/dist-packages (from bert-score==0.3.13) (4.67.1)\n",
            "Requirement already satisfied: matplotlib in /usr/local/lib/python3.8/dist-packages (from bert-score==0.3.13) (3.7.5)\n",
            "Requirement already satisfied: packaging>=20.9 in /usr/local/lib/python3.8/dist-packages (from bert-score==0.3.13) (24.2)\n",
            "Requirement already satisfied: python-dateutil>=2.8.2 in /usr/local/lib/python3.8/dist-packages (from pandas>=1.0.1->bert-score==0.3.13) (2.9.0.post0)\n",
            "Requirement already satisfied: pytz>=2020.1 in /usr/local/lib/python3.8/dist-packages (from pandas>=1.0.1->bert-score==0.3.13) (2024.2)\n",
            "Requirement already satisfied: tzdata>=2022.1 in /usr/local/lib/python3.8/dist-packages (from pandas>=1.0.1->bert-score==0.3.13) (2024.2)\n",
            "Collecting numpy (from bert-score==0.3.13)\n",
            "  Obtaining dependency information for numpy from https://files.pythonhosted.org/packages/98/5d/5738903efe0ecb73e51eb44feafba32bdba2081263d40c5043568ff60faf/numpy-1.24.4-cp38-cp38-manylinux_2_17_x86_64.manylinux2014_x86_64.whl.metadata\n",
            "  Using cached numpy-1.24.4-cp38-cp38-manylinux_2_17_x86_64.manylinux2014_x86_64.whl.metadata (5.6 kB)\n",
            "Requirement already satisfied: filelock in /usr/local/lib/python3.8/dist-packages (from torch>=1.0.0->bert-score==0.3.13) (3.16.1)\n",
            "Requirement already satisfied: typing-extensions>=4.8.0 in /usr/local/lib/python3.8/dist-packages (from torch>=1.0.0->bert-score==0.3.13) (4.12.2)\n",
            "Requirement already satisfied: sympy in /usr/local/lib/python3.8/dist-packages (from torch>=1.0.0->bert-score==0.3.13) (1.13.3)\n",
            "Requirement already satisfied: networkx in /usr/local/lib/python3.8/dist-packages (from torch>=1.0.0->bert-score==0.3.13) (3.1)\n",
            "Requirement already satisfied: jinja2 in /usr/local/lib/python3.8/dist-packages (from torch>=1.0.0->bert-score==0.3.13) (3.1.5)\n",
            "Requirement already satisfied: fsspec in /usr/local/lib/python3.8/dist-packages (from torch>=1.0.0->bert-score==0.3.13) (2024.12.0)\n",
            "Requirement already satisfied: nvidia-cuda-nvrtc-cu12==12.1.105 in /usr/local/lib/python3.8/dist-packages (from torch>=1.0.0->bert-score==0.3.13) (12.1.105)\n",
            "Requirement already satisfied: nvidia-cuda-runtime-cu12==12.1.105 in /usr/local/lib/python3.8/dist-packages (from torch>=1.0.0->bert-score==0.3.13) (12.1.105)\n",
            "Requirement already satisfied: nvidia-cuda-cupti-cu12==12.1.105 in /usr/local/lib/python3.8/dist-packages (from torch>=1.0.0->bert-score==0.3.13) (12.1.105)\n",
            "Requirement already satisfied: nvidia-cudnn-cu12==9.1.0.70 in /usr/local/lib/python3.8/dist-packages (from torch>=1.0.0->bert-score==0.3.13) (9.1.0.70)\n",
            "Requirement already satisfied: nvidia-cublas-cu12==12.1.3.1 in /usr/local/lib/python3.8/dist-packages (from torch>=1.0.0->bert-score==0.3.13) (12.1.3.1)\n",
            "Requirement already satisfied: nvidia-cufft-cu12==11.0.2.54 in /usr/local/lib/python3.8/dist-packages (from torch>=1.0.0->bert-score==0.3.13) (11.0.2.54)\n",
            "Requirement already satisfied: nvidia-curand-cu12==10.3.2.106 in /usr/local/lib/python3.8/dist-packages (from torch>=1.0.0->bert-score==0.3.13) (10.3.2.106)\n",
            "Requirement already satisfied: nvidia-cusolver-cu12==11.4.5.107 in /usr/local/lib/python3.8/dist-packages (from torch>=1.0.0->bert-score==0.3.13) (11.4.5.107)\n",
            "Requirement already satisfied: nvidia-cusparse-cu12==12.1.0.106 in /usr/local/lib/python3.8/dist-packages (from torch>=1.0.0->bert-score==0.3.13) (12.1.0.106)\n",
            "Requirement already satisfied: nvidia-nccl-cu12==2.20.5 in /usr/local/lib/python3.8/dist-packages (from torch>=1.0.0->bert-score==0.3.13) (2.20.5)\n",
            "Requirement already satisfied: nvidia-nvtx-cu12==12.1.105 in /usr/local/lib/python3.8/dist-packages (from torch>=1.0.0->bert-score==0.3.13) (12.1.105)\n",
            "Requirement already satisfied: triton==3.0.0 in /usr/local/lib/python3.8/dist-packages (from torch>=1.0.0->bert-score==0.3.13) (3.0.0)\n",
            "Requirement already satisfied: nvidia-nvjitlink-cu12 in /usr/local/lib/python3.8/dist-packages (from nvidia-cusolver-cu12==11.4.5.107->torch>=1.0.0->bert-score==0.3.13) (12.6.85)\n",
            "Requirement already satisfied: tokenizers==0.8.1.rc2 in /usr/local/lib/python3.8/dist-packages (from transformers>=3.0.0->bert-score==0.3.13) (0.8.1rc2)\n",
            "Requirement already satisfied: regex!=2019.12.17 in /usr/local/lib/python3.8/dist-packages (from transformers>=3.0.0->bert-score==0.3.13) (2024.11.6)\n",
            "Requirement already satisfied: sentencepiece!=0.1.92 in /usr/local/lib/python3.8/dist-packages (from transformers>=3.0.0->bert-score==0.3.13) (0.2.0)\n",
            "Requirement already satisfied: sacremoses in /usr/local/lib/python3.8/dist-packages (from transformers>=3.0.0->bert-score==0.3.13) (0.1.1)\n",
            "Requirement already satisfied: contourpy>=1.0.1 in /usr/local/lib/python3.8/dist-packages (from matplotlib->bert-score==0.3.13) (1.1.1)\n",
            "Requirement already satisfied: cycler>=0.10 in /usr/local/lib/python3.8/dist-packages (from matplotlib->bert-score==0.3.13) (0.12.1)\n",
            "Requirement already satisfied: fonttools>=4.22.0 in /usr/local/lib/python3.8/dist-packages (from matplotlib->bert-score==0.3.13) (4.55.3)\n",
            "Requirement already satisfied: kiwisolver>=1.0.1 in /usr/local/lib/python3.8/dist-packages (from matplotlib->bert-score==0.3.13) (1.4.7)\n",
            "Requirement already satisfied: pillow>=6.2.0 in /usr/local/lib/python3.8/dist-packages (from matplotlib->bert-score==0.3.13) (10.4.0)\n",
            "Requirement already satisfied: pyparsing>=2.3.1 in /usr/lib/python3/dist-packages (from matplotlib->bert-score==0.3.13) (2.4.7)\n",
            "Requirement already satisfied: importlib-resources>=3.2.0 in /usr/local/lib/python3.8/dist-packages (from matplotlib->bert-score==0.3.13) (6.4.5)\n",
            "Requirement already satisfied: charset-normalizer<4,>=2 in /usr/local/lib/python3.8/dist-packages (from requests->bert-score==0.3.13) (3.4.1)\n",
            "Requirement already satisfied: idna<4,>=2.5 in /usr/local/lib/python3.8/dist-packages (from requests->bert-score==0.3.13) (3.10)\n",
            "Requirement already satisfied: urllib3<3,>=1.21.1 in /usr/local/lib/python3.8/dist-packages (from requests->bert-score==0.3.13) (2.2.3)\n",
            "Requirement already satisfied: certifi>=2017.4.17 in /usr/local/lib/python3.8/dist-packages (from requests->bert-score==0.3.13) (2024.12.14)\n",
            "Requirement already satisfied: zipp>=3.1.0 in /usr/local/lib/python3.8/dist-packages (from importlib-resources>=3.2.0->matplotlib->bert-score==0.3.13) (3.20.2)\n",
            "Requirement already satisfied: six>=1.5 in /usr/lib/python3/dist-packages (from python-dateutil>=2.8.2->pandas>=1.0.1->bert-score==0.3.13) (1.16.0)\n",
            "Requirement already satisfied: MarkupSafe>=2.0 in /usr/local/lib/python3.8/dist-packages (from jinja2->torch>=1.0.0->bert-score==0.3.13) (2.1.5)\n",
            "Requirement already satisfied: click in /usr/local/lib/python3.8/dist-packages (from sacremoses->transformers>=3.0.0->bert-score==0.3.13) (8.1.8)\n",
            "Requirement already satisfied: joblib in /usr/local/lib/python3.8/dist-packages (from sacremoses->transformers>=3.0.0->bert-score==0.3.13) (1.4.2)\n",
            "Requirement already satisfied: mpmath<1.4,>=1.1.0 in /usr/local/lib/python3.8/dist-packages (from sympy->torch>=1.0.0->bert-score==0.3.13) (1.3.0)\n",
            "Downloading bert_score-0.3.13-py3-none-any.whl (61 kB)\n",
            "\u001b[2K   \u001b[90m━━━━━━━━━━━━━━━━━━━━━━━━━━━━━━━━━━━━━━━━\u001b[0m \u001b[32m61.1/61.1 kB\u001b[0m \u001b[31m3.7 MB/s\u001b[0m eta \u001b[36m0:00:00\u001b[0m\n",
            "\u001b[?25hUsing cached numpy-1.24.4-cp38-cp38-manylinux_2_17_x86_64.manylinux2014_x86_64.whl (17.3 MB)\n",
            "Installing collected packages: numpy, bert-score\n",
            "  Attempting uninstall: numpy\n",
            "    Found existing installation: numpy 1.20.0\n",
            "    Uninstalling numpy-1.20.0:\n",
            "      Successfully uninstalled numpy-1.20.0\n",
            "  Attempting uninstall: bert-score\n",
            "    Found existing installation: bert-score 0.3.11\n",
            "    Uninstalling bert-score-0.3.11:\n",
            "      Successfully uninstalled bert-score-0.3.11\n",
            "Successfully installed bert-score-0.3.13 numpy-1.24.4\n"
          ]
        }
      ]
    },
    {
      "cell_type": "code",
      "source": [
        "!git clone https://github.com/shirley-wu/text_to_table.git\n"
      ],
      "metadata": {
        "colab": {
          "base_uri": "https://localhost:8080/"
        },
        "id": "S_Ib_YjzvttP",
        "outputId": "58aaa6ee-612c-4eee-894c-903f5fd6d681"
      },
      "execution_count": null,
      "outputs": [
        {
          "output_type": "stream",
          "name": "stdout",
          "text": [
            "Cloning into 'text_to_table'...\n",
            "remote: Enumerating objects: 126, done.\u001b[K\n",
            "remote: Counting objects: 100% (126/126), done.\u001b[K\n",
            "remote: Compressing objects: 100% (88/88), done.\u001b[K\n",
            "remote: Total 126 (delta 53), reused 92 (delta 33), pack-reused 0 (from 0)\u001b[K\n",
            "Receiving objects: 100% (126/126), 58.59 KiB | 487.00 KiB/s, done.\n",
            "Resolving deltas: 100% (53/53), done.\n"
          ]
        }
      ]
    },
    {
      "cell_type": "code",
      "source": [
        "%cd text_to_table\n"
      ],
      "metadata": {
        "colab": {
          "base_uri": "https://localhost:8080/"
        },
        "id": "xyW6K-vJvtv4",
        "outputId": "f0742b7f-3c86-46df-9b6f-d9ac77e22355"
      },
      "execution_count": null,
      "outputs": [
        {
          "output_type": "stream",
          "name": "stdout",
          "text": [
            "/content/text_to_table\n"
          ]
        }
      ]
    },
    {
      "cell_type": "code",
      "source": [
        "!apt-get install -y build-essential libomp-dev\n"
      ],
      "metadata": {
        "colab": {
          "base_uri": "https://localhost:8080/"
        },
        "id": "2cXIc0A1vtzc",
        "outputId": "878687c6-53f9-42ee-aadb-41df56f68d2c"
      },
      "execution_count": null,
      "outputs": [
        {
          "output_type": "stream",
          "name": "stdout",
          "text": [
            "Reading package lists... Done\n",
            "Building dependency tree... Done\n",
            "Reading state information... Done\n",
            "build-essential is already the newest version (12.9ubuntu3).\n",
            "The following additional packages will be installed:\n",
            "  libomp-14-dev libomp5-14\n",
            "Suggested packages:\n",
            "  libomp-14-doc\n",
            "The following NEW packages will be installed:\n",
            "  libomp-14-dev libomp-dev libomp5-14\n",
            "0 upgraded, 3 newly installed, 0 to remove and 49 not upgraded.\n",
            "Need to get 738 kB of archives.\n",
            "After this operation, 8,991 kB of additional disk space will be used.\n",
            "Get:1 http://archive.ubuntu.com/ubuntu jammy-updates/universe amd64 libomp5-14 amd64 1:14.0.0-1ubuntu1.1 [389 kB]\n",
            "Get:2 http://archive.ubuntu.com/ubuntu jammy-updates/universe amd64 libomp-14-dev amd64 1:14.0.0-1ubuntu1.1 [347 kB]\n",
            "Get:3 http://archive.ubuntu.com/ubuntu jammy/universe amd64 libomp-dev amd64 1:14.0-55~exp2 [3,074 B]\n",
            "Fetched 738 kB in 1s (1,098 kB/s)\n",
            "Selecting previously unselected package libomp5-14:amd64.\n",
            "(Reading database ... 123634 files and directories currently installed.)\n",
            "Preparing to unpack .../libomp5-14_1%3a14.0.0-1ubuntu1.1_amd64.deb ...\n",
            "Unpacking libomp5-14:amd64 (1:14.0.0-1ubuntu1.1) ...\n",
            "Selecting previously unselected package libomp-14-dev.\n",
            "Preparing to unpack .../libomp-14-dev_1%3a14.0.0-1ubuntu1.1_amd64.deb ...\n",
            "Unpacking libomp-14-dev (1:14.0.0-1ubuntu1.1) ...\n",
            "Selecting previously unselected package libomp-dev:amd64.\n",
            "Preparing to unpack .../libomp-dev_1%3a14.0-55~exp2_amd64.deb ...\n",
            "Unpacking libomp-dev:amd64 (1:14.0-55~exp2) ...\n",
            "Setting up libomp5-14:amd64 (1:14.0.0-1ubuntu1.1) ...\n",
            "Setting up libomp-14-dev (1:14.0.0-1ubuntu1.1) ...\n",
            "Setting up libomp-dev:amd64 (1:14.0-55~exp2) ...\n",
            "Processing triggers for libc-bin (2.35-0ubuntu3.4) ...\n",
            "/sbin/ldconfig.real: /usr/local/lib/libur_loader.so.0 is not a symbolic link\n",
            "\n",
            "/sbin/ldconfig.real: /usr/local/lib/libtbb.so.12 is not a symbolic link\n",
            "\n",
            "/sbin/ldconfig.real: /usr/local/lib/libur_adapter_opencl.so.0 is not a symbolic link\n",
            "\n",
            "/sbin/ldconfig.real: /usr/local/lib/libtbbbind_2_5.so.3 is not a symbolic link\n",
            "\n",
            "/sbin/ldconfig.real: /usr/local/lib/libtcm.so.1 is not a symbolic link\n",
            "\n",
            "/sbin/ldconfig.real: /usr/local/lib/libtbbmalloc_proxy.so.2 is not a symbolic link\n",
            "\n",
            "/sbin/ldconfig.real: /usr/local/lib/libtbbmalloc.so.2 is not a symbolic link\n",
            "\n",
            "/sbin/ldconfig.real: /usr/local/lib/libhwloc.so.15 is not a symbolic link\n",
            "\n",
            "/sbin/ldconfig.real: /usr/local/lib/libtcm_debug.so.1 is not a symbolic link\n",
            "\n",
            "/sbin/ldconfig.real: /usr/local/lib/libtbbbind_2_0.so.3 is not a symbolic link\n",
            "\n",
            "/sbin/ldconfig.real: /usr/local/lib/libumf.so.0 is not a symbolic link\n",
            "\n",
            "/sbin/ldconfig.real: /usr/local/lib/libtbbbind.so.3 is not a symbolic link\n",
            "\n",
            "/sbin/ldconfig.real: /usr/local/lib/libur_adapter_level_zero.so.0 is not a symbolic link\n",
            "\n"
          ]
        }
      ]
    },
    {
      "cell_type": "code",
      "source": [
        "!pip install --upgrade pip setuptools wheel\n"
      ],
      "metadata": {
        "colab": {
          "base_uri": "https://localhost:8080/",
          "height": 495
        },
        "id": "vNoAOylVwAHj",
        "outputId": "ea3fb21c-cc7e-43e5-cdb6-7f0d39b42506"
      },
      "execution_count": null,
      "outputs": [
        {
          "output_type": "stream",
          "name": "stdout",
          "text": [
            "Requirement already satisfied: pip in /usr/local/lib/python3.10/dist-packages (24.1.2)\n",
            "Collecting pip\n",
            "  Downloading pip-24.3.1-py3-none-any.whl.metadata (3.7 kB)\n",
            "Requirement already satisfied: setuptools in /usr/local/lib/python3.10/dist-packages (75.1.0)\n",
            "Collecting setuptools\n",
            "  Using cached setuptools-75.6.0-py3-none-any.whl.metadata (6.7 kB)\n",
            "Requirement already satisfied: wheel in /usr/local/lib/python3.10/dist-packages (0.45.1)\n",
            "Downloading pip-24.3.1-py3-none-any.whl (1.8 MB)\n",
            "\u001b[2K   \u001b[90m━━━━━━━━━━━━━━━━━━━━━━━━━━━━━━━━━━━━━━━━\u001b[0m \u001b[32m1.8/1.8 MB\u001b[0m \u001b[31m27.6 MB/s\u001b[0m eta \u001b[36m0:00:00\u001b[0m\n",
            "\u001b[?25hUsing cached setuptools-75.6.0-py3-none-any.whl (1.2 MB)\n",
            "Installing collected packages: setuptools, pip\n",
            "  Attempting uninstall: setuptools\n",
            "    Found existing installation: setuptools 75.1.0\n",
            "    Uninstalling setuptools-75.1.0:\n",
            "      Successfully uninstalled setuptools-75.1.0\n",
            "  Attempting uninstall: pip\n",
            "    Found existing installation: pip 24.1.2\n",
            "    Uninstalling pip-24.1.2:\n",
            "      Successfully uninstalled pip-24.1.2\n",
            "\u001b[31mERROR: pip's dependency resolver does not currently take into account all the packages that are installed. This behaviour is the source of the following dependency conflicts.\n",
            "ipython 7.34.0 requires jedi>=0.16, which is not installed.\u001b[0m\u001b[31m\n",
            "\u001b[0mSuccessfully installed pip-24.3.1 setuptools-75.6.0\n"
          ]
        },
        {
          "output_type": "display_data",
          "data": {
            "application/vnd.colab-display-data+json": {
              "pip_warning": {
                "packages": [
                  "_distutils_hack",
                  "setuptools"
                ]
              },
              "id": "51043e58cb3f492794b42179ed213708"
            }
          },
          "metadata": {}
        }
      ]
    },
    {
      "cell_type": "code",
      "source": [
        "!git clone https://github.com/pytorch/fairseq.git\n",
        "%cd fairseq\n",
        "!pip install --editable ./\n"
      ],
      "metadata": {
        "colab": {
          "base_uri": "https://localhost:8080/"
        },
        "id": "MNCb0hY6wDy3",
        "outputId": "35ce2b94-f302-4575-800f-9c0f1b05ca65"
      },
      "execution_count": null,
      "outputs": [
        {
          "output_type": "stream",
          "name": "stdout",
          "text": [
            "Cloning into 'fairseq'...\n",
            "remote: Enumerating objects: 35385, done.\u001b[K\n",
            "remote: Counting objects: 100% (15/15), done.\u001b[K\n",
            "remote: Compressing objects: 100% (10/10), done.\u001b[K\n",
            "remote: Total 35385 (delta 6), reused 5 (delta 5), pack-reused 35370 (from 2)\u001b[K\n",
            "Receiving objects: 100% (35385/35385), 25.47 MiB | 15.90 MiB/s, done.\n",
            "Resolving deltas: 100% (25538/25538), done.\n",
            "/content/fairseq\n",
            "Obtaining file:///content/fairseq\n",
            "  Installing build dependencies ... \u001b[?25l\u001b[?25hcanceled\n",
            "Traceback (most recent call last):\n",
            "  File \"/usr/local/lib/python3.10/dist-packages/pip/_internal/cli/base_command.py\", line 105, in _run_wrapper\n",
            "    status = _inner_run()\n",
            "  File \"/usr/local/lib/python3.10/dist-packages/pip/_internal/cli/base_command.py\", line 96, in _inner_run\n",
            "    return self.run(options, args)\n",
            "  File \"/usr/local/lib/python3.10/dist-packages/pip/_internal/cli/req_command.py\", line 67, in wrapper\n",
            "    return func(self, options, args)\n",
            "  File \"/usr/local/lib/python3.10/dist-packages/pip/_internal/commands/install.py\", line 379, in run\n",
            "    requirement_set = resolver.resolve(\n",
            "  File \"/usr/local/lib/python3.10/dist-packages/pip/_internal/resolution/resolvelib/resolver.py\", line 76, in resolve\n",
            "    collected = self.factory.collect_root_requirements(root_reqs)\n",
            "  File \"/usr/local/lib/python3.10/dist-packages/pip/_internal/resolution/resolvelib/factory.py\", line 545, in collect_root_requirements\n",
            "    reqs = list(\n",
            "  File \"/usr/local/lib/python3.10/dist-packages/pip/_internal/resolution/resolvelib/factory.py\", line 501, in _make_requirements_from_install_req\n",
            "    cand = self._make_base_candidate_from_link(\n",
            "  File \"/usr/local/lib/python3.10/dist-packages/pip/_internal/resolution/resolvelib/factory.py\", line 212, in _make_base_candidate_from_link\n",
            "    self._editable_candidate_cache[link] = EditableCandidate(\n",
            "  File \"/usr/local/lib/python3.10/dist-packages/pip/_internal/resolution/resolvelib/candidates.py\", line 329, in __init__\n",
            "    super().__init__(\n",
            "  File \"/usr/local/lib/python3.10/dist-packages/pip/_internal/resolution/resolvelib/candidates.py\", line 159, in __init__\n",
            "    self.dist = self._prepare()\n",
            "  File \"/usr/local/lib/python3.10/dist-packages/pip/_internal/resolution/resolvelib/candidates.py\", line 236, in _prepare\n",
            "    dist = self._prepare_distribution()\n",
            "  File \"/usr/local/lib/python3.10/dist-packages/pip/_internal/resolution/resolvelib/candidates.py\", line 339, in _prepare_distribution\n",
            "    return self._factory.preparer.prepare_editable_requirement(self._ireq)\n",
            "  File \"/usr/local/lib/python3.10/dist-packages/pip/_internal/operations/prepare.py\", line 698, in prepare_editable_requirement\n",
            "    dist = _get_prepared_distribution(\n",
            "  File \"/usr/local/lib/python3.10/dist-packages/pip/_internal/operations/prepare.py\", line 72, in _get_prepared_distribution\n",
            "    abstract_dist.prepare_distribution_metadata(\n",
            "  File \"/usr/local/lib/python3.10/dist-packages/pip/_internal/distributions/sdist.py\", line 46, in prepare_distribution_metadata\n",
            "    self._prepare_build_backend(finder)\n",
            "  File \"/usr/local/lib/python3.10/dist-packages/pip/_internal/distributions/sdist.py\", line 78, in _prepare_build_backend\n",
            "    self.req.build_env.install_requirements(\n",
            "  File \"/usr/local/lib/python3.10/dist-packages/pip/_internal/build_env.py\", line 218, in install_requirements\n",
            "    self._install_requirements(\n",
            "  File \"/usr/local/lib/python3.10/dist-packages/pip/_internal/build_env.py\", line 283, in _install_requirements\n",
            "    call_subprocess(\n",
            "  File \"/usr/local/lib/python3.10/dist-packages/pip/_internal/utils/subprocess.py\", line 151, in call_subprocess\n",
            "    line: str = proc.stdout.readline()\n",
            "KeyboardInterrupt\n",
            "\n",
            "During handling of the above exception, another exception occurred:\n",
            "\n",
            "Traceback (most recent call last):\n",
            "  File \"/usr/local/bin/pip\", line 8, in <module>\n",
            "    sys.exit(main())\n",
            "  File \"/usr/local/lib/python3.10/dist-packages/pip/_internal/cli/main.py\", line 80, in main\n",
            "    return command.main(cmd_args)\n",
            "  File \"/usr/local/lib/python3.10/dist-packages/pip/_internal/cli/base_command.py\", line 157, in main\n",
            "    return self._main(args)\n",
            "  File \"/usr/local/lib/python3.10/dist-packages/pip/_internal/cli/base_command.py\", line 231, in _main\n",
            "    return self._run_wrapper(level_number, options, args)\n",
            "  File \"/usr/local/lib/python3.10/dist-packages/pip/_internal/cli/base_command.py\", line 141, in _run_wrapper\n",
            "    logger.critical(\"Operation cancelled by user\")\n",
            "  File \"/usr/lib/python3.10/logging/__init__.py\", line 1524, in critical\n",
            "    self._log(CRITICAL, msg, args, **kwargs)\n",
            "  File \"/usr/lib/python3.10/logging/__init__.py\", line 1624, in _log\n",
            "    self.handle(record)\n",
            "  File \"/usr/lib/python3.10/logging/__init__.py\", line 1634, in handle\n",
            "    self.callHandlers(record)\n",
            "  File \"/usr/lib/python3.10/logging/__init__.py\", line 1696, in callHandlers\n",
            "    hdlr.handle(record)\n",
            "  File \"/usr/lib/python3.10/logging/__init__.py\", line 968, in handle\n",
            "    self.emit(record)\n",
            "  File \"/usr/local/lib/python3.10/dist-packages/pip/_internal/utils/logging.py\", line 177, in emit\n",
            "    self.console.print(renderable, overflow=\"ignore\", crop=False, style=style)\n",
            "  File \"/usr/local/lib/python3.10/dist-packages/pip/_vendor/rich/console.py\", line 1703, in print\n",
            "    extend(\n",
            "  File \"/usr/local/lib/python3.10/dist-packages/pip/_vendor/rich/segment.py\", line 198, in <genexpr>\n",
            "    cls(text, None if control else apply(_style), control)\n",
            "KeyboardInterrupt\n",
            "^C\n"
          ]
        }
      ]
    }
  ]
}